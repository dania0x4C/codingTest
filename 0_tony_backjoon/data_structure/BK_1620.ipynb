{
 "cells": [
  {
   "cell_type": "code",
   "execution_count": null,
   "metadata": {},
   "outputs": [],
   "source": [
    "import sys\n",
    "\n",
    "N, M = map(int, sys.stdin.readline().strip().split())\n",
    "\n",
    "pocketmondack = {}\n",
    "reverse_pocketmondack = {}\n",
    "\n",
    "for i in range(1, N + 1):\n",
    "    name = sys.stdin.readline().strip()\n",
    "    pocketmondack[i] = name\n",
    "    reverse_pocketmondack[name] = i\n",
    "\n",
    "for _ in range(M):\n",
    "    question = sys.stdin.readline().strip()\n",
    "    \n",
    "    if question.isdigit():\n",
    "        print(pocketmondack[int(question)])\n",
    "    else:\n",
    "        print(reverse_pocketmondack[question])\n"
   ]
  },
  {
   "cell_type": "markdown",
   "metadata": {},
   "source": [
    "# 이론\n",
    "1. dictionary 사용\n",
    "원래는 dick item() 함수를 사용해서 값을 접근 하려고 했지만 시간 복잡도 문제로 해결 x\n",
    "2. list도 index() 함수가 위와 같은 문제로 해결 x\n",
    "\n",
    "# 문제해결\n",
    "최초에 그냥 reverse로 dack을 만들어서 빠른 시간으로 접근 시켰다\n"
   ]
  }
 ],
 "metadata": {
  "kernelspec": {
   "display_name": "Python 3",
   "language": "python",
   "name": "python3"
  },
  "language_info": {
   "codemirror_mode": {
    "name": "ipython",
    "version": 3
   },
   "file_extension": ".py",
   "mimetype": "text/x-python",
   "name": "python",
   "nbconvert_exporter": "python",
   "pygments_lexer": "ipython3",
   "version": "3.11.5"
  }
 },
 "nbformat": 4,
 "nbformat_minor": 2
}
