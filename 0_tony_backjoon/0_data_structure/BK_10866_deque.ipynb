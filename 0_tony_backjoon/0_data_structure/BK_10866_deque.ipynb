{
 "cells": [
  {
   "cell_type": "markdown",
   "metadata": {},
   "source": [
    "# 이론 \n",
    "- 코드는 앞의 것을 활용하면 됨\n",
    "- 큐와 스택이 둘다 가능한 자료구조"
   ]
  }
 ],
 "metadata": {
  "language_info": {
   "name": "python"
  }
 },
 "nbformat": 4,
 "nbformat_minor": 2
}
