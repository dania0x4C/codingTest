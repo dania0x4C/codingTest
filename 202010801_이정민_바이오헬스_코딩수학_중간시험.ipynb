{
 "cells": [
  {
   "cell_type": "markdown",
   "metadata": {},
   "source": [
    "# 1. 리스트 numpy 사용"
   ]
  },
  {
   "cell_type": "code",
   "execution_count": 19,
   "metadata": {},
   "outputs": [
    {
     "name": "stdout",
     "output_type": "stream",
     "text": [
      "0~100 사이의 숫자 5개를 입력하세요.\n",
      "user\n",
      "총합: 15\n",
      "평균: 3.0\n",
      "분산: 2.0\n",
      "표준편차: 1.4142135623730951\n",
      "computer\n",
      "총합: 18\n",
      "평균: 18.0\n",
      "분산: 0.0\n",
      "표준편차: 0.0\n"
     ]
    }
   ],
   "source": [
    "import numpy as np\n",
    "import random\n",
    "# 랜덤값 추가\n",
    "computer_input = random.randint(1, 100)\n",
    "# 사용자로부터 입력 5개 받기\n",
    "user_inputs = []\n",
    "print(\"0~100 사이의 숫자 5개를 입력하세요.\")\n",
    "for i in range(5):\n",
    "    while True:\n",
    "        try:\n",
    "            value = int(input(f\"{i+1}번째 숫자 입력: \"))\n",
    "            if 0 <= value <= 100:\n",
    "                user_inputs.append(value)\n",
    "                break\n",
    "            else:\n",
    "                print(\"0부터 100 사이의 정수만 입력 가능합니다.\")\n",
    "        except ValueError:\n",
    "            print(\"정수를 입력하세요.\")\n",
    "\n",
    "# 넘파이 배열 변환\n",
    "numpy_user_inputs = np.array(user_inputs)\n",
    "numpy_computer_input = np.array(computer_input)\n",
    "# 계산 결과 출력\n",
    "print(\"user\")\n",
    "print(\"총합:\", np.sum(numpy_user_inputs))\n",
    "print(\"평균:\", np.mean(numpy_user_inputs))\n",
    "print(\"분산:\", np.var(numpy_user_inputs))\n",
    "print(\"표준편차:\", np.std(numpy_user_inputs))\n",
    "print(\"computer\")\n",
    "print(\"총합:\", np.sum(numpy_computer_input))\n",
    "print(\"평균:\", np.mean(numpy_computer_input))\n",
    "print(\"분산:\", np.var(numpy_computer_input))\n",
    "print(\"표준편차:\", np.std(numpy_computer_input))\n"
   ]
  },
  {
   "cell_type": "markdown",
   "metadata": {},
   "source": [
    "# 2. 조건문, 반복문 사용"
   ]
  },
  {
   "cell_type": "code",
   "execution_count": 17,
   "metadata": {},
   "outputs": [
    {
     "name": "stdout",
     "output_type": "stream",
     "text": [
      "가위, 바위, 보 중 하나를 입력하세요. 종료하려면 0을 입력하세요.\n",
      "컴퓨터 입력: 바위\n",
      "컴퓨터 승\n",
      "\n",
      "게임 종료!\n",
      "최종 결과: 사용자 0승 1패 0무\n"
     ]
    }
   ],
   "source": [
    "import numpy as np\n",
    "import random\n",
    "\n",
    "win_count = 0\n",
    "lose_count = 0\n",
    "draw_count = 0\n",
    "\n",
    "print(\"가위, 바위, 보 중 하나를 입력하세요. 종료하려면 0을 입력하세요.\")\n",
    "\n",
    "while True:\n",
    "    user_input = input(\"사용자 입력: \").strip()\n",
    "\n",
    "    if user_input == \"0\":\n",
    "        print(f\"\\n게임 종료!\\n최종 결과: 사용자 {win_count}승 {lose_count}패 {draw_count}무\")\n",
    "        break\n",
    "\n",
    "    if user_input not in [\"가위\", \"바위\", \"보\"]:\n",
    "        print(\"잘못된 입력입니다. 다시 입력하세요.\")\n",
    "        continue\n",
    "\n",
    "    computer_input = random.choice([\"가위\", \"바위\", \"보\"])\n",
    "    print(f\"컴퓨터 입력: {computer_input}\")\n",
    "\n",
    "    if user_input == computer_input:\n",
    "        print(\"무승부\")\n",
    "        draw_count += 1\n",
    "    elif (user_input == \"가위\" and computer_input == \"보\") or \\\n",
    "         (user_input == \"바위\" and computer_input == \"가위\") or \\\n",
    "         (user_input == \"보\" and computer_input == \"바위\"):\n",
    "        print(\"사용자 승\")\n",
    "        win_count += 1\n",
    "    else:\n",
    "        print(\"컴퓨터 승\")\n",
    "        lose_count += 1"
   ]
  },
  {
   "cell_type": "markdown",
   "metadata": {},
   "source": [
    "# 3. 조건문, 반복문 사용"
   ]
  },
  {
   "cell_type": "code",
   "execution_count": 20,
   "metadata": {},
   "outputs": [
    {
     "name": "stdout",
     "output_type": "stream",
     "text": [
      "비만\n",
      "재측정\n"
     ]
    }
   ],
   "source": [
    "user_input = input(\"이름, 성별(남자, 여자), 허리둘레(cm), 엉덩이 둘레(cm), 신장(cm), 체중(Kg) 을 입력하세요.\").strip().split()\n",
    "WHR = float(user_input[2]) / float(user_input[3])\n",
    "BMI = float(user_input[4]) / (float(user_input[5]) ** 2)\n",
    "\n",
    "if user_input[1] == \"남자\":\n",
    "    if WHR >= 0.9:\n",
    "        print(\"비만\")\n",
    "    else:\n",
    "        print(\"정상\")\n",
    "elif user_input[1] == \"여자\":\n",
    "    if WHR >= 0.85:\n",
    "        print(\"비만\")\n",
    "    else:\n",
    "        print(\"정상\")\n",
    "\n",
    "if BMI >= 0 and BMI <= 19.9:\n",
    "    print(\"재측정\")\n",
    "elif BMI >= 20 and BMI <= 24.9:\n",
    "    print(\"정상\")\n",
    "elif BMI >= 25 and BMI <= 29.9:\n",
    "    print(\"과체중\")\n",
    "elif BMI >= 30:\n",
    "    print(\"비만\")"
   ]
  },
  {
   "cell_type": "markdown",
   "metadata": {},
   "source": [
    "# 4. 딕셔너리 사용"
   ]
  },
  {
   "cell_type": "code",
   "execution_count": 22,
   "metadata": {},
   "outputs": [
    {
     "name": "stdout",
     "output_type": "stream",
     "text": [
      "식도염(K20)에 걸린 환자:\n",
      "- 이정민\n",
      "- 이정현\n",
      "- 이정우\n",
      "이정민 환자의 질병은 식도염(K20)입니다.\n"
     ]
    }
   ],
   "source": [
    "disease_dict = {\n",
    "    \"K20\": \"식도염\", \"K21\": \"위-식도역류병\", \"K22\": \"식도의 기타 질환\", \"K23*\": \"달리 분류된 질환에서의 식도의 장애\",\n",
    "    \"K25\": \"위궤양\", \"K26\": \"십이지장궤양\", \"K27\": \"상세불명 부위의 소화성 궤양\", \"K28\": \"위공장궤양\",\n",
    "    \"K29\": \"위염 및 십이지장염\", \"K30\": \"기능성 소화불량\", \"K31\": \"위 및 십이지장의 기타 질환\"\n",
    "}\n",
    "\n",
    "user_dict = {}\n",
    "\n",
    "for _ in range(5):\n",
    "    name, code = input(\"환자 이름과 질병 코드를 입력하세요: \").strip().split()\n",
    "    if code not in user_dict:\n",
    "        user_dict[code] = []\n",
    "    user_dict[code].append(name)\n",
    "\n",
    "code_input = input(\"질병 코드를 입력하세요: \").strip()\n",
    "if code_input in disease_dict:\n",
    "    disease_name = disease_dict[code_input]\n",
    "    patients = user_dict.get(code_input, [])\n",
    "    if patients:\n",
    "        print(f\"{disease_name}({code_input})에 걸린 환자:\")\n",
    "        for name in patients:\n",
    "            print(\"-\", name)\n",
    "    else:\n",
    "        print(f\"{disease_name}({code_input})에 걸린 환자가 없습니다.\")\n",
    "else:\n",
    "    print(\"해당 질병 코드는 목록에 없습니다.\")\n",
    "\n",
    "name_input = input(\"환자 이름을 입력하세요: \").strip()\n",
    "found = False\n",
    "for code, names in user_dict.items():\n",
    "    if name_input in names:\n",
    "        print(f\"{name_input} 환자의 질병은 {disease_dict[code]}({code})입니다.\")\n",
    "        found = True\n",
    "if not found:\n",
    "    print(f\"{name_input} 환자 정보가 없습니다.\")"
   ]
  }
 ],
 "metadata": {
  "kernelspec": {
   "display_name": "Python 3",
   "language": "python",
   "name": "python3"
  },
  "language_info": {
   "codemirror_mode": {
    "name": "ipython",
    "version": 3
   },
   "file_extension": ".py",
   "mimetype": "text/x-python",
   "name": "python",
   "nbconvert_exporter": "python",
   "pygments_lexer": "ipython3",
   "version": "3.9.6"
  }
 },
 "nbformat": 4,
 "nbformat_minor": 2
}
