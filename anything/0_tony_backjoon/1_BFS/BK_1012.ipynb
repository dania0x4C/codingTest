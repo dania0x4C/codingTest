{
 "cells": [
  {
   "cell_type": "code",
   "execution_count": null,
   "metadata": {},
   "outputs": [],
   "source": [
    "import sys\n",
    "\n",
    "T = int(sys.stdin.readline().strip())\n",
    "\n",
    "def findCabbage(i, depthX, depthY):\n",
    "        \n",
    "    if(Field[Cabbage[i][0] + depthX][Cabbage[i][1]] == 1):\n",
    "        Cabbage.remove([Cabbage[i][0] + 1, Cabbage[i][1]])\n",
    "        findCabbage(i, depthX + 1, depthY)\n",
    "\n",
    "    elif(Field[Cabbage[i][0]][Cabbage[i][1] + depthY] == 1):\n",
    "        Cabbage.remove([Cabbage[i][0], Cabbage[i][1] + 1])\n",
    "        findCabbage(i, depthX, depthY + 1)\n",
    "\n",
    "    else:\n",
    "        return 1    \n",
    "\n",
    "for _ in range(T):\n",
    "    M, N, K = map(int, sys.stdin.readline().strip().split())\n",
    "    Field = [[0] * M for _ in range(N)]\n",
    "    Cabbage = []\n",
    "    count = 0\n",
    "    for _ in range(K):\n",
    "        X, Y = map(int, sys.stdin.readline().strip().split())\n",
    "        Field[Y][X] = 1\n",
    "        Cabbage.append([Y, X])\n",
    "\n",
    "    for i in range(K):\n",
    "        depthX = 1\n",
    "        depthY = 1\n",
    "        count += findCabbage(i, depthX, depthY)\n",
    "\n",
    "    print(count)"
   ]
  },
  {
   "cell_type": "markdown",
   "metadata": {},
   "source": [
    "----"
   ]
  },
  {
   "cell_type": "markdown",
   "metadata": {},
   "source": [
    "# 정답"
   ]
  },
  {
   "cell_type": "code",
   "execution_count": null,
   "metadata": {},
   "outputs": [],
   "source": [
    "import sys\n",
    "from collections import deque\n",
    "\n",
    "input = sys.stdin.read\n",
    "data = input().split()\n",
    "\n",
    "idx = 0\n",
    "T = int(data[idx])\n",
    "idx += 1\n",
    "\n",
    "def bfs(start, field, visited, M, N):\n",
    "    queue = deque([start])\n",
    "    directions = [(-1, 0), (1, 0), (0, -1), (0, 1)]  # 상하좌우 방향 이동\n",
    "    while queue:\n",
    "        y, x = queue.popleft()\n",
    "        for dy, dx in directions:\n",
    "            ny, nx = y + dy, x + dx\n",
    "            if 0 <= ny < N and 0 <= nx < M and not visited[ny][nx] and field[ny][nx] == 1:\n",
    "                visited[ny][nx] = True\n",
    "                queue.append((ny, nx))\n",
    "\n",
    "results = []\n",
    "for _ in range(T):\n",
    "    M = int(data[idx])\n",
    "    N = int(data[idx + 1])\n",
    "    K = int(data[idx + 2])\n",
    "    idx += 3\n",
    "    field = [[0] * M for _ in range(N)]\n",
    "    visited = [[False] * M for _ in range(N)]\n",
    "    count = 0\n",
    "\n",
    "    for _ in range(K):\n",
    "        X = int(data[idx])\n",
    "        Y = int(data[idx + 1])\n",
    "        idx += 2\n",
    "        field[Y][X] = 1\n",
    "\n",
    "    for i in range(N):\n",
    "        for j in range(M):\n",
    "            if field[i][j] == 1 and not visited[i][j]:\n",
    "                visited[i][j] = True\n",
    "                bfs((i, j), field, visited, M, N)\n",
    "                count += 1\n",
    "\n",
    "    results.append(count)\n",
    "\n",
    "for result in results:\n",
    "    print(result)\n"
   ]
  },
  {
   "cell_type": "code",
   "execution_count": 28,
   "metadata": {},
   "outputs": [
    {
     "name": "stdout",
     "output_type": "stream",
     "text": [
      "[0]\n"
     ]
    }
   ],
   "source": [
    "from collections import deque\n",
    "queue = deque([])\n",
    "\n",
    "print(queue)"
   ]
  },
  {
   "cell_type": "markdown",
   "metadata": {},
   "source": [
    "# 이론"
   ]
  },
  {
   "cell_type": "code",
   "execution_count": null,
   "metadata": {},
   "outputs": [],
   "source": [
    "Field = [[0] * 10] * 8\n",
    "# 같은 리스트를 참조한 것\n",
    "Field[0][0] = 1\n",
    "print(Field)"
   ]
  },
  {
   "cell_type": "code",
   "execution_count": null,
   "metadata": {},
   "outputs": [],
   "source": [
    "Field = [[0] * 10 for _ in range(8)]\n",
    "# 같은 리스트를 참조한 것\n",
    "Field[3][1] = 1\n",
    "print(Field)"
   ]
  },
  {
   "cell_type": "code",
   "execution_count": null,
   "metadata": {},
   "outputs": [],
   "source": [
    "matrix = [\n",
    "    [1, 2, 3, 4],\n",
    "    [5, 6, 7, 8],\n",
    "    [9, 10, 11, 12]\n",
    "]\n",
    "\n",
    "# y=1, x=2 위치의 요소 접근\n",
    "print(matrix[1][2])  # 출력: 7"
   ]
  },
  {
   "cell_type": "markdown",
   "metadata": {},
   "source": [
    "# BFS 이론\n",
    "- 너비우선 탐색\n",
    "\n",
    "- BFS는 간단하게 설명하면 루트를 시작으로 자식 노드로 접근을 하는데 모든 자식을 지나고 그 자식들의 노드로 접근하여 모든 노드를 접근하는 방법이다.\n",
    "- 코드는 필드, 방문한 곳으로 나누어 저장하여 진입을 했는지 확인하는 방식을 사용한다. \n",
    "\n"
   ]
  },
  {
   "cell_type": "markdown",
   "metadata": {},
   "source": [
    "# BFS 코드 구조"
   ]
  },
  {
   "cell_type": "code",
   "execution_count": null,
   "metadata": {},
   "outputs": [],
   "source": [
    "둘다 같은 결과를 보여준다."
   ]
  },
  {
   "cell_type": "code",
   "execution_count": null,
   "metadata": {},
   "outputs": [],
   "source": [
    "from collections import deque\n",
    "\n",
    "def bfs(field, visited, y, x, M, N):\n",
    "    directions = [(-1, 0), (1, 0), (0, -1), (0, 1)]\n",
    "    queue = deque([(y, x)])\n",
    "    visited[y][x] = True\n",
    "    \n",
    "    while queue:\n",
    "        cy, cx = queue.popleft()\n",
    "        for dy, dx in directions:\n",
    "            ny, nx = cy + dy, cx + dx\n",
    "            if 0 <= ny < N and 0 <= nx < M and not visited[ny][nx] and field[ny][nx] == 1:\n",
    "                visited[ny][nx] = True\n",
    "                queue.append((ny, nx))\n",
    "\n",
    "def solve_bfs(M, N, K, cabbages):\n",
    "    field = [[0] * M for _ in range(N)]\n",
    "    visited = [[False] * M for _ in range(N)]\n",
    "    for x, y in cabbages:\n",
    "        field[y][x] = 1\n",
    "\n",
    "    count = 0\n",
    "    for i in range(N):\n",
    "        for j in range(M):\n",
    "            if field[i][j] == 1 and not visited[i][j]:\n",
    "                bfs(field, visited, i, j, M, N)\n",
    "                count += 1\n",
    "    return count\n"
   ]
  },
  {
   "cell_type": "code",
   "execution_count": null,
   "metadata": {},
   "outputs": [],
   "source": [
    "def dfs(field, visited, y, x, M, N):\n",
    "    directions = [(-1, 0), (1, 0), (0, -1), (0, 1)]\n",
    "    stack = [(y, x)]\n",
    "    visited[y][x] = True\n",
    "\n",
    "    while stack:\n",
    "        cy, cx = stack.pop()\n",
    "        for dy, dx in directions:\n",
    "            ny, nx = cy + dy, cx + dx\n",
    "            if 0 <= ny < N and 0 <= nx < M and not visited[ny][nx] and field[ny][nx] == 1:\n",
    "                visited[ny][nx] = True\n",
    "                stack.append((ny, nx))\n",
    "\n",
    "def solve_dfs(M, N, K, cabbages):\n",
    "    field = [[0] * M for _ in range(N)]\n",
    "    visited = [[False] * M for _ in range(N)]\n",
    "    for x, y in cabbages:\n",
    "        field[y][x] = 1\n",
    "\n",
    "    count = 0\n",
    "    for i in range(N):\n",
    "        for j in range(M):\n",
    "            if field[i][j] == 1 and not visited[i][j]:\n",
    "                dfs(field, visited, i, j, M, N)\n",
    "                count += 1\n",
    "    return count\n"
   ]
  },
  {
   "cell_type": "code",
   "execution_count": null,
   "metadata": {},
   "outputs": [],
   "source": [
    "import sys\n",
    "\n"
   ]
  },
  {
   "cell_type": "code",
   "execution_count": null,
   "metadata": {},
   "outputs": [],
   "source": []
  }
 ],
 "metadata": {
  "kernelspec": {
   "display_name": "Python 3",
   "language": "python",
   "name": "python3"
  },
  "language_info": {
   "codemirror_mode": {
    "name": "ipython",
    "version": 3
   },
   "file_extension": ".py",
   "mimetype": "text/x-python",
   "name": "python",
   "nbconvert_exporter": "python",
   "pygments_lexer": "ipython3",
   "version": "3.11.5"
  }
 },
 "nbformat": 4,
 "nbformat_minor": 2
}
