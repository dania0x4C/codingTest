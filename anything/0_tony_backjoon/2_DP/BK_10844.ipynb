{
 "cells": [
  {
   "cell_type": "code",
   "execution_count": 3,
   "metadata": {},
   "outputs": [
    {
     "name": "stdout",
     "output_type": "stream",
     "text": [
      "222\n"
     ]
    }
   ],
   "source": [
    "import sys\n",
    "from collections import deque\n",
    "N = int(sys.stdin.readline().strip())\n",
    "#N = 6\n",
    "number = deque()\n",
    "number = [[] for _ in range(N)]\n",
    "\n",
    "\n",
    "\n",
    "for i in range(N):\n",
    "    if i == 0:\n",
    "        for j in range(9):\n",
    "            number[i].append(j+1)\n",
    "    else:\n",
    "        for j in range(len(number[i-1])):\n",
    "            if number[i-1][j] == 0:\n",
    "                number[i].append(1)\n",
    "            elif number[i-1][j] == 9:\n",
    "                number[i].append(8)\n",
    "            else:\n",
    "                num = number[i-1][j]\n",
    "                number[i].append(num-1)\n",
    "                number[i].append(num+1)\n",
    "#print(number)\n",
    "print(len(number[N-1]))"
   ]
  },
  {
   "cell_type": "code",
   "execution_count": 5,
   "metadata": {},
   "outputs": [
    {
     "name": "stdout",
     "output_type": "stream",
     "text": [
      "[1, 2, 3, 4, 5, 6, 7, 8, 9] [0, 2, 1, 3, 2, 4, 3, 5, 4, 6, 5, 7, 6, 8, 7, 9, 8]\n",
      "17\n"
     ]
    }
   ],
   "source": [
    "import sys\n",
    "\n",
    "N = int(sys.stdin.readline().strip())\n",
    "\n",
    "number = [1 for i in range(9)]\n",
    "new_number = []\n",
    "\n",
    "\n",
    "for i in range(N):\n",
    "    if i == 0:\n",
    "        for j in range(9):\n",
    "            number.append(j+1)\n",
    "    else:\n",
    "        for j in range(len(number)):\n",
    "            if number[j] == 0:\n",
    "                new_number.append(1)\n",
    "            elif number[j] == 9:\n",
    "                new_number.append(8)\n",
    "            else:\n",
    "                num = number[j]\n",
    "                new_number.append(num-1)\n",
    "                new_number.append(num+1)\n",
    "        number = new_number\n",
    "\n",
    "print(len(number))"
   ]
  },
  {
   "cell_type": "code",
   "execution_count": 21,
   "metadata": {},
   "outputs": [
    {
     "name": "stdout",
     "output_type": "stream",
     "text": [
      "5029557817\n",
      "365808847\n"
     ]
    }
   ],
   "source": [
    "import sys\n",
    "\n",
    "N = int(sys.stdin.readline().strip())\n",
    "\n",
    "number = [0 for _ in range(10)]\n",
    "\n",
    "for i in range(N):\n",
    "    if i == 0:\n",
    "        for j in range(9):\n",
    "            number[j+1] = 1\n",
    "    else:\n",
    "        new_number = [0 for _ in range(10)]\n",
    "        for j in range(len(number)):\n",
    "            if j == 0:\n",
    "                new_number[1] += number[0] \n",
    "            elif j == 9:\n",
    "                new_number[8] += number[9]\n",
    "            else:\n",
    "                new_number[j-1] += number[j]\n",
    "                new_number[j+1] += number[j]\n",
    "        number = new_number\n",
    "\n",
    "print(sum(number) % 1000000000)"
   ]
  },
  {
   "cell_type": "markdown",
   "metadata": {},
   "source": [
    "# 문제 풀이\n",
    "\n",
    "- 일단 조건을 잘보자 1000000000로 나눈 나머지를 보여주라는 걸 못 보고 한참 해맸다는...\n",
    "- 첫번째 두번째는 배열을 이용해서 값을 저장해두는 방식을 사용해서 시간 복잡도가 append로 인해 상승하였다.\n",
    "- 마지막 풀이는 count를 저장하는 방식으로 따로 append 하지 않고 변수 값만 수정함으로써 문제 풀이를 해결하였다.\n",
    "- 이전 값을 활용하고 문제를 분할 한다는 것이 이제 어떤 의미인지 이해를 할 수 있었다."
   ]
  }
 ],
 "metadata": {
  "kernelspec": {
   "display_name": "Python 3",
   "language": "python",
   "name": "python3"
  },
  "language_info": {
   "codemirror_mode": {
    "name": "ipython",
    "version": 3
   },
   "file_extension": ".py",
   "mimetype": "text/x-python",
   "name": "python",
   "nbconvert_exporter": "python",
   "pygments_lexer": "ipython3",
   "version": "3.11.5"
  }
 },
 "nbformat": 4,
 "nbformat_minor": 2
}
