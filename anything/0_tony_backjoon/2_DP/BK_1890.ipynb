{
 "cells": [
  {
   "cell_type": "code",
   "execution_count": null,
   "metadata": {},
   "outputs": [
    {
     "ename": "TypeError",
     "evalue": "'_io.TextIOWrapper' object is not callable",
     "output_type": "error",
     "traceback": [
      "\u001b[1;31m---------------------------------------------------------------------------\u001b[0m",
      "\u001b[1;31mTypeError\u001b[0m                                 Traceback (most recent call last)",
      "Cell \u001b[1;32mIn[3], line 3\u001b[0m\n\u001b[0;32m      1\u001b[0m \u001b[38;5;28;01mimport\u001b[39;00m \u001b[38;5;21;01msys\u001b[39;00m\n\u001b[1;32m----> 3\u001b[0m N \u001b[38;5;241m=\u001b[39m \u001b[38;5;28mint\u001b[39m(\u001b[43msys\u001b[49m\u001b[38;5;241;43m.\u001b[39;49m\u001b[43mstdin\u001b[49m\u001b[43m(\u001b[49m\u001b[43m)\u001b[49m\u001b[38;5;241m.\u001b[39mreadline()\u001b[38;5;241m.\u001b[39msplit())\n\u001b[0;32m      5\u001b[0m gameWord \u001b[38;5;241m=\u001b[39m [[]\u001b[38;5;241m*\u001b[39m N \u001b[38;5;28;01mfor\u001b[39;00m _ \u001b[38;5;129;01min\u001b[39;00m N]\n",
      "\u001b[1;31mTypeError\u001b[0m: '_io.TextIOWrapper' object is not callable"
     ]
    }
   ],
   "source": [
    "import sys\n",
    "\n",
    "N = int(sys.stdin.readline().strip())\n",
    "\n",
    "gameWord = [list(map(int, sys.stdin.readline().split())) for _ in range(N)]\n",
    "count = 0\n",
    "\n",
    "def playerMove(verticalLocation, horizontalLocation, move):\n",
    "    global count, N, gameWord\n",
    "    if horizontalLocation + move < N:\n",
    "\n",
    "        horizontalLocation = horizontalLocation + move\n",
    "        move = gameWord[verticalLocation][horizontalLocation]\n",
    "        \n",
    "        return playerMove(verticalLocation, horizontalLocation, move)\n",
    "    if verticalLocation + move < N:\n",
    "        verticalLocation = verticalLocation + move\n",
    "        move = gameWord[verticalLocation][horizontalLocation]\n",
    "        return playerMove(verticalLocation, horizontalLocation, move)\n",
    "    if horizontalLocation == N-1 and verticalLocation == N-1:  # 목적지 도달 시\n",
    "        count += 1\n",
    "    if horizontalLocation + move > N and verticalLocation + move > N:\n",
    "        return 0\n",
    "\n",
    "playerMove(0, 0, gameWord[0][0])\n",
    "print(count)"
   ]
  },
  {
   "cell_type": "markdown",
   "metadata": {},
   "source": [
    "부분 문제의 해결과 그 결과의 저장 및 재사용\n",
    "\n",
    "\n"
   ]
  },
  {
   "cell_type": "code",
   "execution_count": null,
   "metadata": {},
   "outputs": [],
   "source": [
    "import sys\n",
    "\n",
    "N = int(sys.stdin.readline().strip())\n",
    "\n",
    "gameWord = [list(map(int, sys.stdin.readline().split())) for _ in range(N)]\n",
    "\n",
    "def count_paths(gameWord, N):\n",
    "    # DP 테이블 초기화: 모든 값을 0으로 설정\n",
    "    dp = [[0] * N for _ in range(N)]\n",
    "    dp[0][0] = 1  # 시작 위치\n",
    "\n",
    "    for i in range(N):\n",
    "        for j in range(N):\n",
    "            if dp[i][j] == 0 or gameWord[i][j] == 0:\n",
    "                continue  # 이동 불가능하거나 도달 불가능한 경우\n",
    "\n",
    "            move = gameWord[i][j]\n",
    "            # 수직 이동\n",
    "            if i + move < N:\n",
    "                dp[i + move][j] += dp[i][j]\n",
    "            # 수평 이동\n",
    "            if j + move < N:\n",
    "                dp[i][j + move] += dp[i][j]\n",
    "\n",
    "    return dp[N-1][N-1]\n",
    "\n",
    "print(count_paths(gameWord, N) )"
   ]
  }
 ],
 "metadata": {
  "kernelspec": {
   "display_name": "Python 3",
   "language": "python",
   "name": "python3"
  },
  "language_info": {
   "codemirror_mode": {
    "name": "ipython",
    "version": 3
   },
   "file_extension": ".py",
   "mimetype": "text/x-python",
   "name": "python",
   "nbconvert_exporter": "python",
   "pygments_lexer": "ipython3",
   "version": "3.11.5"
  }
 },
 "nbformat": 4,
 "nbformat_minor": 2
}
