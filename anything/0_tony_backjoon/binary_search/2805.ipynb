{
 "cells": [
  {
   "cell_type": "code",
   "execution_count": 18,
   "metadata": {},
   "outputs": [
    {
     "name": "stdout",
     "output_type": "stream",
     "text": [
      "36\n"
     ]
    }
   ],
   "source": [
    "import sys\n",
    "\n",
    "N, M = map(int, sys.stdin.readline().strip().split())\n",
    "trees = map(int, sys.stdin.readline().strip().split())\n",
    "sortedTrees = sorted(trees, reverse = True)\n",
    "\n",
    "sortedTrees = sorted(trees, reverse=True)\n",
    "cutLine = 0\n",
    "getTree = 0\n",
    "\n",
    "while True:\n",
    "    getTree = sum(max(0, tree - cutLine) for tree in sortedTrees)\n",
    "    if getTree >= M:\n",
    "        break\n",
    "    cutLine += 1\n",
    "\n",
    "print(cutLine)"
   ]
  },
  {
   "cell_type": "code",
   "execution_count": 19,
   "metadata": {},
   "outputs": [],
   "source": [
    "import sys\n",
    "\n",
    "N, M = 4, 7\n",
    "trees = [20, 15, 10, 17]\n",
    "sortedTrees = sorted(trees, reverse = True)\n",
    "high, low = max(trees), 0"
   ]
  },
  {
   "cell_type": "markdown",
   "metadata": {},
   "source": [
    "# 풀이\n",
    "- 1번 코드는 선형적으로 값을 찾고 있어서 탐색시간에서 시간초과가 생김\n",
    "- 이분적으로 탐색하는 방식으로 수정 필요\n",
    "- top, bottom으로 값을 지속적으로 확인\n",
    "\n",
    "## 코드 작성시 생각해야되는 것\n",
    "\n",
    "1. 배열의 정렬 상태 확인\n",
    "이분 탐색은 정렬된 배열에서만 정상 작동합니다. 배열이 정렬되어 있지 않다면, 이분 탐색 전에 반드시 정렬을 수행해야 합니다.\n",
    "2. 탐색 범위 설정\n",
    "**low**와 high 두 포인터를 사용하여 탐색 범위를 설정합니다. 초기에 low는 배열의 시작 인덱스(보통 0), high는 배열의 마지막 인덱스로 설정합니다.\n",
    "3. 중간점 계산\n",
    "중간점 **mid**는 low와 high의 평균을 사용하여 계산합니다. (low + high) // 2 대신 low + (high - low) // 2를 사용하여 오버플로를 방지할 수 있습니다.\n",
    "4. 탐색 조건과 종료 조건\n",
    "탐색 조건: mid 위치의 값과 찾고자 하는 값을 비교하여, 값이 일치하면 위치를 반환합니다.\n",
    "종료 조건: low가 high보다 커지면 탐색을 종료하고, 원하는 값을 배열에서 찾지 못했다고 판단합니다.\n",
    "5. 포인터 조정\n",
    "찾고자 하는 값이 mid 위치의 값보다 크면 low를 mid + 1로 조정합니다.\n",
    "찾고자 하는 값이 mid 위치의 값보다 작으면 high를 mid - 1로 조정합니다.\n",
    "6. 중복 값 처리\n",
    "배열에 찾고자 하는 값과 동일한 중복 값이 여러 개 있는 경우, 이분 탐색을 사용하여 최소 인덱스나 최대 인덱스를 찾는 등의 추가 처리가 필요할 수 있습니다.\n",
    "7. 에러 처리\n",
    "잘못된 입력이나 예상치 못한 데이터 타입 등에 대한 처리를 고려해야 합니다. 예를 들어, 입력 배열이 비어 있거나, 탐색 대상 값이 배열의 범위를 벗어날 경우 등을 처리해야 합니다.\n",
    "\n"
   ]
  },
  {
   "cell_type": "code",
   "execution_count": null,
   "metadata": {},
   "outputs": [],
   "source": [
    "import sys\n",
    "input = sys.stdin.read\n",
    "data = input().split()\n",
    "\n",
    "N = int(data[0])\n",
    "M = int(data[1])\n",
    "trees = list(map(int, data[2:]))\n",
    "\n",
    "low, high = 0, max(trees)  # 가능한 cutLine의 범위 설정\n",
    "\n",
    "def get_wood(cut):\n",
    "    return sum(max(0, tree - cut) for tree in trees)\n",
    "\n",
    "while low <= high:\n",
    "    mid = (low + high) // 2\n",
    "    wood = get_wood(mid)\n",
    "    if wood < M:\n",
    "        high = mid - 1\n",
    "    else:\n",
    "        low = mid + 1\n",
    "\n",
    "# 이분 탐색을 완료한 후, high는 조건을 만족하는 최대 cutLine\n",
    "print(high)\n"
   ]
  },
  {
   "cell_type": "markdown",
   "metadata": {},
   "source": [
    "https://www.acmicpc.net/problem/18869"
   ]
  }
 ],
 "metadata": {
  "kernelspec": {
   "display_name": "Python 3",
   "language": "python",
   "name": "python3"
  },
  "language_info": {
   "codemirror_mode": {
    "name": "ipython",
    "version": 3
   },
   "file_extension": ".py",
   "mimetype": "text/x-python",
   "name": "python",
   "nbconvert_exporter": "python",
   "pygments_lexer": "ipython3",
   "version": "3.11.5"
  }
 },
 "nbformat": 4,
 "nbformat_minor": 2
}
