{
 "cells": [
  {
   "cell_type": "markdown",
   "metadata": {},
   "source": [
    "[BK_18258] 큐2"
   ]
  },
  {
   "cell_type": "code",
   "execution_count": 31,
   "metadata": {},
   "outputs": [],
   "source": [
    "import sys\n",
    "from collections import deque\n",
    "X = sys.stdin.readline()\n",
    "\n",
    "que = deque()\n",
    "def push(que, req):\n",
    "    que.append(req)\n",
    "\n",
    "def pop(que):\n",
    "    if(len(que) == 0):\n",
    "        print(-1)\n",
    "    else:\n",
    "        popFirst = que.popleft()\n",
    "        print(popFirst)\n",
    "\n",
    "def size(que):\n",
    "    queLength = len(que)\n",
    "    print(queLength)\n",
    "\n",
    "def empty(que):\n",
    "    if(len(que) == 0):\n",
    "        print(1)\n",
    "    else:\n",
    "        print(0)\n",
    "\n",
    "def front(que):\n",
    "    if(len(que) == 0):\n",
    "        print(-1)\n",
    "    else:\n",
    "        print(que[0])\n",
    "\n",
    "def back(que):\n",
    "    if(len(que) == 0):\n",
    "        print(-1)\n",
    "    else:\n",
    "        print(que[len(que)-1])\n",
    "        \n",
    "\n",
    "for _ in range(int(X)):\n",
    "    command= sys.stdin.readline().strip().split()\n",
    "    a = command[0]\n",
    "    b = command[1] if len(command) > 1 else None\n",
    "    if(a == \"push\"):\n",
    "        push(que, int(b))\n",
    "    if(a == \"front\"):\n",
    "        front(que)\n",
    "    if(a == \"back\"):\n",
    "        back(que)\n",
    "    if(a == \"empty\"):\n",
    "        empty(que)\n",
    "    if(a == \"size\"):\n",
    "        size(que)\n",
    "    if(a == \"pop\"):    \n",
    "        pop(que)"
   ]
  },
  {
   "cell_type": "markdown",
   "metadata": {},
   "source": [
    "# 큐 생성 방식\n",
    "1. list 방식\n",
    "\n",
    "    queue = []\n",
    "\n",
    "    문제점\n",
    "    - pop 할때 시간 복잡도가 O(N)이 걸린다.\n",
    "\n",
    "\n",
    "2. deque()방식\n",
    "    \n",
    "    from collections import deque\n",
    "\n",
    "    queue = deque()\n",
    "\n",
    "    - left를 기존함수(append, pop) 뒤에 추가하면 왼(앞)쪽을 기준으로 동작\n",
    "    - queue.count(): 변수의 개수를 반환\n",
    "    - queue.insert(index, x): index위치에 삽입\n",
    "    - queue.remove(x): 첫 번째 x를 제거\n",
    "    - queue.reverse(): que 뒤집기"
   ]
  },
  {
   "cell_type": "markdown",
   "metadata": {},
   "source": [
    "# 추가적으로 알게 된 것\n",
    "\n",
    "readline(): 한 줄을 받으며 줄바꿈 문자가 마지막에 포함\n",
    "strip(): 줄바꿈 문자 제거\n",
    "split(): 문자열을 공백 기준으로 리스트로 반환"
   ]
  }
 ],
 "metadata": {
  "kernelspec": {
   "display_name": "Python 3",
   "language": "python",
   "name": "python3"
  },
  "language_info": {
   "codemirror_mode": {
    "name": "ipython",
    "version": 3
   },
   "file_extension": ".py",
   "mimetype": "text/x-python",
   "name": "python",
   "nbconvert_exporter": "python",
   "pygments_lexer": "ipython3",
   "version": "3.11.5"
  }
 },
 "nbformat": 4,
 "nbformat_minor": 2
}
