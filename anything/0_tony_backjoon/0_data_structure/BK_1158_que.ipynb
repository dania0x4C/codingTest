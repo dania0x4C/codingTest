{
 "cells": [
  {
   "cell_type": "code",
   "execution_count": 11,
   "metadata": {},
   "outputs": [
    {
     "name": "stdout",
     "output_type": "stream",
     "text": [
      "<3, 6, 2, 7, 5, 1, 4>\n"
     ]
    }
   ],
   "source": [
    "import sys\n",
    "from collections import deque\n",
    "\n",
    "N, K = map(int, sys.stdin.readline().strip().split())\n",
    "\n",
    "que = deque()\n",
    "\n",
    "for i in range(N):\n",
    "    que.append(i+1)\n",
    "\n",
    "print(\"<\", end =\"\")\n",
    "\n",
    "for _ in range(N):\n",
    "    que.rotate(-K+1)\n",
    "    print(que.popleft(), end =\"\")\n",
    "    if len(que):\n",
    "        print(\", \", end=\"\")\n",
    "print(\">\")"
   ]
  },
  {
   "cell_type": "markdown",
   "metadata": {},
   "source": [
    "이론\n",
    "- queue.rotate(N) N만큼 오른쪽 회전\n",
    "- -이면 왼쪽 회전\n",
    "\n",
    "print(f\"<{', '.join(map(str, result))}>\")\n",
    "\n",
    "- join을 통해서 내부 리스트를 나열하는 방식도 가능"
   ]
  }
 ],
 "metadata": {
  "kernelspec": {
   "display_name": "Python 3",
   "language": "python",
   "name": "python3"
  },
  "language_info": {
   "codemirror_mode": {
    "name": "ipython",
    "version": 3
   },
   "file_extension": ".py",
   "mimetype": "text/x-python",
   "name": "python",
   "nbconvert_exporter": "python",
   "pygments_lexer": "ipython3",
   "version": "3.11.5"
  }
 },
 "nbformat": 4,
 "nbformat_minor": 2
}
