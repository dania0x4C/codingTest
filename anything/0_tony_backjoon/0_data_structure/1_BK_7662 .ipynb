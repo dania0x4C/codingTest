{
 "cells": [
  {
   "cell_type": "markdown",
   "metadata": {},
   "source": [
    "https://www.acmicpc.net/problem/7662"
   ]
  },
  {
   "cell_type": "code",
   "execution_count": null,
   "metadata": {},
   "outputs": [],
   "source": [
    "import sys\n",
    "import heapq\n",
    "\n",
    "heap_plus = []\n",
    "heap_minus = []\n",
    "\n",
    "T = int(sys.stdin.readline().strip())\n",
    "\n",
    "for _ in range(T):\n",
    "    k = int(sys.stdin.readline().strip())\n",
    "\n",
    "    for _ in range(k):\n",
    "        command = sys.stdin.readline().strip().split()\n",
    "        cal = command[0]\n",
    "        num = int(command[1])\n",
    "\n",
    "        if cal == 'I':\n",
    "                heapq.heappush(heap_plus, -num)\n",
    "                heapq.heappush(heap_minus, num)\n",
    "        else:\n",
    "            if num = 1:\n",
    "                heap_plus.heappop()\n",
    "            else:\n",
    "                heap_minus.heappop()\n",
    "                \n",
    "    print(-heap_plus[0])\n",
    "    print(heap_minus[0])\n",
    "\n",
    "\n",
    "    이제 여기에서 서로가 비어있을때 삭제가 문제임 "
   ]
  },
  {
   "cell_type": "code",
   "execution_count": 14,
   "metadata": {},
   "outputs": [],
   "source": [
    "import heapq\n",
    "\n",
    "heap = []\n",
    "\n"
   ]
  },
  {
   "cell_type": "code",
   "execution_count": 34,
   "metadata": {},
   "outputs": [],
   "source": [
    "heap1 = []"
   ]
  },
  {
   "cell_type": "code",
   "execution_count": 36,
   "metadata": {},
   "outputs": [
    {
     "name": "stdout",
     "output_type": "stream",
     "text": [
      "[(-2, -2), (-2, 2)]\n"
     ]
    }
   ],
   "source": [
    "heapq.heappush(heap1, (-abs(2), -2))\n",
    "print(heap1)"
   ]
  }
 ],
 "metadata": {
  "kernelspec": {
   "display_name": "Python 3",
   "language": "python",
   "name": "python3"
  },
  "language_info": {
   "codemirror_mode": {
    "name": "ipython",
    "version": 3
   },
   "file_extension": ".py",
   "mimetype": "text/x-python",
   "name": "python",
   "nbconvert_exporter": "python",
   "pygments_lexer": "ipython3",
   "version": "3.11.5"
  }
 },
 "nbformat": 4,
 "nbformat_minor": 2
}
