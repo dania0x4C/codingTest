{
 "cells": [
  {
   "cell_type": "code",
   "execution_count": 36,
   "metadata": {},
   "outputs": [
    {
     "name": "stdout",
     "output_type": "stream",
     "text": [
      "(1+(2*3+4))\n",
      "(1+2*(3+4))\n",
      "1+(2*(3+4))\n",
      "(1+2*3+4)\n",
      "1+(2*3+4)\n",
      "1+2*(3+4)\n",
      "1+2*3+4\n"
     ]
    }
   ],
   "source": [
    "import sys\n",
    "from collections import deque\n",
    "from itertools import combinations\n",
    "\n",
    "openParentheses = deque()\n",
    "closeParentheses = deque()\n",
    "\n",
    "# Input = sys.stdin.readline().strip()\n",
    "Input = '(1+(2*(3+4)))'\n",
    "\n",
    "for i in range(len(Input)):\n",
    "    if Input[i] == '(':\n",
    "        openParentheses.appendleft(i)\n",
    "    if Input[i] == ')':\n",
    "        closeParentheses.append(i)\n",
    "\n",
    "ParenthesesLen = len(closeParentheses)\n",
    "results = []\n",
    "\n",
    "for i in range(ParenthesesLen):\n",
    "    outputParentheses = list(combinations(range(ParenthesesLen), i+1)) # 1. openParentheses로 조합처리하려고 했으나 바로 len을 통해 index 값을 추출\n",
    "\n",
    "    for combinationParentheses in outputParentheses:\n",
    "        \n",
    "        remove_indices = set()\n",
    "        for index in combinationParentheses:\n",
    "            remove_indices.add(openParentheses[index])\n",
    "            remove_indices.add(closeParentheses[index])\n",
    "\n",
    "        #2.여기는 그냥 join 사용 방식이 미숙\n",
    "        new_string = ''.join(\n",
    "            Input[k] for k in range(len(Input)) if k not in remove_indices\n",
    "        )\n",
    "\n",
    "        # 결과 출력\n",
    "        results.append(new_string)# 사실 출력 순서가 잘못 되었지만 왜 정렬로 해결된지 모르겠음\n",
    "for result in results:\n",
    "    print(result)\n"
   ]
  },
  {
   "cell_type": "markdown",
   "metadata": {},
   "source": [
    "# 순열과 조합: Python 함수 정리\n",
    "## itertools\n",
    "\n",
    "### from itertools import []\n",
    "\n",
    "| **구분**          | **Python 함수/모듈**                        | **설명**                                                                                       | **사용 예제 코드**                                     |\n",
    "|--------------------|---------------------------------------------|-----------------------------------------------------------------------------------------------|-------------------------------------------------------|\n",
    "| **중복 없는 순열** | `itertools.permutations(iterable, r)`       | 주어진 객체에서 순서를 고려하여 중복 없이 \\( r \\)개의 순열 생성                                   | `list(permutations([1, 2, 3], 2))`                   |\n",
    "| **중복 허용 순열** | 없음 (수동 구현 필요)                      | 순서를 고려하여 중복을 허용한 \\( r \\)개의 순열 생성                                              | `[(x, y) for x in items for y in items]`             |\n",
    "| **중복 없는 조합** | `itertools.combinations(iterable, r)`       | 주어진 객체에서 순서를 고려하지 않고 중복 없이 \\( r \\)개의 조합 생성                              | `list(combinations([1, 2, 3], 2))`                   |\n",
    "| **중복 허용 조합** | `itertools.combinations_with_replacement(iterable, r)` | 주어진 객체에서 순서를 고려하지 않고 중복을 허용한 \\( r \\)개의 조합 생성                          | `list(combinations_with_replacement([1, 2, 3], 2))` |\n",
    "\n",
    "## join\n",
    "- \n",
    "## 문제 해결 방향\n",
    "\n",
    "### 1번\n",
    "- \n",
    "### 2번\n",
    "- \n",
    "### 3번\n",
    "-  "
   ]
  }
 ],
 "metadata": {
  "kernelspec": {
   "display_name": "Python 3",
   "language": "python",
   "name": "python3"
  },
  "language_info": {
   "codemirror_mode": {
    "name": "ipython",
    "version": 3
   },
   "file_extension": ".py",
   "mimetype": "text/x-python",
   "name": "python",
   "nbconvert_exporter": "python",
   "pygments_lexer": "ipython3",
   "version": "3.11.5"
  }
 },
 "nbformat": 4,
 "nbformat_minor": 2
}
