{
 "cells": [
  {
   "cell_type": "markdown",
   "metadata": {},
   "source": [
    "https://www.acmicpc.net/problem/11286"
   ]
  },
  {
   "cell_type": "code",
   "execution_count": null,
   "metadata": {},
   "outputs": [],
   "source": [
    "import heapq\n",
    "import sys\n",
    "\n",
    "N = int(sys.stdin.readline().strip())\n",
    "\n",
    "heap = []\n",
    "\n",
    "def heapPush(x):\n",
    "    heapq.heappush(heap, x)\n",
    "\n",
    "def heapPop():\n",
    "    idx = 0\n",
    "    absoluteMin = heap[0] if heap[0] >= 0 else -heap[0]\n",
    "\n",
    "    for i in range(1, len(heap)):\n",
    "        current = heap[i] if heap[i] >= 0 else -heap[i]\n",
    "        if current < absoluteMin:\n",
    "            absoluteMin = current\n",
    "            idx = i\n",
    "        elif current == absoluteMin and heap[i] < heap[idx]:\n",
    "            idx = i\n",
    "\n",
    "    print(heap[idx])\n",
    "    heap.pop(idx) \n",
    "\n",
    "\n",
    "for _ in range(N):\n",
    "    x = int(sys.stdin.readline().strip())\n",
    "    if x != 0:\n",
    "        heapPush(x)\n",
    "    else:\n",
    "        heapPop()\n",
    "\n"
   ]
  },
  {
   "cell_type": "markdown",
   "metadata": {},
   "source": [
    "# 정답"
   ]
  },
  {
   "cell_type": "code",
   "execution_count": null,
   "metadata": {},
   "outputs": [],
   "source": [
    "import heapq\n",
    "import sys\n",
    "\n",
    "input = sys.stdin.readline\n",
    "N = int(input().strip())\n",
    "\n",
    "heap = []\n",
    "\n",
    "def heapPush(x):\n",
    "    # 절댓값 기준 정렬을 위해 (절댓값, 실제값) 저장\n",
    "    heapq.heappush(heap, (x if x >= 0 else -x, x)) # or abs 사용\n",
    "\n",
    "def heapPop():\n",
    "    if heap:\n",
    "        # 최소값 pop\n",
    "        _, value = heapq.heappop(heap)\n",
    "        print(value)\n",
    "    else:\n",
    "        # 힙이 비어 있는 경우\n",
    "        print(0)\n",
    "\n",
    "# 입력 처리\n",
    "for _ in range(N):\n",
    "    x = int(input().strip())\n",
    "    if x != 0:\n",
    "        heapPush(x)\n",
    "    else:\n",
    "        heapPop()\n"
   ]
  },
  {
   "cell_type": "markdown",
   "metadata": {},
   "source": [
    "## 문제풀이\n",
    "\n",
    "1. 로직은 맞지만 pop가 시간 복잡도가 크다\n",
    "2. 값을 동시에 넣으면 둘다 pop함수에서 비교 대상이 된다는 것을 확인\n",
    "3. 시간 복잡도가 중요하고 데이터가 생각보다 많이 넣어도 되기 때문에 중복되게 값을 저장하는 방식도 항상 생각하면 좋겠다.\n",
    "\n",
    "### 힙에 (절댓값, 실제값) 형태의 튜플을 삽입\n",
    "- 먼저 **첫 번째 요소(절댓값)**으로 정렬됩니다.\n",
    "- 만약 첫 번째 요소가 동일하면, **두 번째 요소(실제값)**으로 비교합니다.\n",
    "\n",
    "## heapq 함수\n",
    "\n",
    "| **함수**                  | **설명**                                                                                   | **예제 코드**                                                                                           | **출력 결과**                  |\n",
    "|---------------------------|-------------------------------------------------------------------------------------------|---------------------------------------------------------------------------------------------------------|--------------------------------|\n",
    "| `heappush(heap, item)`    | 힙에 요소를 추가합니다.                                                                    | import heapq<br>heap = []<br>heapq.heappush(heap, 10)<br>heapq.heappush(heap, 5)<br>print(heap)         | `[5, 10]`                     |\n",
    "| `heappop(heap)`           | 힙에서 가장 작은 요소를 제거하고 반환합니다.                                               | import heapq<br>heap = [5, 10, 15]<br>smallest = heapq.heappop(heap)<br>print(smallest)                 | `5`                            |\n",
    "| `heapify(iterable)`       | 주어진 iterable을 힙 구조로 변환합니다.                                                   | import heapq<br>nums = [3, 2, 1]<br>heapq.heapify(nums)<br>print(nums)                                  | `[1, 2, 3]`                   |\n",
    "| `heappushpop(heap, item)` | 힙에 새 요소를 추가한 후, 가장 작은 요소를 제거하고 반환합니다.                           | import heapq<br>heap = [10, 20, 30]<br>smallest = heapq.heappushpop(heap, 5)<br>print(smallest)         | `5`                            |\n",
    "| `heapreplace(heap, item)` | 힙의 최솟값을 제거하고 새 요소를 추가합니다.                                               | import heapq<br>heap = [5, 10, 15]<br>smallest = heapq.heapreplace(heap, 7)<br>print(smallest)          | `5`                            |\n",
    "| `nlargest(n, iterable)`   | 주어진 iterable에서 가장 큰 `n`개의 요소를 반환합니다.                                    | import heapq<br>nums = [1, 2, 3, 4]<br>largest = heapq.nlargest(2, nums)<br>print(largest)              | `[4, 3]`                       |\n",
    "| `nsmallest(n, iterable)`  | 주어진 iterable에서 가장 작은 `n`개의 요소를 반환합니다.                                 | import heapq<br>nums = [4, 3, 2, 1]<br>smallest = heapq.nsmallest(2, nums)<br>print(smallest)           | `[1, 2]`                       |\n",
    "| `key` (옵션)              | `nlargest` 및 `nsmallest`에서 정렬 기준을 설정합니다.                                      | students = [{'name':'A', 'grade':90}, {'name':'B', 'grade':80}]<br>top = heapq.nlargest(1, students, key=lambda x: x['grade'])<br>print(top) | `{'name': 'A', 'grade': 90}`  |\n"
   ]
  }
 ],
 "metadata": {
  "kernelspec": {
   "display_name": "Python 3",
   "language": "python",
   "name": "python3"
  },
  "language_info": {
   "codemirror_mode": {
    "name": "ipython",
    "version": 3
   },
   "file_extension": ".py",
   "mimetype": "text/x-python",
   "name": "python",
   "nbconvert_exporter": "python",
   "pygments_lexer": "ipython3",
   "version": "3.11.5"
  }
 },
 "nbformat": 4,
 "nbformat_minor": 2
}
