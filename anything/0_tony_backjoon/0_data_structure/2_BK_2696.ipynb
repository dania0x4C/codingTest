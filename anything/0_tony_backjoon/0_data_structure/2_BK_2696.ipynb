{
 "cells": [
  {
   "cell_type": "markdown",
   "metadata": {},
   "source": [
    "https://www.acmicpc.net/problem/2696"
   ]
  },
  {
   "cell_type": "code",
   "execution_count": null,
   "metadata": {},
   "outputs": [],
   "source": [
    "import sys\n",
    "import heapq\n",
    "\n",
    "# T = int(sys.stdin.readline().strip())\n",
    "\n",
    "heapTest = []\n",
    "originTest = []\n",
    "middle = []\n",
    "\n",
    "def FindMiddle(test):\n",
    "    print(int(len(test)/2+1))\n",
    "    return count\n",
    "\n",
    "for _ in range(T):\n",
    "    M = int(sys.stdin.readline().strip())\n",
    "    for _ in range(M):\n",
    "        heapTest = map(int, sys.stdin.readline().strip().split())\n",
    "        originTest = heapTest\n",
    "        heapify(heapTest)\n",
    "        count = FindMiddle(heapTest)\n",
    "        for i in range(count):\n",
    "            middle\n"
   ]
  },
  {
   "cell_type": "code",
   "execution_count": 72,
   "metadata": {},
   "outputs": [],
   "source": [
    "def push(originTest, i):\n",
    "    number = 2*i-1 \n",
    "    for n in range(number):\n",
    "        heapq.heappush(middle, origin[n])\n",
    "        heapq.heapify(middle)\n",
    "        print(\"origin\", middle)\n",
    "    print(middle[int(len(middle)/2)])"
   ]
  },
  {
   "cell_type": "code",
   "execution_count": 73,
   "metadata": {},
   "outputs": [
    {
     "name": "stdout",
     "output_type": "stream",
     "text": [
      "origin [9]\n",
      "origin [8, 9]\n",
      "origin [7, 9, 8]\n",
      "origin [6, 7, 8, 9]\n",
      "origin [5, 6, 8, 9, 7]\n",
      "8\n"
     ]
    }
   ],
   "source": [
    "import heapq\n",
    "middle = []\n",
    "origin = [9, 8, 7, 6, 5, 4, 3, 2, 1]\n",
    "\n",
    "push(origin, 3)"
   ]
  },
  {
   "cell_type": "code",
   "execution_count": 8,
   "metadata": {},
   "outputs": [
    {
     "name": "stdout",
     "output_type": "stream",
     "text": [
      "[1, 2, 3, 5, 10]\n"
     ]
    }
   ],
   "source": [
    "import heapq\n",
    "\n",
    "heapq.heapify(test)\n",
    "\n",
    "print(test)"
   ]
  },
  {
   "cell_type": "markdown",
   "metadata": {},
   "source": [
    "max_heap = []\n",
    "min_haep = []\n",
    "이거 두개를 활용, heap의 입력구조 파악해보기"
   ]
  }
 ],
 "metadata": {
  "kernelspec": {
   "display_name": "Python 3",
   "language": "python",
   "name": "python3"
  },
  "language_info": {
   "codemirror_mode": {
    "name": "ipython",
    "version": 3
   },
   "file_extension": ".py",
   "mimetype": "text/x-python",
   "name": "python",
   "nbconvert_exporter": "python",
   "pygments_lexer": "ipython3",
   "version": "3.11.5"
  }
 },
 "nbformat": 4,
 "nbformat_minor": 2
}
