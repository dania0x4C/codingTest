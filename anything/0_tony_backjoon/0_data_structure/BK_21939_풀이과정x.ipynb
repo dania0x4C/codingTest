{
 "cells": [
  {
   "cell_type": "code",
   "execution_count": null,
   "metadata": {},
   "outputs": [
    {
     "ename": "NameError",
     "evalue": "name 'a' is not defined",
     "output_type": "error",
     "traceback": [
      "\u001b[1;31m---------------------------------------------------------------------------\u001b[0m",
      "\u001b[1;31mNameError\u001b[0m                                 Traceback (most recent call last)",
      "Cell \u001b[1;32mIn[7], line 20\u001b[0m\n\u001b[0;32m     13\u001b[0m M \u001b[38;5;241m=\u001b[39m \u001b[38;5;241m2\u001b[39m\n\u001b[0;32m     14\u001b[0m \u001b[38;5;28;01mfor\u001b[39;00m _ \u001b[38;5;129;01min\u001b[39;00m \u001b[38;5;28mrange\u001b[39m(M):\n\u001b[0;32m     15\u001b[0m     \u001b[38;5;66;03m# Input = sys.stdin.readline().strip().split()\u001b[39;00m\n\u001b[0;32m     16\u001b[0m     \u001b[38;5;66;03m# a = Input[0]\u001b[39;00m\n\u001b[0;32m     17\u001b[0m     \u001b[38;5;66;03m# b = Input[1]\u001b[39;00m\n\u001b[0;32m     18\u001b[0m     \u001b[38;5;66;03m# c = Input[2] if len(Input) > 2 else None\u001b[39;00m\n\u001b[1;32m---> 20\u001b[0m     \u001b[38;5;28;01mif\u001b[39;00m(\u001b[43ma\u001b[49m \u001b[38;5;241m==\u001b[39m \u001b[38;5;124m'\u001b[39m\u001b[38;5;124mrecommend\u001b[39m\u001b[38;5;124m'\u001b[39m):\n\u001b[0;32m     21\u001b[0m         \u001b[38;5;28;01mif\u001b[39;00m(b \u001b[38;5;241m==\u001b[39m \u001b[38;5;241m1\u001b[39m):\n\u001b[0;32m     22\u001b[0m             high \u001b[38;5;241m=\u001b[39m \u001b[38;5;241m0\u001b[39m\n",
      "\u001b[1;31mNameError\u001b[0m: name 'a' is not defined"
     ]
    }
   ],
   "source": [
    "import sys\n",
    "from collections import deque\n",
    "\n",
    "N = int(sys.stdin.readline().strip())\n",
    "problem = deque()\n",
    "level = deque()\n",
    "\n",
    "for i in range(N):\n",
    "    P, L = map(int, sys.stdin.readline().strip().split())\n",
    "    problem.append(P)\n",
    "    level.append(L)\n",
    "\n",
    "M = int(sys.stdin.readline().strip())\n",
    "\n",
    "for _ in range(M):\n",
    "    Input = sys.stdin.readline().strip().split()\n",
    "    a = Input[0]\n",
    "    b = Input[1]\n",
    "    c = Input[2] if len(Input) > 2 else None\n",
    "\n",
    "    if(a == 'recommend'):\n",
    "        if(b == 1):\n",
    "            high = 0\n",
    "            for n in level:\n",
    "                if(high < n):\n",
    "                    high = n\n",
    "            print(problem[level.index(high)])\n",
    "        else:\n",
    "            low = 101\n",
    "            for n in level:\n",
    "                if(low < n):\n",
    "                    low = n\n",
    "            print(problem[level.index(low)])\n",
    "\n",
    "    if(a == 'add'):\n",
    "        problem.append(b)\n",
    "        level.append(c)\n",
    "\n",
    "    if(a == 'solved '):\n",
    "        while b in problem:\n",
    "            level.remove(level[problem.index(b)])\n",
    "            problem.remove(b)\n",
    "        "
   ]
  }
 ],
 "metadata": {
  "kernelspec": {
   "display_name": "Python 3",
   "language": "python",
   "name": "python3"
  },
  "language_info": {
   "codemirror_mode": {
    "name": "ipython",
    "version": 3
   },
   "file_extension": ".py",
   "mimetype": "text/x-python",
   "name": "python",
   "nbconvert_exporter": "python",
   "pygments_lexer": "ipython3",
   "version": "3.11.5"
  }
 },
 "nbformat": 4,
 "nbformat_minor": 2
}
