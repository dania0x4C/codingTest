{
 "cells": [
  {
   "cell_type": "code",
   "execution_count": null,
   "metadata": {},
   "outputs": [],
   "source": [
    "import sys\n",
    "from collections import deque\n",
    "X = sys.stdin.readline()\n",
    "\n",
    "stack = deque()\n",
    "def push(stack, req):\n",
    "    stack.append(req)\n",
    "\n",
    "def pop(stack):\n",
    "    if(len(stack) == 0):\n",
    "        print(-1)\n",
    "    else:\n",
    "        popFirst = stack.pop()\n",
    "        print(popFirst)\n",
    "\n",
    "def size(stack):\n",
    "    stackLength = len(stack)\n",
    "    print(stackLength)\n",
    "\n",
    "def empty(stack):\n",
    "    if(len(stack) == 0):\n",
    "        print(1)\n",
    "    else:\n",
    "        print(0)\n",
    "\n",
    "def top(stack):\n",
    "    if(len(stack) == 0):\n",
    "        print(-1)\n",
    "    else:\n",
    "        print(stack[-1])\n",
    "\n",
    "\n",
    "        \n",
    "\n",
    "for _ in range(int(X)):\n",
    "    command= sys.stdin.readline().strip().split()\n",
    "    a = command[0]\n",
    "    b = command[1] if len(command) > 1 else None\n",
    "    if(a == \"push\"):\n",
    "        push(stack, int(b))\n",
    "    if(a == \"top\"):\n",
    "        top(stack)\n",
    "    if(a == \"empty\"):\n",
    "        empty(stack)\n",
    "    if(a == \"size\"):\n",
    "        size(stack)\n",
    "    if(a == \"pop\"):    \n",
    "        pop(stack)"
   ]
  },
  {
   "cell_type": "markdown",
   "metadata": {},
   "source": [
    "# 이론\n",
    "- 기본 스택을 구현하기 위해서 deque는 동일하게 사용\n",
    "- deque의 오른쪽 요소는 stack[-1]로(len(stack)-1) 반환이 가능"
   ]
  }
 ],
 "metadata": {
  "language_info": {
   "name": "python"
  }
 },
 "nbformat": 4,
 "nbformat_minor": 2
}
