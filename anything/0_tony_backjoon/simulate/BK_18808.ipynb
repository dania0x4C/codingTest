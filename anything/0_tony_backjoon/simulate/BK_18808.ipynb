{
 "cells": [
  {
   "cell_type": "code",
   "execution_count": null,
   "metadata": {},
   "outputs": [],
   "source": [
    "import sys\n",
    "\n",
    "# 세로, 가로, 스티커 개수\n",
    "N, M, K = map(int, sys.stdin.readline().strip().split())\n",
    "\n",
    "notebook = [[0] * M for _ in range(N)]\n",
    "\n",
    "def can_attach(x, y, sticker):\n",
    "    # 배열의 len\n",
    "    for i in range(len(sticker)):\n",
    "        for j in range(len(sticker[0])):\n",
    "            if sticker[i][j] == 1 and notebook[x + i][y + j] == 1:\n",
    "                return False\n",
    "    return True\n",
    "\n",
    "def attach(x, y, sticker):\n",
    "    for i in range(len(sticker)):\n",
    "        for j in range(len(sticker[0])):\n",
    "            if sticker[i][j] == 1:\n",
    "                notebook[x + i][y + j] = 1\n",
    "\n",
    "def turn_sticker(sticker):\n",
    "    rows = len(sticker)\n",
    "    cols = len(sticker[0])\n",
    "    \n",
    "    rotated = [[0] * rows for _ in range(cols)]\n",
    "    \n",
    "    for i in range(rows):\n",
    "        for j in range(cols):\n",
    "            rotated[j][rows - 1 - i] = sticker[i][j]\n",
    "    \n",
    "    return rotated\n",
    "\n",
    "# 스티커가 붙은 영역의 수\n",
    "sticked_area_count = 0\n",
    "# 스티커 개수 만큼 실행\n",
    "for _ in range(K):\n",
    "    # 행, 렬\n",
    "    R, C = map(int, sys.stdin.readline().strip().split())\n",
    "\n",
    "    # R 만큼 실행\n",
    "    sticker = [list(map(int, sys.stdin.readline().strip().split())) for _ in range(R)]\n",
    "    result = False\n",
    "    \n",
    "    attached = False\n",
    "    # 스티커를 붙이는 함수\n",
    "    for _ in range(4):  \n",
    "        for x in range(N - len(sticker) + 1):\n",
    "            for y in range(M - len(sticker[0]) + 1):\n",
    "                if can_attach(x, y, sticker):\n",
    "                    attach(x, y, sticker)\n",
    "                    attached = True\n",
    "                    break\n",
    "            if attached:\n",
    "                break\n",
    "        if attached:\n",
    "            break\n",
    "        sticker = turn_sticker(sticker)\n",
    "\n",
    "for i in range(N):\n",
    "    sticked_area_count += sum(notebook[i])\n",
    "       \n",
    "print(sticked_area_count)"
   ]
  },
  {
   "cell_type": "markdown",
   "metadata": {},
   "source": [
    "# 이론 정리\n",
    "## 사용된 문제 유형 및 알고리즘\n",
    "### 브루트 포스\n",
    "- 다른 특별한 기법을 사용한 것이 아닌 가능한 모든 경우의 수를 탐색하는 알고리즘이다.\n",
    "### 시뮬레이션\n",
    "- 알고리즘의 상태 구현과 디테일한 구현을 통해서 문제에서 요구하는 동작을 구현하는 문제\n",
    "### 함수 리뷰"
   ]
  },
  {
   "cell_type": "code",
   "execution_count": null,
   "metadata": {},
   "outputs": [],
   "source": [
    "def can_attach(x, y, sticker):\n",
    "    # 배열의 len\n",
    "    for i in range(len(sticker)):\n",
    "        for j in range(len(sticker[0])):\n",
    "            if sticker[i][j] == 1 and notebook[x + i][y + j] == 1:\n",
    "                return False\n",
    "    return True"
   ]
  },
  {
   "cell_type": "markdown",
   "metadata": {},
   "source": [
    "- 반복문을 활용해서 sticker와 notebook이 동시에 1이라면 붙일 수 없음 -> false\n",
    "- 그 이외의 방식은 붙일 수 있음 -> true"
   ]
  },
  {
   "cell_type": "code",
   "execution_count": null,
   "metadata": {},
   "outputs": [],
   "source": [
    "def attach(x, y, sticker):\n",
    "    for i in range(len(sticker)):\n",
    "        for j in range(len(sticker[0])):\n",
    "            if sticker[i][j] == 1:\n",
    "                notebook[x + i][y + j] = 1"
   ]
  },
  {
   "cell_type": "markdown",
   "metadata": {},
   "source": [
    "- notebook에 스티커를 붙이는 함수 - 1로 해당 위치의 값을 바꿈\n",
    "\n",
    "### **배열의 행, 열 접근**"
   ]
  },
  {
   "cell_type": "markdown",
   "metadata": {},
   "source": [
    "for i in range(행):\n",
    "    for i in range(열):\n",
    "\n",
    "2행 3열\n",
    "\n",
    "sticker = [\n",
    "    \n",
    "    [0, 1, 2],\n",
    "    [3, 4, 5]\n",
    "\n",
    "]\n",
    "\n",
    "- 행의 갯수\n",
    "len(sticker)\n",
    "\n",
    "- 열의 갯수\n",
    "len(sticker[0])"
   ]
  },
  {
   "cell_type": "code",
   "execution_count": null,
   "metadata": {},
   "outputs": [],
   "source": [
    "def turn_sticker(sticker):\n",
    "    rows = len(sticker)\n",
    "    cols = len(sticker[0])\n",
    "    \n",
    "    rotated = [[0] * rows for _ in range(cols)]\n",
    "    \n",
    "    for i in range(rows):\n",
    "        for j in range(cols):\n",
    "            rotated[j][rows - 1 - i] = sticker[i][j]\n",
    "    \n",
    "    return rotated"
   ]
  },
  {
   "cell_type": "markdown",
   "metadata": {},
   "source": [
    "- 시계 방향으로 스티커의 방향을 바꾸는 함수"
   ]
  },
  {
   "cell_type": "code",
   "execution_count": null,
   "metadata": {},
   "outputs": [],
   "source": [
    "for _ in range(K):\n",
    "    # 행, 렬\n",
    "    R, C = map(int, sys.stdin.readline().strip().split())\n",
    "\n",
    "    # R 만큼 실행\n",
    "    sticker = [list(map(int, sys.stdin.readline().strip().split())) for _ in range(R)]\n",
    "    result = False\n",
    "    \n",
    "    attached = False\n",
    "    # 스티커를 붙이는 함수\n",
    "    for _ in range(4):\n",
    "        for x in range(N - len(sticker) + 1):\n",
    "            for y in range(M - len(sticker[0]) + 1):\n",
    "                if can_attach(x, y, sticker):\n",
    "                    attach(x, y, sticker)\n",
    "                    attached = True\n",
    "                    break\n",
    "            if attached:\n",
    "                break\n",
    "        if attached:\n",
    "            break\n",
    "        sticker = turn_sticker(sticker)"
   ]
  },
  {
   "cell_type": "markdown",
   "metadata": {},
   "source": [
    "- for문으로 4번 360도 회전\n",
    "- N - len(sticker) + 1: notebook X 최대 길이 - 스티커길이 = 이동이 가능한 x 좌표\n",
    "- M - len(sticker[0]) + 1: notebook Y 최대 길이 - 스티커길이 = 이동이 가능한 y 좌표"
   ]
  }
 ],
 "metadata": {
  "kernelspec": {
   "display_name": "Python (jupyter)",
   "language": "python",
   "name": "jupyter"
  },
  "language_info": {
   "codemirror_mode": {
    "name": "ipython",
    "version": 3
   },
   "file_extension": ".py",
   "mimetype": "text/x-python",
   "name": "python",
   "nbconvert_exporter": "python",
   "pygments_lexer": "ipython3",
   "version": "3.13.2"
  }
 },
 "nbformat": 4,
 "nbformat_minor": 2
}
