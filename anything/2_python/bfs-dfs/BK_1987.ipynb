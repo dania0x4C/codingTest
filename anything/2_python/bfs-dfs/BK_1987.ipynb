{
 "cells": [
  {
   "cell_type": "code",
   "execution_count": 5,
   "metadata": {},
   "outputs": [],
   "source": [
    "class InputMock:\n",
    "    def __init__(self, text: str):\n",
    "        self.source = text.strip()\n",
    "\n",
    "    def reset(self):\n",
    "        self.lines = self.source.split('\\n')\n",
    "        self.current = 0\n",
    "\n",
    "    def __call__(self):\n",
    "        if not hasattr(self, 'lines') or self.current >= len(self.lines):\n",
    "            self.reset()\n",
    "        line = self.lines[self.current]\n",
    "        self.current += 1\n",
    "        return line\n",
    "\n",
    "test_input = \"\"\"\n",
    "3 6\n",
    "HFDFFB\n",
    "AJHGDH\n",
    "DGAGEH\n",
    "\"\"\"\n",
    "\n",
    "input = InputMock(test_input)"
   ]
  },
  {
   "cell_type": "code",
   "execution_count": 12,
   "metadata": {},
   "outputs": [
    {
     "name": "stdout",
     "output_type": "stream",
     "text": [
      "0\n"
     ]
    }
   ],
   "source": [
    "import sys\n",
    "\n",
    "# input = sys.stdin.readline\n",
    "# 이동은 상하좌우 한 칸\n",
    "# 지금까지 지나온 알파벳과 이동칸의 알파벳이 다름\n",
    "# 시작은 0, 0\n",
    "# 넓이 우선 탐색으로 가장 깊은 depth를 찾는 것이 목표\n",
    "\n",
    "R, C = map(int, input().strip().split())\n",
    "board = [list(input().strip()) for _ in range(R)]\n",
    "visited = [[''] * C for _ in range(R)]\n",
    "visited[0][0] = board[0][0]\n",
    "maxSpot = 0\n",
    "def dfs(x, y, board, visited, count):\n",
    "    global maxSpot\n",
    "    directions = [(1, 0), (-1, 0), (0, 1), (0, -1)]\n",
    "    for dx, dy in directions:\n",
    "        nx, ny = x + dx, y + dy\n",
    "        if 0 <= nx < R and 0 <= ny < C and visited[nx][ny] == '':\n",
    "            if board[nx][ny] not in visited:\n",
    "                visited[nx][ny] = board[nx][ny]\n",
    "                dfs(nx, ny, board, visited, count + 1)\n",
    "            else:\n",
    "                maxSpot = max(maxSpot, count)\n",
    "\n",
    "dfs(0, 0, board, visited, 1)\n",
    "print(maxSpot) "
   ]
  },
  {
   "cell_type": "code",
   "execution_count": 13,
   "metadata": {},
   "outputs": [
    {
     "name": "stdout",
     "output_type": "stream",
     "text": [
      "6\n"
     ]
    }
   ],
   "source": [
    "R, C = map(int, input().split())\n",
    "board = [list(input().strip()) for _ in range(R)]\n",
    "\n",
    "# 알파벳 방문 체크: A~Z\n",
    "visited = [False] * 26\n",
    "visited[ord(board[0][0]) - ord('A')] = True\n",
    "maxSpot = 0\n",
    "\n",
    "def dfs(x, y, count):\n",
    "    global maxSpot\n",
    "    maxSpot = max(maxSpot, count)\n",
    "\n",
    "    directions = [(1, 0), (-1, 0), (0, 1), (0, -1)]\n",
    "    for dx, dy in directions:\n",
    "        nx, ny = x + dx, y + dy\n",
    "        if 0 <= nx < R and 0 <= ny < C:\n",
    "            index = ord(board[nx][ny]) - ord('A')\n",
    "            if not visited[index]:\n",
    "                visited[index] = True\n",
    "                dfs(nx, ny, count + 1)\n",
    "                visited[index] = False  # ✅ 원상복구(백트래킹)\n",
    "\n",
    "dfs(0, 0, 1)\n",
    "print(maxSpot)"
   ]
  },
  {
   "cell_type": "code",
   "execution_count": null,
   "metadata": {},
   "outputs": [],
   "source": [
    "R, C = map(int, input().split())\n",
    "board = [list(input().strip()) for _ in range(R)]\n",
    "maxSpot = 0\n",
    "\n",
    "def dfs(x, y, visited_letters, count):\n",
    "    global maxSpot\n",
    "    maxSpot = max(maxSpot, count)\n",
    "\n",
    "    directions = [(1, 0), (-1, 0), (0, 1), (0, -1)]\n",
    "    for dx, dy in directions:\n",
    "        nx, ny = x + dx, y + dy\n",
    "        if 0 <= nx < R and 0 <= ny < C:\n",
    "            if board[nx][ny] not in visited_letters:\n",
    "                # 새로운 알파벳이라면\n",
    "                dfs(nx, ny, visited_letters | {board[nx][ny]}, count + 1)\n",
    "\n",
    "dfs(0, 0, {board[0][0]}, 1)\n",
    "print(maxSpot)"
   ]
  }
 ],
 "metadata": {
  "kernelspec": {
   "display_name": "Python 3",
   "language": "python",
   "name": "python3"
  },
  "language_info": {
   "codemirror_mode": {
    "name": "ipython",
    "version": 3
   },
   "file_extension": ".py",
   "mimetype": "text/x-python",
   "name": "python",
   "nbconvert_exporter": "python",
   "pygments_lexer": "ipython3",
   "version": "3.9.6"
  }
 },
 "nbformat": 4,
 "nbformat_minor": 2
}
