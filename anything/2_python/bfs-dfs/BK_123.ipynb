{
 "cells": [
  {
   "cell_type": "code",
   "execution_count": null,
   "id": "12372bad",
   "metadata": {},
   "outputs": [],
   "source": [
    "import sys\n",
    "from collections import deque\n",
    "\n",
    "def solve():\n",
    "    input = sys.stdin.readline\n",
    "    N = int(input().strip())\n",
    "    mat = [list(map(int, input().split())) for _ in range(N)]\n",
    "    visited = [False]*N\n",
    "\n",
    "    def bfs(s):\n",
    "        q = deque([s])\n",
    "        visited[s] = True\n",
    "        while q:\n",
    "            u = q.popleft()\n",
    "            for v in range(N):\n",
    "                if mat[u][v] == 1 and not visited[v]:\n",
    "                    visited[v] = True\n",
    "                    q.append(v)\n",
    "\n",
    "    cnt = 0\n",
    "    for i in range(N):\n",
    "        if not visited[i]:\n",
    "            bfs(i)\n",
    "            cnt += 1\n",
    "    print(cnt)\n",
    "\n",
    "if __name__ == \"__main__\":\n",
    "    solve()"
   ]
  }
 ],
 "metadata": {
  "language_info": {
   "name": "python"
  }
 },
 "nbformat": 4,
 "nbformat_minor": 5
}
