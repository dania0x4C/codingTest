{
 "cells": [
  {
   "cell_type": "code",
   "execution_count": 32,
   "metadata": {},
   "outputs": [],
   "source": [
    "class InputMock:\n",
    "    def __init__(self, text: str):\n",
    "        self.source = text.strip()\n",
    "\n",
    "    def reset(self):\n",
    "        self.lines = self.source.split('\\n')\n",
    "        self.current = 0\n",
    "\n",
    "    def __call__(self):\n",
    "        if not hasattr(self, 'lines') or self.current >= len(self.lines):\n",
    "            self.reset()\n",
    "        line = self.lines[self.current]\n",
    "        self.current += 1\n",
    "        return line\n",
    "\n",
    "test_input = \"\"\"\n",
    "5 17\n",
    "\"\"\"\n",
    "\n",
    "input = InputMock(test_input)"
   ]
  },
  {
   "cell_type": "code",
   "execution_count": 18,
   "metadata": {},
   "outputs": [
    {
     "name": "stdout",
     "output_type": "stream",
     "text": [
      "3\n"
     ]
    }
   ],
   "source": [
    "from collections import deque\n",
    "import sys\n",
    "\n",
    "#input = sys.stdin.readline\n",
    "N, K = map(int, input().strip().split())\n",
    "visited = [0] * K\n",
    "queue = deque([N])\n",
    "while queue:\n",
    "    move = queue.popleft()\n",
    "    \n",
    "    if 0 <= move < K and visited[move] == 0:\n",
    "        queue.append(move + 1)\n",
    "        visited[move + 1] = visited[move] + 1\n",
    "        queue.append(move - 1)\n",
    "        visited[move - 1] = visited[move] + 1\n",
    "        queue.append(move * 2)\n",
    "        visited[move * 2] = visited[move] + 1\n",
    "        \n",
    "print(visited)\n",
    "## 거의 다 풀었는데 범위랑 K 유효성만 체크하면 됨"
   ]
  },
  {
   "cell_type": "code",
   "execution_count": 37,
   "metadata": {},
   "outputs": [
    {
     "name": "stdout",
     "output_type": "stream",
     "text": [
      "4\n"
     ]
    }
   ],
   "source": [
    "import sys\n",
    "\n",
    "N, K = map(int, input().split())\n",
    "visited = [False] * 100000\n",
    "min_count = float('inf')\n",
    "\n",
    "def dfs(start, count):\n",
    "    global min_count\n",
    "    if start == K:\n",
    "        min_count = min(min_count, count)\n",
    "        return\n",
    "\n",
    "    if count >= min_count:\n",
    "        return\n",
    "\n",
    "    for DN in (start + 1, start - 1, start * 2):\n",
    "        if 0 <= DN <= 100_000 and not visited[DN]:\n",
    "            visited[DN] = True\n",
    "            dfs(DN, count + 1)\n",
    "            visited[DN] = False\n",
    "\n",
    "\n",
    "visited[N] = True\n",
    "dfs(N, 0)\n",
    "\n",
    "print(min_count)"
   ]
  }
 ],
 "metadata": {
  "kernelspec": {
   "display_name": "Python 3",
   "language": "python",
   "name": "python3"
  },
  "language_info": {
   "codemirror_mode": {
    "name": "ipython",
    "version": 3
   },
   "file_extension": ".py",
   "mimetype": "text/x-python",
   "name": "python",
   "nbconvert_exporter": "python",
   "pygments_lexer": "ipython3",
   "version": "3.9.6"
  }
 },
 "nbformat": 4,
 "nbformat_minor": 2
}
