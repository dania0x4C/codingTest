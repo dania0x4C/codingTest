{
 "cells": [
  {
   "cell_type": "code",
   "execution_count": 3,
   "metadata": {},
   "outputs": [],
   "source": [
    "class InputMock:\n",
    "    def __init__(self, text: str):\n",
    "        self.source = text.strip()\n",
    "\n",
    "    def reset(self):\n",
    "        self.lines = self.source.split('\\n')\n",
    "        self.current = 0\n",
    "\n",
    "    def __call__(self):\n",
    "        if not hasattr(self, 'lines') or self.current >= len(self.lines):\n",
    "            self.reset()\n",
    "        line = self.lines[self.current]\n",
    "        self.current += 1\n",
    "        return line\n",
    "\n",
    "test_input = \"\"\"\n",
    "5 7\n",
    "WLLWWWL\n",
    "LLLWLLL\n",
    "LWLWLWW\n",
    "LWLWLLL\n",
    "WLLWLWW\n",
    "\"\"\"\n",
    "\n",
    "input = InputMock(test_input)"
   ]
  },
  {
   "cell_type": "code",
   "execution_count": 12,
   "metadata": {},
   "outputs": [
    {
     "name": "stdout",
     "output_type": "stream",
     "text": [
      "12\n"
     ]
    }
   ],
   "source": [
    "'''\n",
    "L = 육지\n",
    "W = 바다\n",
    "directions = [(1,0), (-1, 0), (0, 1), (0, -1)]\n",
    "시작 위치는 무작위\n",
    "'''\n",
    "\n",
    "import sys\n",
    "\n",
    "# input = sys.stdin.readline\n",
    "\n",
    "def dfs(x, y, visited, world):# 작성 해야함\n",
    "    directions = [(1,0), (-1, 0), (0, 1), (0, -1)]\n",
    "    count = 1\n",
    "    for dx, dy in directions:\n",
    "        nx, ny = dx+x, dy+y\n",
    "        if 0<= nx < h and 0 <= ny < w and visited[nx][ny] == False and world[nx][ny] == 'L':\n",
    "            visited[nx][ny] = True\n",
    "            count += dfs(nx, ny, visited, world)\n",
    "    return count\n",
    "\n",
    "h, w = map(int, input().strip().split())\n",
    "world = [list(input().strip()) for _ in range(h)]\n",
    "visited = [[False] * w for _ in range(h)]# visited number로 수정하고 마지막 이동 불가 칸에 적힌 숫자를 반환\n",
    "maxValue = 0\n",
    "\n",
    "for i in range(h):\n",
    "    for j in range(w):\n",
    "        if visited[i][j] == False and world[i][j] == 'L':\n",
    "            count = dfs(i, j, visited, world)\n",
    "            maxValue = max(maxValue, count)\n",
    "\n",
    "print(maxValue)\n",
    "\n"
   ]
  }
 ],
 "metadata": {
  "kernelspec": {
   "display_name": "Python 3",
   "language": "python",
   "name": "python3"
  },
  "language_info": {
   "codemirror_mode": {
    "name": "ipython",
    "version": 3
   },
   "file_extension": ".py",
   "mimetype": "text/x-python",
   "name": "python",
   "nbconvert_exporter": "python",
   "pygments_lexer": "ipython3",
   "version": "3.9.6"
  }
 },
 "nbformat": 4,
 "nbformat_minor": 2
}
