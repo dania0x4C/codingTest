{
 "cells": [
  {
   "cell_type": "code",
   "execution_count": null,
   "id": "53940f7a",
   "metadata": {},
   "outputs": [],
   "source": [
    "import sys\n",
    "sys.setrecursionlimit(10000)  # 재귀 깊이 제한 증가\n",
    "\n",
    "def solve():\n",
    "    input = sys.stdin.readline\n",
    "    N = int(input().strip())\n",
    "    mat = [list(map(int, input().split())) for _ in range(N)]\n",
    "    visited = [False] * N\n",
    "\n",
    "    def dfs(u):\n",
    "        visited[u] = True\n",
    "        for v in range(N):\n",
    "            if mat[u][v] == 1 and not visited[v]:\n",
    "                dfs(v)\n",
    "\n",
    "    cnt = 0\n",
    "    for i in range(N):\n",
    "        if not visited[i]:\n",
    "            dfs(i)\n",
    "            cnt += 1\n",
    "\n",
    "    print(cnt)\n",
    "\n",
    "if __name__ == \"__main__\":\n",
    "    solve()"
   ]
  }
 ],
 "metadata": {
  "language_info": {
   "name": "python"
  }
 },
 "nbformat": 4,
 "nbformat_minor": 5
}
