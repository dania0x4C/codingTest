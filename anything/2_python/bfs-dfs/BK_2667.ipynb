{
 "cells": [
  {
   "cell_type": "code",
   "execution_count": 3,
   "metadata": {},
   "outputs": [],
   "source": [
    "class InputMock:\n",
    "    def __init__(self, text: str):\n",
    "        self.source = text.strip()\n",
    "\n",
    "    def reset(self):\n",
    "        self.lines = self.source.split('\\n')\n",
    "        self.current = 0\n",
    "\n",
    "    def __call__(self):\n",
    "        if not hasattr(self, 'lines') or self.current >= len(self.lines):\n",
    "            self.reset()\n",
    "        line = self.lines[self.current]\n",
    "        self.current += 1\n",
    "        return line\n",
    "\n",
    "test_input = \"\"\"\n",
    "7\n",
    "0110100\n",
    "0110101\n",
    "1110101\n",
    "0000111\n",
    "0100000\n",
    "0111110\n",
    "0111000\n",
    "\"\"\"\n",
    "\n",
    "input = InputMock(test_input)"
   ]
  },
  {
   "cell_type": "code",
   "execution_count": 8,
   "metadata": {},
   "outputs": [
    {
     "name": "stdout",
     "output_type": "stream",
     "text": [
      "3\n",
      "7\n",
      "8\n",
      "9\n"
     ]
    }
   ],
   "source": [
    "'''\n",
    "정사각형\n",
    "1 = 집\n",
    "0 = 집 없음\n",
    "단지를 정의, 번호 붙이기\n",
    "단지 = 사방에 연결된 집 대각선은 연결 아님\n",
    "각 단지마다의 수를 오름차순으로 정렬하여 출력\n",
    "\n",
    "'''\n",
    "import sys\n",
    "# input = sys.stdin.readline\n",
    "\n",
    "N = int(input().strip())\n",
    "world = [list(map(int, input().strip())) for _ in range(N)]\n",
    "visited = [[False] * N for _ in range(N)]\n",
    "towns = []\n",
    "\n",
    "def dfs(x, y):\n",
    "\n",
    "    visited[x][y] = True\n",
    "    cnt = 1  # 현재 집 한 채\n",
    "    directions = [(1, 0), (-1, 0), (0, 1), (0, -1)]\n",
    "\n",
    "    for dx, dy in directions:\n",
    "        nx, ny = x + dx, y + dy\n",
    "        if 0 <= nx < N and 0 <= ny < N:\n",
    "            if not visited[nx][ny] and world[nx][ny] == 1:\n",
    "                cnt += dfs(nx, ny)\n",
    "\n",
    "    return cnt\n",
    "\n",
    "\n",
    "# 전체 탐색\n",
    "for i in range(N):\n",
    "    for j in range(N):\n",
    "        if world[i][j] == 1 and not visited[i][j]:\n",
    "            size = dfs(i, j)\n",
    "            towns.append(size)\n",
    "\n",
    "# 결과 출력\n",
    "towns.sort()\n",
    "print(len(towns))\n",
    "for t in towns:\n",
    "    print(t)\n",
    "\n"
   ]
  },
  {
   "cell_type": "markdown",
   "metadata": {},
   "source": [
    "스택이나 재귀"
   ]
  },
  {
   "cell_type": "markdown",
   "metadata": {},
   "source": [
    "# 못 한거 = dfs구조는 맞았는데 전체 탐색을 만들까 말까는 고민하다가 안 하고 못 만듬"
   ]
  }
 ],
 "metadata": {
  "kernelspec": {
   "display_name": "Python 3",
   "language": "python",
   "name": "python3"
  },
  "language_info": {
   "codemirror_mode": {
    "name": "ipython",
    "version": 3
   },
   "file_extension": ".py",
   "mimetype": "text/x-python",
   "name": "python",
   "nbconvert_exporter": "python",
   "pygments_lexer": "ipython3",
   "version": "3.9.6"
  }
 },
 "nbformat": 4,
 "nbformat_minor": 2
}
