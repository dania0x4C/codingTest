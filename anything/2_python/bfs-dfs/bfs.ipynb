{
 "cells": [
  {
   "cell_type": "code",
   "execution_count": null,
   "id": "f4277a2c",
   "metadata": {},
   "outputs": [],
   "source": [
    "import sys\n",
    "from collections import deque\n",
    "\n",
    "input = sys.stdin.readline\n",
    "\n",
    "N = int(input().strip())\n",
    "board = [list(map(int, input().split())) for _ in range(N)]\n",
    "max_h = max(map(max, board))\n",
    "\n",
    "def bfs(sr, sc, h, visited):\n",
    "    q = deque([(sr, sc)])\n",
    "    visited[sr][sc] = True\n",
    "    while q:\n",
    "        r, c = q.popleft()\n",
    "        for dr, dc in ((1,0),(-1,0),(0,1),(0,-1)):\n",
    "            nr, nc = r+dr, c+dc\n",
    "            if 0 <= nr < N and 0 <= nc < N:\n",
    "                if not visited[nr][nc] and board[nr][nc] > h:\n",
    "                    visited[nr][nc] = True\n",
    "                    q.append((nr, nc))\n",
    "\n",
    "ans = 0\n",
    "for h in range(0, max_h + 1):  # 비의 양(수위)\n",
    "    visited = [[False]*N for _ in range(N)]\n",
    "    cnt = 0\n",
    "    for i in range(N):\n",
    "        for j in range(N):\n",
    "            if board[i][j] > h and not visited[i][j]:\n",
    "                bfs(i, j, h, visited)\n",
    "                cnt += 1\n",
    "    ans = max(ans, cnt)\n",
    "\n",
    "print(ans)"
   ]
  }
 ],
 "metadata": {
  "language_info": {
   "name": "python"
  }
 },
 "nbformat": 4,
 "nbformat_minor": 5
}
