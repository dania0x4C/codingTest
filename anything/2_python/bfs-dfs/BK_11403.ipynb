{
 "cells": [
  {
   "cell_type": "code",
   "execution_count": 4,
   "metadata": {},
   "outputs": [],
   "source": [
    "class InputMock:\n",
    "    def __init__(self, text: str):\n",
    "        self.source = text.strip()\n",
    "\n",
    "    def reset(self):\n",
    "        self.lines = self.source.split('\\n')\n",
    "        self.current = 0\n",
    "\n",
    "    def __call__(self):\n",
    "        if not hasattr(self, 'lines') or self.current >= len(self.lines):\n",
    "            self.reset()\n",
    "        line = self.lines[self.current]\n",
    "        self.current += 1\n",
    "        return line\n",
    "\n",
    "test_input = \"\"\"\n",
    "7\n",
    "0 0 0 1 0 0 0\n",
    "0 0 0 0 0 0 1\n",
    "0 0 0 0 0 0 0\n",
    "0 0 0 0 1 1 0\n",
    "1 0 0 0 0 0 0\n",
    "0 0 0 0 0 0 1\n",
    "0 0 1 0 0 0 0\n",
    "\"\"\"\n",
    "\n",
    "input = InputMock(test_input)"
   ]
  },
  {
   "cell_type": "code",
   "execution_count": null,
   "metadata": {},
   "outputs": [],
   "source": [
    "import sys\n",
    "\n",
    "# input = sys.stdin.readline\n",
    "'''\n",
    "i -> j 로 가는 간선이 존재\n",
    "\n",
    "'''\n",
    "N = int(input().strip())\n",
    "\n",
    "graph = [list(map(int, input().strip().split())) for _ in range(N)]\n",
    "visited = [[False] * N for _ in range(N)]\n",
    "\n",
    "def dfs(x, y, graph, visited):\n",
    "    directions = [(0, 1),(0, -1),(1, 0),(-1, 0)]\n",
    "\n",
    "    for dx, dy in directions:\n",
    "        nx, ny = dx+x, dy+y\n",
    "        if visited[nx][ny] == False:\n",
    "            visited[nx][ny] == True\n",
    "\n"
   ]
  }
 ],
 "metadata": {
  "kernelspec": {
   "display_name": "Python 3",
   "language": "python",
   "name": "python3"
  },
  "language_info": {
   "codemirror_mode": {
    "name": "ipython",
    "version": 3
   },
   "file_extension": ".py",
   "mimetype": "text/x-python",
   "name": "python",
   "nbconvert_exporter": "python",
   "pygments_lexer": "ipython3",
   "version": "3.9.6"
  }
 },
 "nbformat": 4,
 "nbformat_minor": 2
}
