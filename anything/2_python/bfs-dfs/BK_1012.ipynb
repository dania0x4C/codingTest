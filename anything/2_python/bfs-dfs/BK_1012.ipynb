{
 "cells": [
  {
   "cell_type": "code",
   "execution_count": 14,
   "metadata": {},
   "outputs": [],
   "source": [
    "class InputMock:\n",
    "    def __init__(self, text: str):\n",
    "        self.source = text.strip()\n",
    "\n",
    "    def reset(self):\n",
    "        self.lines = self.source.split('\\n')\n",
    "        self.current = 0\n",
    "\n",
    "    def __call__(self):\n",
    "        if not hasattr(self, 'lines') or self.current >= len(self.lines):\n",
    "            self.reset()\n",
    "        line = self.lines[self.current]\n",
    "        self.current += 1\n",
    "        return line\n",
    "\n",
    "test_input = \"\"\"\n",
    "2\n",
    "10 8 17\n",
    "0 0\n",
    "1 0\n",
    "1 1\n",
    "4 2\n",
    "4 3\n",
    "4 5\n",
    "2 4\n",
    "3 4\n",
    "7 4\n",
    "8 4\n",
    "9 4\n",
    "7 5\n",
    "8 5\n",
    "9 5\n",
    "7 6\n",
    "8 6\n",
    "9 6\n",
    "10 10 1\n",
    "5 5\n",
    "\"\"\"\n",
    "\n",
    "input = InputMock(test_input)"
   ]
  },
  {
   "cell_type": "code",
   "execution_count": null,
   "metadata": {},
   "outputs": [
    {
     "ename": "IndexError",
     "evalue": "list index out of range",
     "output_type": "error",
     "traceback": [
      "\u001b[0;31m---------------------------------------------------------------------------\u001b[0m",
      "\u001b[0;31mIndexError\u001b[0m                                Traceback (most recent call last)",
      "Cell \u001b[0;32mIn[15], line 30\u001b[0m\n\u001b[1;32m     28\u001b[0m \u001b[38;5;28;01mfor\u001b[39;00m i, j \u001b[38;5;129;01min\u001b[39;00m farm:\n\u001b[1;32m     29\u001b[0m     \u001b[38;5;28;01mif\u001b[39;00m visited[i][j] \u001b[38;5;241m==\u001b[39m \u001b[38;5;28;01mFalse\u001b[39;00m:\n\u001b[0;32m---> 30\u001b[0m         \u001b[43mdfs\u001b[49m\u001b[43m(\u001b[49m\u001b[43mi\u001b[49m\u001b[43m,\u001b[49m\u001b[43m \u001b[49m\u001b[43mj\u001b[49m\u001b[43m,\u001b[49m\u001b[43m \u001b[49m\u001b[43mfarm\u001b[49m\u001b[43m,\u001b[49m\u001b[43m \u001b[49m\u001b[43mvisited\u001b[49m\u001b[43m)\u001b[49m\n\u001b[1;32m     31\u001b[0m         count \u001b[38;5;241m+\u001b[39m\u001b[38;5;241m=\u001b[39m \u001b[38;5;241m1\u001b[39m\n\u001b[1;32m     32\u001b[0m \u001b[38;5;28mprint\u001b[39m(count)\n",
      "Cell \u001b[0;32mIn[15], line 16\u001b[0m, in \u001b[0;36mdfs\u001b[0;34m(x, y, farm, visited)\u001b[0m\n\u001b[1;32m     14\u001b[0m \u001b[38;5;28;01mif\u001b[39;00m \u001b[38;5;241m0\u001b[39m \u001b[38;5;241m<\u001b[39m\u001b[38;5;241m=\u001b[39m nx \u001b[38;5;241m<\u001b[39m M \u001b[38;5;129;01mand\u001b[39;00m \u001b[38;5;241m0\u001b[39m \u001b[38;5;241m<\u001b[39m\u001b[38;5;241m=\u001b[39m ny \u001b[38;5;241m<\u001b[39m N \u001b[38;5;129;01mand\u001b[39;00m visited[nx][ny] \u001b[38;5;241m==\u001b[39m \u001b[38;5;28;01mFalse\u001b[39;00m:\n\u001b[1;32m     15\u001b[0m     visited[nx][ny] \u001b[38;5;241m=\u001b[39m \u001b[38;5;28;01mTrue\u001b[39;00m\n\u001b[0;32m---> 16\u001b[0m     \u001b[43mdfs\u001b[49m\u001b[43m(\u001b[49m\u001b[43mnx\u001b[49m\u001b[43m,\u001b[49m\u001b[43m \u001b[49m\u001b[43mny\u001b[49m\u001b[43m,\u001b[49m\u001b[43m \u001b[49m\u001b[43mfarm\u001b[49m\u001b[43m,\u001b[49m\u001b[43m \u001b[49m\u001b[43mvisited\u001b[49m\u001b[43m)\u001b[49m\n",
      "Cell \u001b[0;32mIn[15], line 16\u001b[0m, in \u001b[0;36mdfs\u001b[0;34m(x, y, farm, visited)\u001b[0m\n\u001b[1;32m     14\u001b[0m \u001b[38;5;28;01mif\u001b[39;00m \u001b[38;5;241m0\u001b[39m \u001b[38;5;241m<\u001b[39m\u001b[38;5;241m=\u001b[39m nx \u001b[38;5;241m<\u001b[39m M \u001b[38;5;129;01mand\u001b[39;00m \u001b[38;5;241m0\u001b[39m \u001b[38;5;241m<\u001b[39m\u001b[38;5;241m=\u001b[39m ny \u001b[38;5;241m<\u001b[39m N \u001b[38;5;129;01mand\u001b[39;00m visited[nx][ny] \u001b[38;5;241m==\u001b[39m \u001b[38;5;28;01mFalse\u001b[39;00m:\n\u001b[1;32m     15\u001b[0m     visited[nx][ny] \u001b[38;5;241m=\u001b[39m \u001b[38;5;28;01mTrue\u001b[39;00m\n\u001b[0;32m---> 16\u001b[0m     \u001b[43mdfs\u001b[49m\u001b[43m(\u001b[49m\u001b[43mnx\u001b[49m\u001b[43m,\u001b[49m\u001b[43m \u001b[49m\u001b[43mny\u001b[49m\u001b[43m,\u001b[49m\u001b[43m \u001b[49m\u001b[43mfarm\u001b[49m\u001b[43m,\u001b[49m\u001b[43m \u001b[49m\u001b[43mvisited\u001b[49m\u001b[43m)\u001b[49m\n",
      "    \u001b[0;31m[... skipping similar frames: dfs at line 16 (4 times)]\u001b[0m\n",
      "Cell \u001b[0;32mIn[15], line 16\u001b[0m, in \u001b[0;36mdfs\u001b[0;34m(x, y, farm, visited)\u001b[0m\n\u001b[1;32m     14\u001b[0m \u001b[38;5;28;01mif\u001b[39;00m \u001b[38;5;241m0\u001b[39m \u001b[38;5;241m<\u001b[39m\u001b[38;5;241m=\u001b[39m nx \u001b[38;5;241m<\u001b[39m M \u001b[38;5;129;01mand\u001b[39;00m \u001b[38;5;241m0\u001b[39m \u001b[38;5;241m<\u001b[39m\u001b[38;5;241m=\u001b[39m ny \u001b[38;5;241m<\u001b[39m N \u001b[38;5;129;01mand\u001b[39;00m visited[nx][ny] \u001b[38;5;241m==\u001b[39m \u001b[38;5;28;01mFalse\u001b[39;00m:\n\u001b[1;32m     15\u001b[0m     visited[nx][ny] \u001b[38;5;241m=\u001b[39m \u001b[38;5;28;01mTrue\u001b[39;00m\n\u001b[0;32m---> 16\u001b[0m     \u001b[43mdfs\u001b[49m\u001b[43m(\u001b[49m\u001b[43mnx\u001b[49m\u001b[43m,\u001b[49m\u001b[43m \u001b[49m\u001b[43mny\u001b[49m\u001b[43m,\u001b[49m\u001b[43m \u001b[49m\u001b[43mfarm\u001b[49m\u001b[43m,\u001b[49m\u001b[43m \u001b[49m\u001b[43mvisited\u001b[49m\u001b[43m)\u001b[49m\n",
      "Cell \u001b[0;32mIn[15], line 14\u001b[0m, in \u001b[0;36mdfs\u001b[0;34m(x, y, farm, visited)\u001b[0m\n\u001b[1;32m     12\u001b[0m \u001b[38;5;28;01mfor\u001b[39;00m dx, dy \u001b[38;5;129;01min\u001b[39;00m directions:\n\u001b[1;32m     13\u001b[0m     nx, ny \u001b[38;5;241m=\u001b[39m dx \u001b[38;5;241m+\u001b[39m x, dy \u001b[38;5;241m+\u001b[39m y\n\u001b[0;32m---> 14\u001b[0m     \u001b[38;5;28;01mif\u001b[39;00m \u001b[38;5;241m0\u001b[39m \u001b[38;5;241m<\u001b[39m\u001b[38;5;241m=\u001b[39m nx \u001b[38;5;241m<\u001b[39m M \u001b[38;5;129;01mand\u001b[39;00m \u001b[38;5;241m0\u001b[39m \u001b[38;5;241m<\u001b[39m\u001b[38;5;241m=\u001b[39m ny \u001b[38;5;241m<\u001b[39m N \u001b[38;5;129;01mand\u001b[39;00m \u001b[43mvisited\u001b[49m\u001b[43m[\u001b[49m\u001b[43mnx\u001b[49m\u001b[43m]\u001b[49m[ny] \u001b[38;5;241m==\u001b[39m \u001b[38;5;28;01mFalse\u001b[39;00m:\n\u001b[1;32m     15\u001b[0m         visited[nx][ny] \u001b[38;5;241m=\u001b[39m \u001b[38;5;28;01mTrue\u001b[39;00m\n\u001b[1;32m     16\u001b[0m         dfs(nx, ny, farm, visited)\n",
      "\u001b[0;31mIndexError\u001b[0m: list index out of range"
     ]
    }
   ],
   "source": [
    "import sys\n",
    "\n",
    "# input = sys.stdin.readline\n",
    "'''\n",
    "1이 있는 곳은 배추\n",
    "각 영역에 지렁이 한 마리 배치\n",
    "몇개의 지렁이가 필요한지 구해라 = 몇개의 영역인지 구해라\n",
    "'''\n",
    "\n",
    "def dfs(x, y, farm, visited):\n",
    "    directions = [(1, 0),(-1, 0),(0, 1),(0, -1)]\n",
    "    for dx, dy in directions:\n",
    "        nx, ny = dx + x, dy + y\n",
    "        if 0 <= nx < M and 0 <= ny < N and visited[nx][ny] == False:\n",
    "            visited[nx][ny] = True\n",
    "            if farm[nx][ny] == 1:\n",
    "                dfs(nx, ny, farm, visited)\n",
    "\n",
    "            \n",
    "\n",
    "T = int(input().strip())\n",
    "\n",
    "for _ in range(T):\n",
    "    M, N, K = map(int, input().strip().split())\n",
    "    farm = [list(map(int, input().strip().split())) for _ in range(K)]\n",
    "    visited = [[False] * M for _ in range(N)]\n",
    "    count = 0\n",
    "\n",
    "    for i in range(M):\n",
    "        for j in range(N):\n",
    "            if visited[i][j] == False and farm[i][j] == 1:\n",
    "                dfs(i, j, farm, visited)\n",
    "                count += 1\n",
    "    print(count)"
   ]
  },
  {
   "cell_type": "markdown",
   "metadata": {},
   "source": [
    "위에는 farm이 배열 형태면 올바른 정답"
   ]
  },
  {
   "cell_type": "code",
   "execution_count": null,
   "metadata": {},
   "outputs": [],
   "source": [
    "def dfs(field, visited, y, x, M, N):\n",
    "    directions = [(-1, 0), (1, 0), (0, -1), (0, 1)]\n",
    "    stack = [(y, x)]\n",
    "    visited[y][x] = True\n",
    "\n",
    "    while stack:\n",
    "        cy, cx = stack.pop()\n",
    "        for dy, dx in directions:\n",
    "            ny, nx = cy + dy, cx + dx\n",
    "            if 0 <= ny < N and 0 <= nx < M and not visited[ny][nx] and field[ny][nx] == 1:\n",
    "                visited[ny][nx] = True\n",
    "                stack.append((ny, nx))\n",
    "\n",
    "def solve_dfs(M, N, K, cabbages):\n",
    "    field = [[0] * M for _ in range(N)]\n",
    "    visited = [[False] * M for _ in range(N)]\n",
    "    for x, y in cabbages:\n",
    "        field[y][x] = 1\n",
    "\n",
    "    count = 0\n",
    "    for i in range(N):\n",
    "        for j in range(M):\n",
    "            if field[i][j] == 1 and not visited[i][j]:\n",
    "                dfs(field, visited, i, j, M, N)\n",
    "                count += 1\n",
    "    return count\n"
   ]
  }
 ],
 "metadata": {
  "kernelspec": {
   "display_name": "Python 3",
   "language": "python",
   "name": "python3"
  },
  "language_info": {
   "codemirror_mode": {
    "name": "ipython",
    "version": 3
   },
   "file_extension": ".py",
   "mimetype": "text/x-python",
   "name": "python",
   "nbconvert_exporter": "python",
   "pygments_lexer": "ipython3",
   "version": "3.9.6"
  }
 },
 "nbformat": 4,
 "nbformat_minor": 2
}
