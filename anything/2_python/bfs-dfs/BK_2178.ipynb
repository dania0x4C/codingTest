{
 "cells": [
  {
   "cell_type": "code",
   "execution_count": 26,
   "metadata": {},
   "outputs": [],
   "source": [
    "class InputMock:\n",
    "    def __init__(self, text: str):\n",
    "        # 사용자가 지정한 입력 문자열을 저장 (전체 문자열)\n",
    "        self.source = text.strip()  # 앞뒤 공백 제거\n",
    "        # 아직 줄 단위로 나누지는 않음 → 첫 호출 시 reset()으로 분리됨\n",
    "\n",
    "    def reset(self):\n",
    "        # 원본 문자열을 줄 단위 리스트로 변환\n",
    "        self.lines = self.source.split('\\n')\n",
    "        # 현재 읽고 있는 줄 번호를 초기화\n",
    "        self.current = 0\n",
    "\n",
    "    def __call__(self):\n",
    "        # 아직 reset된 적 없거나, 모든 줄을 다 읽었으면 자동 초기화\n",
    "        if not hasattr(self, 'lines') or self.current >= len(self.lines):\n",
    "            self.reset()\n",
    "        # 현재 줄 반환 후, 다음 줄로 인덱스 이동\n",
    "        line = self.lines[self.current]\n",
    "        self.current += 1\n",
    "        return line\n",
    "\n",
    "\n",
    "# 테스트 입력 정의 (여러 줄 입력도 가능)\n",
    "test_input = \"\"\"\n",
    "4 6\n",
    "110110\n",
    "110110\n",
    "111111\n",
    "111101\n",
    "\"\"\"\n",
    "\n",
    "# input()처럼 사용 가능하게 인스턴스 생성\n",
    "input = InputMock(test_input)"
   ]
  },
  {
   "cell_type": "code",
   "execution_count": 29,
   "metadata": {},
   "outputs": [
    {
     "name": "stdout",
     "output_type": "stream",
     "text": [
      "9\n"
     ]
    }
   ],
   "source": [
    "import sys\n",
    "from collections import deque\n",
    "'''\n",
    "1 = 이동할 수 있는 칸\n",
    "0 = 이동할 수 없는 칸\n",
    "\n",
    "(1, 1)에서 시작\n",
    "(N, M)에서 끝\n",
    "\n",
    "최소한의 이동으로 끝칸으로 갈 수 있는 칸 수를 반환\n",
    "\n",
    "[\n",
    "    [1, 1, 0, 1, 1, 0], \n",
    "    [1, 1, 0, 1, 1, 0], \n",
    "    [1, 1, 1, 1, 1, 1], \n",
    "    [1, 1, 1, 1, 0, 1]\n",
    "]\n",
    "'''\n",
    "\n",
    "# input = sys.stdin.readline\n",
    "\n",
    "N, M = map(int, input().strip().split())\n",
    "maze = [list(map(int, input().strip())) for _ in range(N)]\n",
    "visited = [[0] * M for _ in range(N)]\n",
    "visited[0][0] = 1\n",
    "queue = deque([(0, 0)])\n",
    "directions = [(0, 1), (0, -1), (1, 0), (-1, 0)]\n",
    "\n",
    "def bfs(x, y, visited, maze):\n",
    "    while queue:\n",
    "        x, y = queue.popleft()\n",
    "\n",
    "        for dx, dy in directions:\n",
    "            cx = dx + x\n",
    "            cy = dy + y\n",
    "            \n",
    "\n",
    "            if 0 <= cx < N and 0 <= cy < M and visited[cx][cy] == 0 and maze[cx][cy] == 1 :# 이건 좀 몰라\n",
    "                queue.append((cx, cy))\n",
    "                visited[cx][cy] = visited[x][y] + 1\n",
    "bfs(0,0, visited, maze)\n",
    "print(visited[N-1][M-1])           "
   ]
  },
  {
   "cell_type": "markdown",
   "metadata": {},
   "source": [
    "1. 떨어져 있으면 그걸 기준으로 split을 해야 나누어지고\n",
    "2. 붙어 있으면 그냥 map 함수로 값을 분리"
   ]
  }
 ],
 "metadata": {
  "kernelspec": {
   "display_name": "Python 3",
   "language": "python",
   "name": "python3"
  },
  "language_info": {
   "codemirror_mode": {
    "name": "ipython",
    "version": 3
   },
   "file_extension": ".py",
   "mimetype": "text/x-python",
   "name": "python",
   "nbconvert_exporter": "python",
   "pygments_lexer": "ipython3",
   "version": "3.9.6"
  }
 },
 "nbformat": 4,
 "nbformat_minor": 2
}
