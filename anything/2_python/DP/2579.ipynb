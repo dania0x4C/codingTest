{
 "cells": [
  {
   "cell_type": "code",
   "execution_count": null,
   "id": "3b90bcd7",
   "metadata": {},
   "outputs": [],
   "source": [
    "n = int(input())\n",
    "stairs = [0] + [int(input()) for _ in range(n)]\n",
    "dp = [0] * (n + 1)\n",
    "\n",
    "dp[1] = stairs[1]\n",
    "if n > 1:\n",
    "    dp[2] = stairs[1] + stairs[2]\n",
    "\n",
    "for i in range(3, n + 1):\n",
    "    dp[i] = max(dp[i - 2], dp[i - 3] + stairs[i - 1]) + stairs[i]\n",
    "\n",
    "print(dp[n])"
   ]
  }
 ],
 "metadata": {
  "language_info": {
   "name": "python"
  }
 },
 "nbformat": 4,
 "nbformat_minor": 5
}
