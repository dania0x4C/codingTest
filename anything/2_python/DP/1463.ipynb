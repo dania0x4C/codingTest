{
 "cells": [
  {
   "cell_type": "code",
   "execution_count": null,
   "id": "bfdb8042",
   "metadata": {},
   "outputs": [],
   "source": [
    "x = int(input())\n",
    "dp = [0] * (x + 1)\n",
    "\n",
    "for i in range(2, x + 1):\n",
    "    dp[i] = dp[i - 1] + 1\n",
    "    if i % 2 == 0:\n",
    "        dp[i] = min(dp[i], dp[i // 2] + 1)\n",
    "    if i % 3 == 0:\n",
    "        dp[i] = min(dp[i], dp[i // 3] + 1)\n",
    "\n",
    "print(dp[x])"
   ]
  }
 ],
 "metadata": {
  "language_info": {
   "name": "python"
  }
 },
 "nbformat": 4,
 "nbformat_minor": 5
}
