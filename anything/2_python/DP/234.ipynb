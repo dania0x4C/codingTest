{
 "cells": [
  {
   "cell_type": "code",
   "execution_count": null,
   "id": "5ec107c3",
   "metadata": {},
   "outputs": [],
   "source": [
    "n = int(input().strip())\n",
    "\n",
    "dp = [0] * (n + 1)\n",
    "dp[0] = 1  # 아무것도 안 더하는 경우\n",
    "\n",
    "for i in range(1, n + 1):\n",
    "    if i - 1 >= 0:\n",
    "        dp[i] += dp[i - 1]\n",
    "    if i - 2 >= 0:\n",
    "        dp[i] += dp[i - 2]\n",
    "    if i - 3 >= 0:\n",
    "        dp[i] += dp[i - 3]\n",
    "\n",
    "print(dp[n])"
   ]
  }
 ],
 "metadata": {
  "language_info": {
   "name": "python"
  }
 },
 "nbformat": 4,
 "nbformat_minor": 5
}
