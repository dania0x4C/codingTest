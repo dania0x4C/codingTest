{
 "cells": [
  {
   "cell_type": "code",
   "execution_count": 8,
   "metadata": {},
   "outputs": [],
   "source": [
    "class InputMock:\n",
    "    def __init__(self, text: str):\n",
    "        # 사용자가 지정한 입력 문자열을 저장 (전체 문자열)\n",
    "        self.source = text.strip()  # 앞뒤 공백 제거\n",
    "        # 아직 줄 단위로 나누지는 않음 → 첫 호출 시 reset()으로 분리됨\n",
    "\n",
    "    def reset(self):\n",
    "        # 원본 문자열을 줄 단위 리스트로 변환\n",
    "        self.lines = self.source.split('\\n')\n",
    "        # 현재 읽고 있는 줄 번호를 초기화\n",
    "        self.current = 0\n",
    "\n",
    "    def __call__(self):\n",
    "        # 아직 reset된 적 없거나, 모든 줄을 다 읽었으면 자동 초기화\n",
    "        if not hasattr(self, 'lines') or self.current >= len(self.lines):\n",
    "            self.reset()\n",
    "        # 현재 줄 반환 후, 다음 줄로 인덱스 이동\n",
    "        line = self.lines[self.current]\n",
    "        self.current += 1\n",
    "        return line\n",
    "\n",
    "\n",
    "# 테스트 입력 정의 (여러 줄 입력도 가능)\n",
    "test_input = \"\"\"\n",
    "4 11\n",
    "802\n",
    "743\n",
    "457\n",
    "539\n",
    "\"\"\"\n",
    "\n",
    "input = InputMock(test_input)\n"
   ]
  },
  {
   "cell_type": "markdown",
   "metadata": {},
   "source": [
    "https://www.acmicpc.net/problem/1654"
   ]
  },
  {
   "cell_type": "code",
   "execution_count": 7,
   "metadata": {},
   "outputs": [],
   "source": [
    "'''\n",
    "1. K개의 랜선, 길이는 제각각\n",
    "2. N개의 같은 길이의 랜선으로 만들것\n",
    "3. N개보다 많이 만드는 것도 가능\n",
    "4. 최대 랜선의 길이를 구하시오\n",
    "'''\n",
    "import sys\n",
    "\n",
    "# input = sys.stdin.readline\n",
    "\n",
    "K, N = map(int, input().strip().split())\n",
    "lans = sorted(list(map(int, input().strip())), reverse = True)\n",
    "cn = N - K\n",
    "\n",
    "def binary_search(lans):\n",
    "    return lans[0]\n",
    "\n",
    "for i in range(cn):\n",
    "    binary_search(lans)"
   ]
  }
 ],
 "metadata": {
  "kernelspec": {
   "display_name": "Python 3",
   "language": "python",
   "name": "python3"
  },
  "language_info": {
   "codemirror_mode": {
    "name": "ipython",
    "version": 3
   },
   "file_extension": ".py",
   "mimetype": "text/x-python",
   "name": "python",
   "nbconvert_exporter": "python",
   "pygments_lexer": "ipython3",
   "version": "3.9.6"
  }
 },
 "nbformat": 4,
 "nbformat_minor": 2
}
