{
 "cells": [
  {
   "cell_type": "code",
   "execution_count": 3,
   "metadata": {},
   "outputs": [],
   "source": [
    "class InputMock:\n",
    "    def __init__(self, text: str):\n",
    "        # 사용자가 지정한 입력 문자열을 저장 (전체 문자열)\n",
    "        self.source = text.strip()  # 앞뒤 공백 제거\n",
    "        # 아직 줄 단위로 나누지는 않음 → 첫 호출 시 reset()으로 분리됨\n",
    "\n",
    "    def reset(self):\n",
    "        # 원본 문자열을 줄 단위 리스트로 변환\n",
    "        self.lines = self.source.split('\\n')\n",
    "        # 현재 읽고 있는 줄 번호를 초기화\n",
    "        self.current = 0\n",
    "\n",
    "    def __call__(self):\n",
    "        # 아직 reset된 적 없거나, 모든 줄을 다 읽었으면 자동 초기화\n",
    "        if not hasattr(self, 'lines') or self.current >= len(self.lines):\n",
    "            self.reset()\n",
    "        # 현재 줄 반환 후, 다음 줄로 인덱스 이동\n",
    "        line = self.lines[self.current]\n",
    "        self.current += 1\n",
    "        return line\n",
    "\n",
    "\n",
    "# 테스트 입력 정의 (여러 줄 입력도 가능)\n",
    "test_input = \"\"\"\n",
    "5\n",
    "4 1 5 2 3\n",
    "5\n",
    "1 3 7 9 5\n",
    "\"\"\"\n",
    "\n",
    "# input()처럼 사용 가능하게 인스턴스 생성\n",
    "input = InputMock(test_input)\n"
   ]
  },
  {
   "cell_type": "code",
   "execution_count": 2,
   "metadata": {},
   "outputs": [
    {
     "name": "stdout",
     "output_type": "stream",
     "text": [
      "1\n",
      "1\n",
      "0\n",
      "0\n",
      "1\n"
     ]
    }
   ],
   "source": [
    "import sys\n",
    "\n",
    "# input = sys.stdin.readline\n",
    "\n",
    "N = input().strip()\n",
    "A = list(map(int, input().strip().split()))\n",
    "M = input().strip()\n",
    "find = list(map(int, input().strip().split()))\n",
    "\n",
    "for f in find:\n",
    "    findCheck = False\n",
    "    for a in A:\n",
    "        if a == f and findCheck == False:\n",
    "            \n",
    "            print(1)\n",
    "            findCheck = True\n",
    "    if findCheck == False:\n",
    "        print(0)\n"
   ]
  },
  {
   "cell_type": "code",
   "execution_count": 4,
   "metadata": {},
   "outputs": [
    {
     "name": "stdout",
     "output_type": "stream",
     "text": [
      "1\n",
      "1\n",
      "0\n",
      "0\n",
      "1\n"
     ]
    }
   ],
   "source": [
    "import sys\n",
    "\n",
    "# input = sys.stdin.readline\n",
    "\n",
    "N = int(input())\n",
    "A = sorted(map(int, input().strip().split()))\n",
    "M = int(input())\n",
    "find = list(map(int, input().strip().split()))\n",
    "\n",
    "def binary_search(array, target):\n",
    "    left, right = 0, len(array) - 1\n",
    "\n",
    "    while left <= right:\n",
    "        mid = (left + right) // 2\n",
    "        if array[mid] == target:\n",
    "            return True\n",
    "        elif array[mid] < target:\n",
    "            left = mid + 1\n",
    "        else:\n",
    "            right = mid - 1\n",
    "    return False\n",
    "\n",
    "for f in find:\n",
    "    print(1 if binary_search(A, f) else 0)"
   ]
  },
  {
   "cell_type": "code",
   "execution_count": 3,
   "metadata": {},
   "outputs": [
    {
     "name": "stdout",
     "output_type": "stream",
     "text": [
      "1\n",
      "1\n",
      "0\n",
      "0\n",
      "1\n"
     ]
    }
   ],
   "source": [
    "def binary_search(array, target):\n",
    "    left, right = 0, len(array) - 1\n",
    "    while left <= right:\n",
    "        mid = (left + right) // 2\n",
    "        if array[mid] == target:\n",
    "            return True\n",
    "        elif array[mid] < target:\n",
    "            left = mid + 1\n",
    "        else:\n",
    "            right = mid - 1\n",
    "    return False\n",
    "\n",
    "N = int(input().strip())\n",
    "A = sorted(map(int, input().strip().split()))\n",
    "M = int(input().strip())\n",
    "find = list(map(int, input().strip().split()))\n",
    "\n",
    "for f in find:\n",
    "    print(1 if binary_search(A, f) else 0)"
   ]
  }
 ],
 "metadata": {
  "kernelspec": {
   "display_name": "Python 3",
   "language": "python",
   "name": "python3"
  },
  "language_info": {
   "codemirror_mode": {
    "name": "ipython",
    "version": 3
   },
   "file_extension": ".py",
   "mimetype": "text/x-python",
   "name": "python",
   "nbconvert_exporter": "python",
   "pygments_lexer": "ipython3",
   "version": "3.9.6"
  }
 },
 "nbformat": 4,
 "nbformat_minor": 2
}
