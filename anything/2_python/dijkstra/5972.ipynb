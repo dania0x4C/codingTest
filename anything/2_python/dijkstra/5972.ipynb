{
 "cells": [
  {
   "cell_type": "code",
   "execution_count": 1,
   "metadata": {},
   "outputs": [],
   "source": [
    "class InputMock:\n",
    "    def __init__(self, text: str):\n",
    "        self.source = text.strip()\n",
    "\n",
    "    def reset(self):\n",
    "        self.lines = self.source.split('\\n')\n",
    "        self.current = 0\n",
    "\n",
    "    def __call__(self):\n",
    "        if not hasattr(self, 'lines') or self.current >= len(self.lines):\n",
    "            self.reset()\n",
    "        line = self.lines[self.current]\n",
    "        self.current += 1\n",
    "        return line\n",
    "\n",
    "test_input = \"\"\"\n",
    "6 8\n",
    "4 5 3\n",
    "2 4 0\n",
    "4 1 4\n",
    "2 1 1\n",
    "5 6 1\n",
    "3 6 2\n",
    "3 2 6\n",
    "3 4 4\n",
    "\"\"\"\n",
    "\n",
    "input = InputMock(test_input)"
   ]
  },
  {
   "cell_type": "code",
   "execution_count": 4,
   "metadata": {},
   "outputs": [],
   "source": [
    "import sys\n",
    "\n",
    "# input = sys.stdin.readline\n",
    "\n",
    "N, M = map(int, input().strip().split())\n",
    "passages = [list(map(int, input().strip().split())) for _ in range(M)]"
   ]
  }
 ],
 "metadata": {
  "kernelspec": {
   "display_name": "Python 3",
   "language": "python",
   "name": "python3"
  },
  "language_info": {
   "codemirror_mode": {
    "name": "ipython",
    "version": 3
   },
   "file_extension": ".py",
   "mimetype": "text/x-python",
   "name": "python",
   "nbconvert_exporter": "python",
   "pygments_lexer": "ipython3",
   "version": "3.9.6"
  }
 },
 "nbformat": 4,
 "nbformat_minor": 2
}
