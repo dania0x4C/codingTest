{
 "cells": [
  {
   "cell_type": "code",
   "execution_count": 5,
   "metadata": {},
   "outputs": [],
   "source": [
    "class InputMock:\n",
    "    def __init__(self, text: str):\n",
    "        self.source = text.strip()\n",
    "\n",
    "    def reset(self):\n",
    "        self.lines = self.source.split('\\n')\n",
    "        self.current = 0\n",
    "\n",
    "    def __call__(self):\n",
    "        if not hasattr(self, 'lines') or self.current >= len(self.lines):\n",
    "            self.reset()\n",
    "        line = self.lines[self.current]\n",
    "        self.current += 1\n",
    "        return line\n",
    "\n",
    "test_input = \"\"\"\n",
    "4 4 2 1\n",
    "1 2\n",
    "1 3\n",
    "2 3\n",
    "2 4\n",
    "\"\"\"\n",
    "\n",
    "input = InputMock(test_input)"
   ]
  },
  {
   "cell_type": "code",
   "execution_count": 12,
   "metadata": {},
   "outputs": [
    {
     "name": "stdout",
     "output_type": "stream",
     "text": [
      "4\n"
     ]
    }
   ],
   "source": [
    "import sys\n",
    "import heapq\n",
    "\n",
    "# input = sys.stdin.readline\n",
    "\n",
    "N, M, K, X = map(int, input().strip().split())\n",
    "\n",
    "# 인접 리스트\n",
    "road = [[] for _ in range(N+1)]\n",
    "for _ in range(M):\n",
    "    A, B = map(int, input().strip().split())\n",
    "    road[A].append((1, B))  # 가중치 1\n",
    "\n",
    "# 거리 배열\n",
    "INF = float('inf')\n",
    "distance = [INF] * (N + 1)\n",
    "distance[X] = 0\n",
    "\n",
    "# 다익스트라 시작\n",
    "heap = []\n",
    "heapq.heappush(heap, (0, X))\n",
    "\n",
    "while heap:\n",
    "    dist, now = heapq.heappop(heap)\n",
    "\n",
    "    if dist > distance[now]:\n",
    "        continue  # 이미 방문한 거리보다 멀면 스킵\n",
    "\n",
    "    for cost, neighbor in road[now]:\n",
    "        new_cost = dist + cost\n",
    "        if new_cost < distance[neighbor]:\n",
    "            distance[neighbor] = new_cost\n",
    "            heapq.heappush(heap, (new_cost, neighbor))\n",
    "\n",
    "# 결과 출력: 정확히 거리 K인 도시들\n",
    "result = [i for i in range(1, N + 1) if distance[i] == K]\n",
    "\n",
    "if result:\n",
    "    for city in sorted(result):\n",
    "        print(city)\n",
    "else:\n",
    "    print(-1)"
   ]
  },
  {
   "cell_type": "markdown",
   "metadata": {},
   "source": [
    "다익스트라 기본 개념 - 단일 노드에서 단일 출발 -> 모든 노드까지의 최소비용(거리) 이동\n",
    "\n",
    "heapq, distance 배열을 사용, adjacency list 사용"
   ]
  },
  {
   "cell_type": "code",
   "execution_count": 5,
   "metadata": {},
   "outputs": [],
   "source": [
    "import heapq\n",
    "\n",
    "def dijkstra(start, graph, n):\n",
    "    distance = [float('inf')] * (n + 1)\n",
    "    # 모든 노드까지의 거리를 무한대로 초기화\n",
    "    distance[start] = 0\n",
    "    # 시작 노드까지의 거리는 0\n",
    "\n",
    "    heap = []\n",
    "    heapq.heappush(heap, (0, start))\n",
    "    # (거리, 노드) 형태로 heap에 추가\n",
    "\n",
    "    while heap:\n",
    "        dist, now = heapq.heappop(heap)\n",
    "        # 가장 거리가 짧은 노드 선택\n",
    "\n",
    "        if dist > distance[now]:\n",
    "            continue\n",
    "            # 이미 더 짧은 거리로 방문한 적 있다면 무시\n",
    "\n",
    "        for cost, neighbor in graph[now]:\n",
    "            new_cost = dist + cost\n",
    "            # 현재 노드를 거쳐서 neighbor로 가는 비용\n",
    "\n",
    "            if new_cost < distance[neighbor]:\n",
    "                distance[neighbor] = new_cost\n",
    "                # 더 짧은 경로가 발견되면 갱신\n",
    "\n",
    "                heapq.heappush(heap, (new_cost, neighbor))\n",
    "                # 갱신된 노드를 다시 heap에 넣어 탐색 계속\n",
    "\n",
    "    return distance"
   ]
  },
  {
   "cell_type": "code",
   "execution_count": 13,
   "metadata": {},
   "outputs": [
    {
     "name": "stdout",
     "output_type": "stream",
     "text": [
      "4\n"
     ]
    }
   ],
   "source": [
    "import sys\n",
    "import heapq\n",
    "\n",
    "# input = sys.stdin.readline\n",
    "\n",
    "N, M, K, X = map(int, input().strip().split())\n",
    "\n",
    "# 인접 리스트\n",
    "road = [[] for _ in range(N+1)]\n",
    "for _ in range(M):\n",
    "    A, B = map(int, input().strip().split())\n",
    "    road[A].append((1, B))  # 가중치 1\n",
    "\n",
    "# 거리 배열\n",
    "INF = float('inf')\n",
    "distance = [INF] * (N + 1)\n",
    "distance[X] = 0\n",
    "\n",
    "# 다익스트라 시작\n",
    "heap = []\n",
    "heapq.heappush(heap, (0, X))\n",
    "\n",
    "while heap:\n",
    "    dist, now = heapq.heappop(heap)\n",
    "\n",
    "    if dist > distance[now]:\n",
    "        continue  # 이미 방문한 거리보다 멀면 스킵\n",
    "\n",
    "    for cost, neighbor in road[now]:\n",
    "        new_cost = dist + cost\n",
    "        if new_cost < distance[neighbor]:\n",
    "            distance[neighbor] = new_cost\n",
    "            heapq.heappush(heap, (new_cost, neighbor))\n",
    "\n",
    "# 결과 출력: 정확히 거리 K인 도시들\n",
    "result = [i for i in range(1, N + 1) if distance[i] == K]\n",
    "\n",
    "if result:\n",
    "    for city in sorted(result):\n",
    "        print(city)\n",
    "else:\n",
    "    print(-1)"
   ]
  },
  {
   "cell_type": "code",
   "execution_count": 15,
   "metadata": {},
   "outputs": [
    {
     "name": "stdout",
     "output_type": "stream",
     "text": [
      "[inf, 0, 1, 1, 2]\n"
     ]
    }
   ],
   "source": [
    "import sys\n",
    "import heapq\n",
    "\n",
    "N, M, K, X = map(int, input().strip().split())\n",
    "roads = [[] for _ in range(N+1)]\n",
    "for _ in range(M):\n",
    "    A, B = map(int, input().strip().split())\n",
    "    roads[A].append((B, 1))\n",
    "distance = [float('inf')] * (N+1)\n",
    "distance[X] = 0\n",
    "\n",
    "heap = []\n",
    "heapq.heappush(heap, (0, X))\n",
    "\n",
    "while heap:\n",
    "    dist, now = heapq.heappop(heap)\n",
    "\n",
    "    if dist > distance[now]:\n",
    "        continue\n",
    "\n",
    "    for neighbor, cost in roads[now]:\n",
    "        new_cost = dist + cost\n",
    "\n",
    "        if new_cost < distance[neighbor]:\n",
    "            distance[neighbor] = new_cost\n",
    "            heapq.heappush(heap, (new_cost, neighbor))\n",
    "print(distance)"
   ]
  },
  {
   "cell_type": "code",
   "execution_count": 26,
   "metadata": {},
   "outputs": [
    {
     "name": "stdout",
     "output_type": "stream",
     "text": [
      "[inf, 0, 1, 1, 2]\n"
     ]
    }
   ],
   "source": [
    "import sys\n",
    "import heapq\n",
    "\n",
    "N, M, K, X = map(int, input().strip().split())\n",
    "roads = [[] for _ in range(N + 1)]\n",
    "for _ in range(M):\n",
    "    A, B = map(int, input().strip().split())\n",
    "    roads[A].append((B, 1))\n",
    "heap = []\n",
    "heapq.heappush(heap, (0, X))\n",
    "distance = [float('inf')] * (N+1)\n",
    "distance[X] = 0\n",
    "while heap:\n",
    "    dist, now = heapq.heappop(heap)\n",
    "\n",
    "    if dist > distance[now]:\n",
    "        continue\n",
    "\n",
    "    for neighbor, cost in roads[now]:\n",
    "        new_cost = cost + dist\n",
    "        if distance[neighbor] > new_cost:\n",
    "            distance[neighbor] = new_cost\n",
    "            heapq.heappush(heap, (new_cost, neighbor))\n",
    "\n",
    "print(distance)\n"
   ]
  },
  {
   "cell_type": "code",
   "execution_count": null,
   "metadata": {},
   "outputs": [],
   "source": [
    "import sys\n",
    "import heapq\n",
    "\n",
    "N, M, K, X = map(int, input().strip().split())\n",
    "road = []\n",
    "\n",
    "for _ in range(M):\n",
    "    A, B = map(int, input().strip().split())\n",
    "    road[A].append(B)\n",
    "\n",
    "heap = []\n",
    "heapq.heappush(heap, (X, 0)) # 현재위치, distance\n",
    "\n",
    "distance = [float('inf')] * (N+1) \n",
    "distance[X] = 0\n",
    "\n",
    "while heap:\n",
    "    now, dist = heapq.heappop(heap)\n",
    "\n",
    "    if dist < distance[now]\n",
    "\n"
   ]
  }
 ],
 "metadata": {
  "kernelspec": {
   "display_name": "Python 3",
   "language": "python",
   "name": "python3"
  },
  "language_info": {
   "codemirror_mode": {
    "name": "ipython",
    "version": 3
   },
   "file_extension": ".py",
   "mimetype": "text/x-python",
   "name": "python",
   "nbconvert_exporter": "python",
   "pygments_lexer": "ipython3",
   "version": "3.9.6"
  }
 },
 "nbformat": 4,
 "nbformat_minor": 2
}
