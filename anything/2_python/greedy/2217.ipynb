{
 "cells": [
  {
   "cell_type": "code",
   "execution_count": 5,
   "metadata": {},
   "outputs": [],
   "source": [
    "test_input = \"\"\"\\\n",
    "2\n",
    "10\n",
    "15\n",
    "\"\"\"\n",
    "\n",
    "def input():\n",
    "    global line_idx\n",
    "    if 'test_data' not in globals() or 'line_idx' not in globals() or line_idx >= len(globals()['test_data']):\n",
    "        globals()['test_data'] = test_input.strip().split('\\n')\n",
    "        globals()['line_idx'] = 0\n",
    "    line = globals()['test_data'][globals()['line_idx']]\n",
    "    globals()['line_idx'] += 1\n",
    "    return line"
   ]
  },
  {
   "cell_type": "code",
   "execution_count": 11,
   "metadata": {},
   "outputs": [
    {
     "name": "stdout",
     "output_type": "stream",
     "text": [
      "20\n"
     ]
    }
   ],
   "source": [
    "import sys\n",
    "\n",
    "input = sys.stdin.readline\n",
    "\n",
    "N = int(input().strip())\n",
    "roops = [int(input().strip()) for _ in range(N)]\n",
    "sortedRoops = sorted(roops, reverse = True)\n",
    "w = 0 \n",
    "for i in range(len(sortedRoops)):\n",
    "    for weight in range(w, w+sortedRoops[i]+1):# 이걸 한 이유가 각 루프가 들 수 있는 최대 값을 생각 하기 위함\n",
    "        \n",
    "        usedRoops = i+1\n",
    "        if sortedRoops[i] >= weight / (i+1):\n",
    "        # 그래서 해당 값이 들 수 있나 check를 했음\n",
    "        # -> 근데 다음에 들 수 있는 무게 * k 개가 합쳤을때 루프 추가시에 들 수 있는 최종 무게임\n",
    "            w = weight\n",
    "            \n",
    "print(w)"
   ]
  },
  {
   "cell_type": "code",
   "execution_count": null,
   "metadata": {},
   "outputs": [],
   "source": [
    "import sys\n",
    "\n",
    "input = sys.stdin.readline\n",
    "\n",
    "N = int(input().strip())\n",
    "roops = [int(input().strip()) for _ in range(N)]\n",
    "sortedRoops = sorted(roops, reverse = True)\n",
    "max_weight = 0\n",
    "for i in range(len(sortedRoops)):\n",
    "    weight = sortedRoops[i] * (i+1)\n",
    "    max_weight = max(max_weight, weight)\n",
    "print(max_weight)"
   ]
  }
 ],
 "metadata": {
  "kernelspec": {
   "display_name": "Python 3",
   "language": "python",
   "name": "python3"
  },
  "language_info": {
   "codemirror_mode": {
    "name": "ipython",
    "version": 3
   },
   "file_extension": ".py",
   "mimetype": "text/x-python",
   "name": "python",
   "nbconvert_exporter": "python",
   "pygments_lexer": "ipython3",
   "version": "3.9.6"
  }
 },
 "nbformat": 4,
 "nbformat_minor": 2
}
