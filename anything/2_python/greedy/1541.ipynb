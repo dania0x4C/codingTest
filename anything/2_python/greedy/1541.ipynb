{
 "cells": [
  {
   "cell_type": "code",
   "execution_count": 6,
   "metadata": {},
   "outputs": [],
   "source": [
    "test_input = \"\"\"\\\n",
    "55-50+40\n",
    "\"\"\"\n",
    "\n",
    "def input():\n",
    "    global line_idx\n",
    "    if 'test_data' not in globals() or 'line_idx' not in globals() or line_idx >= len(globals()['test_data']):\n",
    "        globals()['test_data'] = test_input.strip().split('\\n')\n",
    "        globals()['line_idx'] = 0\n",
    "    line = globals()['test_data'][globals()['line_idx']]\n",
    "    globals()['line_idx'] += 1\n",
    "    return line"
   ]
  },
  {
   "cell_type": "code",
   "execution_count": 11,
   "metadata": {},
   "outputs": [
    {
     "name": "stdout",
     "output_type": "stream",
     "text": [
      "-35\n"
     ]
    }
   ],
   "source": [
    "import sys\n",
    "\n",
    "input = sys.stdin.readline\n",
    "expression = input()\n",
    "total = 0\n",
    "num = 0\n",
    "minus = False\n",
    "\n",
    "for ch in expression:\n",
    "    if ch == '+' or ch == '-':\n",
    "        if minus:\n",
    "            total -= num\n",
    "        else:\n",
    "            total += num\n",
    "        num = 0\n",
    "        if ch == '-':\n",
    "            minus = True\n",
    "    else:\n",
    "        num = num * 10 + int(ch)\n",
    "\n",
    "if minus:\n",
    "    total -= num\n",
    "else:\n",
    "    total += num\n",
    "\n",
    "print(total)"
   ]
  },
  {
   "cell_type": "code",
   "execution_count": null,
   "metadata": {},
   "outputs": [],
   "source": [
    "expression = input().split('-')\n",
    "total = sum(map(int, expression[0].split('+')))\n",
    "\n",
    "for part in expression[1:]:\n",
    "    total -= sum(map(int, part.split('+')))\n",
    "\n",
    "print(total)"
   ]
  },
  {
   "cell_type": "markdown",
   "metadata": {},
   "source": [
    "# 두 코드의 차이점\n",
    "1. 첫번째 코드는 low level로 작성된 코드로 일일이 분해를 했기 때문에 속도가 빠르다\n",
    "2. 두번째 코드는 split, map, slice 등 python의 기능들을 이용해서 풀었기 때문에 코드 폼은 더 간결하다"
   ]
  }
 ],
 "metadata": {
  "kernelspec": {
   "display_name": "Python 3",
   "language": "python",
   "name": "python3"
  },
  "language_info": {
   "codemirror_mode": {
    "name": "ipython",
    "version": 3
   },
   "file_extension": ".py",
   "mimetype": "text/x-python",
   "name": "python",
   "nbconvert_exporter": "python",
   "pygments_lexer": "ipython3",
   "version": "3.9.6"
  }
 },
 "nbformat": 4,
 "nbformat_minor": 2
}
