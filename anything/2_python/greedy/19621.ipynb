{
 "cells": [
  {
   "cell_type": "markdown",
   "metadata": {},
   "source": [
    "https://www.acmicpc.net/problem/19621"
   ]
  },
  {
   "cell_type": "code",
   "execution_count": 9,
   "metadata": {},
   "outputs": [],
   "source": [
    "class InputMock:\n",
    "    def __init__(self, text: str):\n",
    "        # 사용자가 지정한 입력 문자열을 저장 (전체 문자열)\n",
    "        self.source = text.strip()  # 앞뒤 공백 제거\n",
    "        # 아직 줄 단위로 나누지는 않음 → 첫 호출 시 reset()으로 분리됨\n",
    "\n",
    "    def reset(self):\n",
    "        # 원본 문자열을 줄 단위 리스트로 변환\n",
    "        self.lines = self.source.split('\\n')\n",
    "        # 현재 읽고 있는 줄 번호를 초기화\n",
    "        self.current = 0\n",
    "\n",
    "    def __call__(self):\n",
    "        # 아직 reset된 적 없거나, 모든 줄을 다 읽었으면 자동 초기화\n",
    "        if not hasattr(self, 'lines') or self.current >= len(self.lines):\n",
    "            self.reset()\n",
    "        # 현재 줄 반환 후, 다음 줄로 인덱스 이동\n",
    "        line = self.lines[self.current]\n",
    "        self.current += 1\n",
    "        return line\n",
    "\n",
    "\n",
    "# 테스트 입력 정의 (여러 줄 입력도 가능)\n",
    "test_input = \"\"\"\n",
    "6\n",
    "10 40 80\n",
    "30 60 60\n",
    "50 80 70\n",
    "70 100 100\n",
    "90 120 40\n",
    "110 140 50\n",
    "\"\"\"\n",
    "\n",
    "input = InputMock(test_input)\n",
    "\n"
   ]
  },
  {
   "cell_type": "code",
   "execution_count": 12,
   "metadata": {},
   "outputs": [
    {
     "name": "stdout",
     "output_type": "stream",
     "text": [
      "210\n"
     ]
    }
   ],
   "source": [
    "import sys\n",
    "\n",
    "input = sys.stdin.readline\n",
    "\n",
    "N = int(input().strip())\n",
    "meetings = [list(map(int, input().strip().split())) for _ in range(N)]\n",
    "# 동시 두 개 이상의 회의 x, 중간에 중단 x, 회의의 시작 시간은 끝나는 시간보다 작음, 최대 회의 인원 구해라\n",
    "# 디피로 풀어야 함\n",
    "dp = [0] * (N+1)\n",
    "\n",
    "for i in range(1, N+1):\n",
    "    s, e, p = meetings[i-1]\n",
    "    \n",
    "    if i == 1:\n",
    "        dp[i] = p\n",
    "    elif i == 2:\n",
    "        dp[i] = max(dp[i-1], p)\n",
    "    else:\n",
    "        dp[i] = max(dp[i-1], dp[i-2] + p)\n",
    "\n",
    "print(dp[N])"
   ]
  }
 ],
 "metadata": {
  "kernelspec": {
   "display_name": "Python 3",
   "language": "python",
   "name": "python3"
  },
  "language_info": {
   "codemirror_mode": {
    "name": "ipython",
    "version": 3
   },
   "file_extension": ".py",
   "mimetype": "text/x-python",
   "name": "python",
   "nbconvert_exporter": "python",
   "pygments_lexer": "ipython3",
   "version": "3.9.6"
  }
 },
 "nbformat": 4,
 "nbformat_minor": 2
}
