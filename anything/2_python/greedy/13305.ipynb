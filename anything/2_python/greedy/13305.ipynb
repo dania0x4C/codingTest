{
 "cells": [
  {
   "cell_type": "code",
   "execution_count": 5,
   "metadata": {},
   "outputs": [],
   "source": [
    "test_input = \"\"\"\\\n",
    "6\n",
    "10 10 10 10 10\n",
    "2 3 4 5 1 10\n",
    "\"\"\"\n",
    "\n",
    "def input():\n",
    "    global line_idx\n",
    "    if 'test_data' not in globals() or 'line_idx' not in globals() or line_idx >= len(globals()['test_data']):\n",
    "        globals()['test_data'] = test_input.strip().split('\\n')\n",
    "        globals()['line_idx'] = 0\n",
    "    line = globals()['test_data'][globals()['line_idx']]\n",
    "    globals()['line_idx'] += 1\n",
    "    return line"
   ]
  },
  {
   "cell_type": "code",
   "execution_count": 7,
   "metadata": {},
   "outputs": [
    {
     "name": "stdout",
     "output_type": "stream",
     "text": [
      "90\n"
     ]
    }
   ],
   "source": [
    "import sys\n",
    "\n",
    "input = sys.stdin.readline\n",
    "\n",
    "N = input().strip()\n",
    "roads = list(map(int, input().strip().split()))\n",
    "prices = list(map(int, input().strip().split()))\n",
    "\n",
    "roadLen = 0\n",
    "summitPrice = 0\n",
    "lowPrice = prices[0]\n",
    "\n",
    "for i in range(len(prices)-1): # 0~2로 모든 도시 비교\n",
    "    roadLen += roads[i]# 현재 지나가야 하는 길 2\n",
    "    if lowPrice >= prices[i+1]:# 2\n",
    "        summitPrice += lowPrice * roadLen\n",
    "        roadLen = 0\n",
    "        lowPrice = prices[i+1]\n",
    "if roadLen != 0:\n",
    "    summitPrice += lowPrice * roadLen\n",
    "print(summitPrice)\n",
    "\n",
    "# 왼쪽에서 오른쪽 도시로 이동\n",
    "# 시작시 자동차에 기름 넣음\n",
    "# 1km = 1L 사용\n",
    "# 최소 비용으로 마지막 도시까지\n",
    "# 1. 현재 도시와 다음 도시의 가격을 비교\n",
    "# 1-1. 더 비싸면 다음 도시로 갈 수 있는 L만 채우기\n",
    "# 1-2. 더 싸면 1.로 돌아가기"
   ]
  },
  {
   "cell_type": "code",
   "execution_count": null,
   "metadata": {},
   "outputs": [],
   "source": []
  }
 ],
 "metadata": {
  "kernelspec": {
   "display_name": "Python 3",
   "language": "python",
   "name": "python3"
  },
  "language_info": {
   "codemirror_mode": {
    "name": "ipython",
    "version": 3
   },
   "file_extension": ".py",
   "mimetype": "text/x-python",
   "name": "python",
   "nbconvert_exporter": "python",
   "pygments_lexer": "ipython3",
   "version": "3.9.6"
  }
 },
 "nbformat": 4,
 "nbformat_minor": 2
}
