{
 "cells": [
  {
   "cell_type": "markdown",
   "metadata": {},
   "source": [
    "https://www.acmicpc.net/problem/14890"
   ]
  },
  {
   "cell_type": "code",
   "execution_count": 19,
   "metadata": {},
   "outputs": [],
   "source": [
    "import sys\n",
    "\n",
    "test_data = [\n",
    "    \"6 2\",\n",
    "    \"3 3 3 3 3 3\",\n",
    "    \"2 3 3 3 3 3\",\n",
    "    \"2 2 2 3 2 3\",\n",
    "    \"1 1 1 2 2 2\",\n",
    "    \"1 1 1 3 3 1\",\n",
    "    \"1 1 2 3 3 2\"\n",
    "]\n",
    "\n",
    "line_idx = 0\n",
    "\n",
    "def input():\n",
    "    global line_idx\n",
    "    line = test_data[line_idx]\n",
    "    line_idx += 1\n",
    "    return line + '\\n'\n"
   ]
  },
  {
   "cell_type": "code",
   "execution_count": 16,
   "metadata": {},
   "outputs": [
    {
     "name": "stdout",
     "output_type": "stream",
     "text": [
      "3\n"
     ]
    }
   ],
   "source": [
    "import sys\n",
    "\n",
    "#input = sys.stdin.readline\n",
    "\n",
    "def checkRunAway(stages, L):\n",
    "    length = len(stages)\n",
    "    used = [False] * length\n",
    "\n",
    "    for i in range(length - 1):\n",
    "        diff = stages[i + 1] - stages[i]\n",
    "        \n",
    "        if diff == 0:\n",
    "            continue\n",
    "        \n",
    "        elif diff == 1:  # 오르막\n",
    "            for j in range(L):\n",
    "                if i - j < 0 or stages[i - j] != stages[i] or used[i - j]:\n",
    "                    return False\n",
    "                used[i - j] = True\n",
    "\n",
    "        elif diff == -1:  # 내리막\n",
    "            for j in range(L):\n",
    "                if i + 1 + j >= length or stages[i + 1 + j] != stages[i + 1] or used[i + 1 + j]:\n",
    "                    return False\n",
    "                used[i + 1 + j] = True\n",
    "\n",
    "        else:  # 높이 차이가 2 이상\n",
    "            return False\n",
    "\n",
    "    return True\n",
    "\n",
    "def makeStages(world, startIndex):\n",
    "    stages = []\n",
    "    for i in range(len(world)):\n",
    "        stages.append(world[i][startIndex])\n",
    "\n",
    "    return stages\n",
    "\n",
    "def canWalk(stages, L):\n",
    "    stage = set()\n",
    "    for i in range(len(stages)):\n",
    "        stage.add(stages[i])\n",
    "\n",
    "    if len(stage) == 1:\n",
    "        return 1\n",
    "    else:\n",
    "        if checkRunAway(stages, L) == True:\n",
    "            return 1\n",
    "        else:\n",
    "            return 0\n",
    "\n",
    "N, L = map(int, input().strip().split())\n",
    "world = [list(map(int, input().strip().split())) for _ in range(N)]\n",
    "count = 0 \n",
    "\n",
    "for i in range(len(world)):\n",
    "    rowStages = world[i]\n",
    "    count += canWalk(rowStages, L)\n",
    "    columnStages = makeStages(world, i)\n",
    "    count += canWalk(columnStages, L)\n",
    "\n",
    "print(count)"
   ]
  },
  {
   "cell_type": "code",
   "execution_count": 20,
   "metadata": {},
   "outputs": [
    {
     "name": "stdout",
     "output_type": "stream",
     "text": [
      "3\n"
     ]
    }
   ],
   "source": [
    "n, l = map(int, input().split())\n",
    "graph = [list(map(int, input().split())) for _ in range(n)]\n",
    "result = 0\n",
    "\n",
    "def check(row, visited):\n",
    "    count = 1\n",
    "    for i in range(1, len(row)):\n",
    "        if row[i-1] == row[i]:\n",
    "            count += 1\n",
    "        elif row[i-1] + 1 == row[i] and count >= l and visited[i-l:i] == [False] * l:\n",
    "            count = 1\n",
    "            visited[i-l:i] = [True] * l\n",
    "        elif row[i-1] > row[i]:\n",
    "            count = 1\n",
    "        else:\n",
    "            return False\n",
    "    \n",
    "    return True\n",
    "\n",
    "for _ in range(2):\n",
    "    for row in graph:\n",
    "        visited = [False] * len(row)\n",
    "        if check(row, visited) and check(row[::-1], visited[::-1]):\n",
    "            result += 1\n",
    "        \n",
    "    graph = list(map(list, zip(*graph)))\n",
    "\n",
    "print(result)"
   ]
  },
  {
   "cell_type": "markdown",
   "metadata": {},
   "source": [
    "# 비교분석\n",
    "\n"
   ]
  }
 ],
 "metadata": {
  "kernelspec": {
   "display_name": "Python (jupyter)",
   "language": "python",
   "name": "jupyter"
  },
  "language_info": {
   "codemirror_mode": {
    "name": "ipython",
    "version": 3
   },
   "file_extension": ".py",
   "mimetype": "text/x-python",
   "name": "python",
   "nbconvert_exporter": "python",
   "pygments_lexer": "ipython3",
   "version": "3.13.2"
  }
 },
 "nbformat": 4,
 "nbformat_minor": 2
}
