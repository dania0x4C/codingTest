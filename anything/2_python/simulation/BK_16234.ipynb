{
 "cells": [
  {
   "cell_type": "code",
   "execution_count": 3,
   "metadata": {},
   "outputs": [],
   "source": [
    "test_data = [\n",
    "    \"2 20 50\",\n",
    "    \"50 30\",\n",
    "    \"20 40\",\n",
    "]\n",
    "\n",
    "line_idx = 0\n",
    "\n",
    "def input():\n",
    "    global line_idx\n",
    "    line = test_data[line_idx]\n",
    "    line_idx += 1\n",
    "    return line + '\\n'"
   ]
  },
  {
   "cell_type": "code",
   "execution_count": null,
   "metadata": {},
   "outputs": [],
   "source": [
    "import sys\n",
    "\n",
    "\n",
    "def openBorderLine(firstCountry, secondCountry, R, L):\n",
    "    diff = abs(firstCountry - secondCountry)\n",
    "    if diff >= R and diff <= L:\n",
    "        return True\n",
    "    else:\n",
    "        return False\n",
    "\n",
    "def populationSegregation(coutrysLocation, country):\n",
    "    numberOfCountry = len(country)\n",
    "    totalPopulation = 0\n",
    "    for i, j in coutrysLocation:\n",
    "        totalPopulation += country[i][j]\n",
    "\n",
    "    population = int (totalPopulation / numberOfCountry)\n",
    "    return population\n",
    "\n",
    "# input = sys.stdin.readline\n",
    "N, L, R = map(int, input().strip().split())\n",
    "country = [list(map(int, input().strip().split())) for i in range(N)]\n",
    "days = 0\n",
    "isOpen = True\n",
    "visited = [tuple()]# 이거 아니면 쨋든 아래에 열려있는지 확인 후 -> 하나도 없으면 Fals\n",
    "\n",
    "while isOpen:\n",
    "    coutrysLocation = []\n",
    "    days += 1\n",
    "    #for i in range(N):\n",
    "        #for j in range(N):\n",
    "\n",
    "\n",
    "    population = populationSegregation(coutrysLocation, country)\n",
    "\n",
    "    for i, j in coutrysLocation:\n",
    "        country[i][j] = population\n",
    "\n",
    "    isOpen = False# 이거 닫을 조건이랑 열리는 조건 만들면 끝\n",
    "\n",
    "print(days)\n",
    "\n"
   ]
  }
 ],
 "metadata": {
  "kernelspec": {
   "display_name": "Python (jupyter)",
   "language": "python",
   "name": "jupyter"
  },
  "language_info": {
   "codemirror_mode": {
    "name": "ipython",
    "version": 3
   },
   "file_extension": ".py",
   "mimetype": "text/x-python",
   "name": "python",
   "nbconvert_exporter": "python",
   "pygments_lexer": "ipython3",
   "version": "3.13.2"
  }
 },
 "nbformat": 4,
 "nbformat_minor": 2
}
