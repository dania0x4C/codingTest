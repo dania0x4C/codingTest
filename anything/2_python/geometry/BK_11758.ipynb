{
 "cells": [
  {
   "cell_type": "code",
   "execution_count": 5,
   "metadata": {},
   "outputs": [],
   "source": [
    "test_input = \"\"\"\n",
    "1 1\n",
    "7 3\n",
    "5 5\n",
    "\"\"\"\n",
    "\n",
    "def input():\n",
    "    global line_idx\n",
    "    if 'test_data' not in globals() or 'line_idx' not in globals() or line_idx >= len(globals()['test_data']):\n",
    "        globals()['test_data'] = test_input.strip().split('\\n')\n",
    "        globals()['line_idx'] = 0\n",
    "    line = globals()['test_data'][globals()['line_idx']]\n",
    "    globals()['line_idx'] += 1\n",
    "    return line"
   ]
  },
  {
   "cell_type": "code",
   "execution_count": 6,
   "metadata": {},
   "outputs": [
    {
     "name": "stdout",
     "output_type": "stream",
     "text": [
      "1\n"
     ]
    }
   ],
   "source": [
    "import sys\n",
    "\n",
    "input = sys.stdin.readline\n",
    "\n",
    "p1X, p1Y = map(int, input().strip().split())\n",
    "p2X, p2Y = map(int, input().strip().split())\n",
    "p3X, p3Y = map(int, input().strip().split())\n",
    "\n",
    "\n",
    "if (p1Y-p2Y) * (p2X-p3X) == (p1X-p2X) * (p2Y-p3Y):\n",
    "    print(0)\n",
    "elif (p1Y-p2Y) * (p2X-p3X) < (p1X-p2X) * (p2Y-p3Y):\n",
    "    print(1)\n",
    "else:\n",
    "   print(-1)"
   ]
  }
 ],
 "metadata": {
  "kernelspec": {
   "display_name": "Python 3",
   "language": "python",
   "name": "python3"
  },
  "language_info": {
   "codemirror_mode": {
    "name": "ipython",
    "version": 3
   },
   "file_extension": ".py",
   "mimetype": "text/x-python",
   "name": "python",
   "nbconvert_exporter": "python",
   "pygments_lexer": "ipython3",
   "version": "3.9.6"
  }
 },
 "nbformat": 4,
 "nbformat_minor": 2
}
