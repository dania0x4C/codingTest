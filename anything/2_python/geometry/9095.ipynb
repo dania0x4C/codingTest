{
 "cells": [
  {
   "cell_type": "code",
   "execution_count": 8,
   "metadata": {},
   "outputs": [],
   "source": [
    "test_input = \"\"\"\n",
    "3\n",
    "4\n",
    "7\n",
    "10\n",
    "\"\"\"\n",
    "\n",
    "def input():\n",
    "    global line_idx\n",
    "    if 'test_data' not in globals() or 'line_idx' not in globals() or line_idx >= len(globals()['test_data']):\n",
    "        globals()['test_data'] = test_input.strip().split('\\n')\n",
    "        globals()['line_idx'] = 0\n",
    "    line = globals()['test_data'][globals()['line_idx']]\n",
    "    globals()['line_idx'] += 1\n",
    "    return line"
   ]
  },
  {
   "cell_type": "code",
   "execution_count": 9,
   "metadata": {},
   "outputs": [
    {
     "name": "stdout",
     "output_type": "stream",
     "text": [
      "274\n",
      "4\n",
      "7\n",
      "44\n",
      "274\n",
      "4\n",
      "7\n"
     ]
    }
   ],
   "source": [
    "import sys\n",
    "\n",
    "# input = sys.stdin.readline\n",
    "\n",
    "T = int(input().strip())\n",
    "\n",
    "def selectNum(number, n):\n",
    "    global count\n",
    "    if number < n:\n",
    "        selectNum(number+1, n)\n",
    "        selectNum(number+2, n)\n",
    "        selectNum(number+3, n)\n",
    "    elif number == n:\n",
    "        count += 1\n",
    "\n",
    "for _ in range(T):\n",
    "    n = int(input().strip())\n",
    "    number = 0\n",
    "    count = 0\n",
    "\n",
    "    selectNum(number, n)\n",
    "    print(count)"
   ]
  }
 ],
 "metadata": {
  "kernelspec": {
   "display_name": "Python 3",
   "language": "python",
   "name": "python3"
  },
  "language_info": {
   "codemirror_mode": {
    "name": "ipython",
    "version": 3
   },
   "file_extension": ".py",
   "mimetype": "text/x-python",
   "name": "python",
   "nbconvert_exporter": "python",
   "pygments_lexer": "ipython3",
   "version": "3.9.6"
  }
 },
 "nbformat": 4,
 "nbformat_minor": 2
}
