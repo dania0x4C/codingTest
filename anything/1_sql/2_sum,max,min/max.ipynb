{
 "cells": [
  {
   "cell_type": "code",
   "execution_count": null,
   "metadata": {
    "vscode": {
     "languageId": "sql"
    }
   },
   "outputs": [],
   "source": [
    "SELECT ID, FISH_NAME, LENGTH\n",
    "FROM FISH_INFO as FI1\n",
    "JOIN FISH_NAME_INFO as FNI\n",
    "ON FI1.FISH_TYPE = FNI.FISH_TYPE\n",
    "WHERE LENGTH = (\n",
    "    SELECT MAX(LENGTH)\n",
    "    FROM FISH_INFO as FI2\n",
    "    WHERE FI1.FISH_TYPE = FI2.FISH_TYPE\n",
    "    GROUP BY FISH_TYPE\n",
    ")\n",
    "ORDER BY ID"
   ]
  },
  {
   "cell_type": "code",
   "execution_count": null,
   "metadata": {
    "vscode": {
     "languageId": "sql"
    }
   },
   "outputs": [],
   "source": [
    "SELECT FI.ID, FNI.FISH_NAME, FI.LENGTH\n",
    "FROM FISH_INFO FI\n",
    "JOIN FISH_NAME_INFO FNI\n",
    "    ON FI.FISH_TYPE = FNI.FISH_TYPE\n",
    "JOIN (\n",
    "    SELECT FISH_TYPE, MAX(LENGTH) AS MAX_LEN\n",
    "    FROM FISH_INFO\n",
    "    GROUP BY FISH_TYPE\n",
    ") AS MAX_TABLE\n",
    "    ON FI.FISH_TYPE = MAX_TABLE.FISH_TYPE AND FI.LENGTH = MAX_TABLE.MAX_LEN\n",
    "ORDER BY FI.ID;"
   ]
  },
  {
   "cell_type": "code",
   "execution_count": null,
   "metadata": {
    "vscode": {
     "languageId": "sql"
    }
   },
   "outputs": [],
   "source": [
    "SELECT \n",
    "    YEAR(e.DIFFERENTIATION_DATE) AS YEAR,\n",
    "    (m.MAX_SIZE - e.SIZE_OF_COLONY) AS YEAR_DEV,\n",
    "    e.ID\n",
    "FROM \n",
    "    ECOLI_DATA e\n",
    "JOIN (\n",
    "    SELECT \n",
    "        YEAR(DIFFERENTIATION_DATE) AS YEAR,\n",
    "        MAX(SIZE_OF_COLONY) AS MAX_SIZE\n",
    "    FROM \n",
    "        ECOLI_DATA\n",
    "    GROUP BY \n",
    "        YEAR(DIFFERENTIATION_DATE)\n",
    ") m\n",
    "ON YEAR(e.DIFFERENTIATION_DATE) = m.YEAR\n",
    "ORDER BY \n",
    "    YEAR ASC,\n",
    "    YEAR_DEV ASC;"
   ]
  }
 ],
 "metadata": {
  "language_info": {
   "name": "python"
  }
 },
 "nbformat": 4,
 "nbformat_minor": 2
}
