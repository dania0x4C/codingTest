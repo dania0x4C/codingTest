{
 "cells": [
  {
   "cell_type": "code",
   "execution_count": null,
   "metadata": {
    "vscode": {
     "languageId": "sql"
    }
   },
   "outputs": [],
   "source": [
    "SELECT WAREHOUSE_ID, WAREHOUSE_NAME, ADDRESS, IF(FREEZER_YN IS NULL, \"N\", FREEZER_YN) as FREEZER_YN\n",
    "FROM FOOD_WAREHOUSE\n",
    "WHERE WAREHOUSE_NAME Like \"%경기%\"\n",
    "ORDER BY WAREHOUSE_ID"
   ]
  },
  {
   "cell_type": "code",
   "execution_count": null,
   "metadata": {
    "vscode": {
     "languageId": "sql"
    }
   },
   "outputs": [],
   "source": [
    "SELECT WAREHOUSE_ID, WAREHOUSE_NAME, ADDRESS, IFNULL(FREEZER_YN, \"N\") as FREEZER_YN\n",
    "FROM FOOD_WAREHOUSE\n",
    "WHERE WAREHOUSE_NAME Like \"%경기%\"\n",
    "ORDER BY WAREHOUSE_ID"
   ]
  }
 ],
 "metadata": {
  "language_info": {
   "name": "python"
  }
 },
 "nbformat": 4,
 "nbformat_minor": 2
}
