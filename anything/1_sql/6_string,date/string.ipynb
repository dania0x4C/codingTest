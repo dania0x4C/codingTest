{
 "cells": [
  {
   "cell_type": "code",
   "execution_count": null,
   "metadata": {
    "vscode": {
     "languageId": "sql"
    }
   },
   "outputs": [],
   "source": [
    "SELECT BOARD_ID, WRITER_ID, TITLE, PRICE,\n",
    "    CASE\n",
    "        WHEN STATUS = 'DONE' THEN '거래완료'\n",
    "        WHEN STATUS = 'RESERVED' THEN '예약중'\n",
    "        WHEN STATUS = 'SALE' THEN '판매중'\n",
    "    END as STATUS\n",
    "FROM USED_GOODS_BOARD\n",
    "WHERE CREATED_DATE = '2022-10-05'\n",
    "ORDER BY BOARD_ID DESC"
   ]
  }
 ],
 "metadata": {
  "language_info": {
   "name": "python"
  }
 },
 "nbformat": 4,
 "nbformat_minor": 2
}
