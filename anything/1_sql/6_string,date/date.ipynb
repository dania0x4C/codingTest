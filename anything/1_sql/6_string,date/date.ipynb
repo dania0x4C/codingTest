{
 "cells": [
  {
   "cell_type": "code",
   "execution_count": null,
   "metadata": {
    "vscode": {
     "languageId": "sql"
    }
   },
   "outputs": [],
   "source": [
    "SELECT CAR_ID, ROUND(AVG(DATEDIFF(END_DATE, START_DATE)+1),1) as AVERAGE_DURATION\n",
    "FROM CAR_RENTAL_COMPANY_RENTAL_HISTORY\n",
    "GROUP BY CAR_ID\n",
    "HAVING AVERAGE_DURATION >= 7\n",
    "ORDER BY AVERAGE_DURATION DESC, CAR_ID DESC"
   ]
  },
  {
   "cell_type": "code",
   "execution_count": null,
   "metadata": {
    "vscode": {
     "languageId": "sql"
    }
   },
   "outputs": [],
   "source": [
    "SELECT \n",
    "  CONCAT('/home/grep/src/', b.BOARD_ID, '/', f.FILE_ID, f.FILE_NAME, f.FILE_EXT) AS FILE_PATH\n",
    "FROM USED_GOODS_BOARD AS b\n",
    "JOIN USED_GOODS_FILE AS f\n",
    "  ON b.BOARD_ID = f.BOARD_ID\n",
    "WHERE b.BOARD_ID = (\n",
    "  SELECT BOARD_ID\n",
    "  FROM USED_GOODS_BOARD\n",
    "  ORDER BY VIEWS DESC\n",
    "  LIMIT 1\n",
    ")\n",
    "ORDER BY f.FILE_ID DESC;"
   ]
  },
  {
   "cell_type": "code",
   "execution_count": null,
   "metadata": {
    "vscode": {
     "languageId": "sql"
    }
   },
   "outputs": [],
   "source": [
    "SELECT \n",
    "  CONCAT('/home/grep/src/', b.BOARD_ID, '/', f.FILE_ID, f.FILE_NAME, f.FILE_EXT) AS FILE_PATH\n",
    "FROM USED_GOODS_BOARD AS b\n",
    "JOIN USED_GOODS_FILE AS f\n",
    "  ON b.BOARD_ID = f.BOARD_ID\n",
    "WHERE b.VIEWS = (\n",
    "  SELECT MAX(VIEWS)\n",
    "  FROM USED_GOODS_BOARD\n",
    ")\n",
    "ORDER BY f.FILE_ID DESC;"
   ]
  },
  {
   "cell_type": "markdown",
   "metadata": {},
   "source": [
    "max는 최대의 조회수를 뽑아내고 데이터를 추출하는 것인데, 최대 조회수가 동일하게 더 있다면 최대 게시물이 두개일 경우 데이터가 나오지 않음 그래서 문제의 정답은 둘다 맞지만 현실에서는 limit을 활용하는 쿼리가 올바름"
   ]
  },
  {
   "cell_type": "code",
   "execution_count": null,
   "metadata": {
    "vscode": {
     "languageId": "sql"
    }
   },
   "outputs": [],
   "source": [
    "SELECT ORDER_ID, PRODUCT_ID, DATE_FORMAT(OUT_DATE, \"%Y-%m-%d\") as OUT_DATE, \n",
    "    IF(OUT_DATE IS NULL, \"출고미정\", IF('2022-05-01' >= OUT_DATE, '출고완료', '출고대기')) as 출고여부\n",
    "FROM FOOD_ORDER\n",
    "ORDER BY ORDER_ID"
   ]
  },
  {
   "cell_type": "code",
   "execution_count": null,
   "metadata": {
    "vscode": {
     "languageId": "sql"
    }
   },
   "outputs": [],
   "source": [
    "SELECT CCC.CAR_ID\n",
    "FROM CAR_RENTAL_COMPANY_CAR as CCC\n",
    "JOIN CAR_RENTAL_COMPANY_RENTAL_HISTORY as CCCH\n",
    "ON CCC.CAR_ID = CCCH.CAR_ID\n",
    "WHERE CAR_TYPE = '세단' and MONTH(START_DATE) = 10\n",
    "GROUP BY CCC.CAR_ID\n",
    "ORDER BY CCC.CAR_ID DESC"
   ]
  },
  {
   "cell_type": "code",
   "execution_count": null,
   "metadata": {
    "vscode": {
     "languageId": "sql"
    }
   },
   "outputs": [],
   "source": [
    "SELECT USER_ID, NICKNAME, CONCAT(CITY, ' ',STREET_ADDRESS1, ' ', STREET_ADDRESS2) as 전체주소, \n",
    "CONCAT(SUBSTRING(TLNO,1, 3), '-', SUBSTRING(TLNO, 4, 4), '-', SUBSTRING(TLNO, 8, 4)) as 전화번호\n",
    "FROM USED_GOODS_BOARD\n",
    "JOIN USED_GOODS_USER\n",
    "ON WRITER_ID = USER_ID\n",
    "GROUP BY WRITER_ID\n",
    "HAVING COUNT(WRITER_ID) >= 3\n",
    "ORDER BY USER_ID DESC\n"
   ]
  },
  {
   "cell_type": "code",
   "execution_count": null,
   "metadata": {
    "vscode": {
     "languageId": "sql"
    }
   },
   "outputs": [],
   "source": [
    "SELECT NAME, DATETIME\n",
    "FROM ANIMAL_INS\n",
    "WHERE ANIMAL_ID NOT IN (\n",
    "    SELECT ANIMAL_ID\n",
    "    FROM ANIMAL_OUTS\n",
    ")\n",
    "ORDER BY DATETIME\n",
    "LIMIT 3\n"
   ]
  }
 ],
 "metadata": {
  "language_info": {
   "name": "python"
  }
 },
 "nbformat": 4,
 "nbformat_minor": 2
}
