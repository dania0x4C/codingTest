{
 "cells": [
  {
   "cell_type": "markdown",
   "metadata": {},
   "source": [
    "문제\n",
    "자연수 N과 M이 주어졌을 때, 아래 조건을 만족하는 길이가 M인 수열을 모두 구하는 프로그램을 작성하시오.\n",
    "\n",
    "1부터 N까지 자연수 중에서 중복 없이 M개를 고른 수열\n",
    "입력\n",
    "첫째 줄에 자연수 N과 M이 주어진다. (1 ≤ M ≤ N ≤ 8)\n",
    "\n",
    "출력\n",
    "한 줄에 하나씩 문제의 조건을 만족하는 수열을 출력한다. 중복되는 수열을 여러 번 출력하면 안되며, 각 수열은 공백으로 구분해서 출력해야 한다.\n",
    "\n",
    "수열은 사전 순으로 증가하는 순서로 출력해야 한다."
   ]
  },
  {
   "cell_type": "markdown",
   "metadata": {},
   "source": [
    "예제 입력 1 \n",
    "3 1\n",
    "예제 출력 1 \n",
    "1\n",
    "2\n",
    "3"
   ]
  },
  {
   "cell_type": "code",
   "execution_count": 46,
   "metadata": {},
   "outputs": [
    {
     "name": "stdout",
     "output_type": "stream",
     "text": [
      "1 2 \n",
      "1 3 \n",
      "1 4 \n",
      "2 1 \n",
      "2 3 \n",
      "2 4 \n",
      "3 1 \n",
      "3 2 \n",
      "3 4 \n",
      "4 1 \n",
      "4 2 \n",
      "4 3 \n"
     ]
    }
   ],
   "source": [
    "import sys\n",
    "\n",
    "N, M = map(int, sys.stdin.readline().split())\n",
    "#N = 4\n",
    "#M = 2\n",
    "result = []\n",
    "\n",
    "def backTracking(depth):\n",
    "    \n",
    "    if depth == M: # 종료조건\n",
    "        for i in result:\n",
    "            print(i, end = \" \")\n",
    "        print()\n",
    "        return\n",
    "\n",
    "    for i in range(1, N+1):\n",
    "        if i not in result : # 유효성 검사\n",
    "            result.append(i)\n",
    "            backTracking(depth+1) # 재귀 호출\n",
    "            result.pop()\n",
    "\n",
    "backTracking(0)"
   ]
  },
  {
   "cell_type": "markdown",
   "metadata": {},
   "source": [
    "# 문제 정리\n",
    "\n",
    "## backtracking\n",
    "\n",
    "### 이론\n",
    "- 가능한 모든 선택지를 시도하자\n",
    "- 각 선택지가 조건에 부합하지 않으면 되돌아가자(recursive)\n",
    "- 최종 해를 찾으면 알고리즘 종류\n",
    "\n",
    "### 구조\n",
    "- 종료 조건: 재귀가 종료되는 조건\n",
    "- 유효성 검사: 현재 상태가 조건을 만족하는지 확인\n",
    "- 재귀 호출: 다음 상태로 이동하기 위한 호출\n",
    "\n",
    "\n",
    "## 해결 방법\n",
    "1. not in을 사용하여 중복된 선택 못 하게 만듬\n",
    "2. recursive function을 이용하여 depth의 값을 증가시키며 원하는 지점까지 도달\n",
    "\n",
    "## 문제사항\n",
    "1. 아직 recursive function을 많이 다루지 않아서 생각하기가 힘들었다"
   ]
  }
 ],
 "metadata": {
  "kernelspec": {
   "display_name": "Python 3",
   "language": "python",
   "name": "python3"
  },
  "language_info": {
   "codemirror_mode": {
    "name": "ipython",
    "version": 3
   },
   "file_extension": ".py",
   "mimetype": "text/x-python",
   "name": "python",
   "nbconvert_exporter": "python",
   "pygments_lexer": "ipython3",
   "version": "3.11.5"
  }
 },
 "nbformat": 4,
 "nbformat_minor": 2
}
