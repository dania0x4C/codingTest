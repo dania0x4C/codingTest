{
 "cells": [
  {
   "cell_type": "code",
   "execution_count": null,
   "metadata": {
    "vscode": {
     "languageId": "sql"
    }
   },
   "outputs": [],
   "source": [
    "SELECT MONTH(START_DATE) as MONTH, CAR_ID, COUNT(CAR_ID) as RECORDS\n",
    "FROM CAR_RENTAL_COMPANY_RENTAL_HISTORY\n",
    "WHERE YEAR(START_DATE) = 2022 and MONTH(START_DATE) between 8 and 10\n",
    "and CAR_ID IN (\n",
    "    SELECT CAR_ID\n",
    "    FROM CAR_RENTAL_COMPANY_RENTAL_HISTORY \n",
    "    WHERE YEAR(START_DATE) = 2022 and MONTH(START_DATE) between 8 and 10\n",
    "    GROUP BY CAR_ID \n",
    "    HAVING count(*) >= 5\n",
    ")\n",
    "GROUP BY MONTH(START_DATE), CAR_ID\n",
    "ORDER BY MONTH ASC, CAR_ID DESC"
   ]
  },
  {
   "cell_type": "code",
   "execution_count": null,
   "metadata": {
    "vscode": {
     "languageId": "sql"
    }
   },
   "outputs": [],
   "source": [
    "SELECT CAR_ID,\n",
    "    CASE \n",
    "        WHEN EXISTS (# CAR_Id 중에 하나가 조건에 만족 한다면\n",
    "            SELECT 1\n",
    "            FROM CAR_RENTAL_COMPANY_RENTAL_HISTORY as c2\n",
    "            WHERE '2022-10-16' between START_DATE and END_DATE and c1.CAR_ID = c2.CAR_ID # 이조건이 있으면 외부 쿼리에서 CAR_ID가 1001일때 내부 쿼리도 그 값에 대한 것만 조건을 검사하기 때문에 나누어서  검사함 \n",
    "        )\n",
    "        THEN '대여중'\n",
    "        ELSE '대여 가능'\n",
    "    END AS AVAILABILITY\n",
    "FROM CAR_RENTAL_COMPANY_RENTAL_HISTORY as c1\n",
    "GROUP BY CAR_ID\n",
    "ORDER BY CAR_ID DESC"
   ]
  },
  {
   "cell_type": "markdown",
   "metadata": {},
   "source": [
    "다음의 쿼리는 내부 쿼리와 외부 쿼리로 나눌 수 있다.\n",
    "외부 쿼리는 AVAILABILITY 컬럼에 대해 '대여중' 또는 '대여가능' 중 하나의 값을 반환하게 된다.\n",
    "이 때 내부 쿼리는 외부 쿼리의 CAR_ID를 참조하며, 이를 상관 서브쿼리 (correlated subquery) 라고 한다.\n",
    "만약 상관 서브쿼리가 아니었다면, 서브쿼리가 하나라도 참이면 항상 '대여중'만 반환됐을 것이다.\n",
    "하지만 현재는 내부 쿼리가 외부 쿼리의 CAR_ID 값을 받아와서,\n",
    "외부에서 보고 있는 차량(CAR_ID = c1)에 대해 내부 쿼리에서 같은 차량(CAR_ID = c1)의 대여 여부를 개별적으로 판단하게 되는 것이다."
   ]
  },
  {
   "cell_type": "code",
   "execution_count": null,
   "metadata": {
    "vscode": {
     "languageId": "sql"
    }
   },
   "outputs": [],
   "source": [
    "# 외부쿼리\n",
    "SELECT CAR_ID,\n",
    "    CASE \n",
    "        WHEN EXISTS ()\n",
    "        THEN '대여중'\n",
    "        ELSE '대여 가능'\n",
    "    END AS AVAILABILITY\n",
    "FROM CAR_RENTAL_COMPANY_RENTAL_HISTORY as c1\n",
    "GROUP BY CAR_ID\n",
    "ORDER BY CAR_ID DESC\n",
    "\n",
    "# 내부쿼리\n",
    "SELECT 1\n",
    "FROM CAR_RENTAL_COMPANY_RENTAL_HISTORY as c2\n",
    "WHERE '2022-10-16' between START_DATE and END_DATE and c1.CAR_ID = c2.CAR_ID\n",
    "        "
   ]
  },
  {
   "cell_type": "markdown",
   "metadata": {},
   "source": [
    "---"
   ]
  },
  {
   "cell_type": "code",
   "execution_count": null,
   "metadata": {
    "vscode": {
     "languageId": "sql"
    }
   },
   "outputs": [],
   "source": [
    "SELECT FOOD_TYPE, REST_ID, REST_NAME, FAVORITES\n",
    "FROM REST_INFO as r1\n",
    "WHERE FAVORITES = (\n",
    "    SELECT MAX(FAVORITES)\n",
    "    FROM REST_INFO as r2\n",
    "    WHERE r1.FOOD_TYPE = r2.FOOD_TYPE\n",
    "    GROUP BY FOOD_TYPE\n",
    ")\n",
    "ORDER BY FOOD_TYPE DESC"
   ]
  },
  {
   "cell_type": "code",
   "execution_count": null,
   "metadata": {
    "vscode": {
     "languageId": "sql"
    }
   },
   "outputs": [],
   "source": [
    "SELECT r1.FOOD_TYPE, r1.REST_ID, r1.REST_NAME, r1.FAVORITES\n",
    "FROM REST_INFO as r1\n",
    "JOIN (\n",
    "    SELECT FOOD_TYPE, MAX(FAVORITES) as MAX_FAV\n",
    "    FROM REST_INFO\n",
    "    GROUP BY FOOD_TYPE\n",
    ") as r2\n",
    "ON r1.FOOD_TYPE = r2.FOOD_TYPE and r1.FAVORITES = r2.MAX_FAV\n",
    "ORDER BY r1.FOOD_TYPE DESC"
   ]
  },
  {
   "cell_type": "code",
   "execution_count": null,
   "metadata": {
    "vscode": {
     "languageId": "sql"
    }
   },
   "outputs": [],
   "source": [
    "SELECT MCDP_CD as 진료과코드, COUNT(*) as 5월예약건수\n",
    "FROM APPOINTMENT\n",
    "WHERE YEAR(APNT_YMD) = 2022 and MONTH(APNT_YMD) = 5\n",
    "GROUP BY MCDP_CD\n",
    "ORDER BY 5월예약건수, MCDP_CD"
   ]
  },
  {
   "cell_type": "code",
   "execution_count": null,
   "metadata": {
    "vscode": {
     "languageId": "sql"
    }
   },
   "outputs": [],
   "source": [
    "SELECT INGREDIENT_TYPE, SUM(TOTAL_ORDER) as TOTAL_ORDER\n",
    "FROM FIRST_HALF as f\n",
    "JOIN ICECREAM_INFO as I\n",
    "ON f.FLAVOR = I.FLAVOR\n",
    "GROUP BY INGREDIENT_TYPE\n",
    "ORDER BY TOTAL_ORDER"
   ]
  },
  {
   "cell_type": "code",
   "execution_count": null,
   "metadata": {
    "vscode": {
     "languageId": "sql"
    }
   },
   "outputs": [],
   "source": [
    "SELECT CAR_TYPE, COUNT(*) as CARS\n",
    "FROM CAR_RENTAL_COMPANY_CAR as c1\n",
    "WHERE OPTIONS LIKE '%가죽시트%'\n",
    "    OR OPTIONS LIKE '%통풍시트%'\n",
    "    OR OPTIONS LIKE '%열선시트%'\n",
    "GROUP BY CAR_TYPE \n",
    "ORDER BY CAR_TYPE ASC"
   ]
  }
 ],
 "metadata": {
  "language_info": {
   "name": "python"
  }
 },
 "nbformat": 4,
 "nbformat_minor": 2
}
