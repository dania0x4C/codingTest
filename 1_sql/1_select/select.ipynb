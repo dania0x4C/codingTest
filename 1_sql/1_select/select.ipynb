{
 "cells": [
  {
   "cell_type": "markdown",
   "metadata": {},
   "source": [
    "[select] 평균 일일 대여 요금 구하기"
   ]
  },
  {
   "cell_type": "code",
   "execution_count": null,
   "metadata": {
    "vscode": {
     "languageId": "sql"
    }
   },
   "outputs": [],
   "source": [
    "SELECT ROUND(AVG(DAILY_FEE), 0) as AVERAGE_FEE\n",
    "FROM CAR_RENTAL_COMPANY_CAR\n",
    "WHERE CAR_TYPE = 'SUV'"
   ]
  },
  {
   "cell_type": "markdown",
   "metadata": {},
   "source": [
    "# 링크\n",
    "https://school.programmers.co.kr/learn/courses/30/lessons/151136\n",
    "\n",
    "# 이론\n",
    "ROUND()를 통해 소수점 반올림이 가능\n"
   ]
  },
  {
   "cell_type": "markdown",
   "metadata": {},
   "source": [
    "---"
   ]
  },
  {
   "cell_type": "code",
   "execution_count": null,
   "metadata": {
    "vscode": {
     "languageId": "sql"
    }
   },
   "outputs": [],
   "source": [
    "SELECT USER_ID, PRODUCT_ID\n",
    "FROM ONLINE_SALE\n",
    "GROUP BY USER_ID, PRODUCT_ID\n",
    "HAVING COUNT(*) > 1\n",
    "ORDER BY USER_ID ASC, PRODUCT_ID DESC;"
   ]
  },
  {
   "cell_type": "markdown",
   "metadata": {},
   "source": [
    "# 링크 \n",
    "https://school.programmers.co.kr/learn/courses/30/lessons/131536\n",
    "\n",
    "# 이론\n",
    "\n",
    "- 문제 이해 오류\n",
    "- 재구매 != 판매량 > 1\n",
    "\n",
    "- GROUP BY: 동일한 값끼리 하나로 묶어줌\n",
    "\n",
    "- HAVING: 조건을 필터링할때 사용\n",
    "\n",
    "- OREDR BY: 쿼리 결과를 특정 열의 값에 따라 정렬 ASC, DESC\n"
   ]
  },
  {
   "cell_type": "markdown",
   "metadata": {},
   "source": [
    "---"
   ]
  },
  {
   "cell_type": "code",
   "execution_count": null,
   "metadata": {
    "vscode": {
     "languageId": "sql"
    }
   },
   "outputs": [],
   "source": [
    "SELECT NAME, DATETIME\n",
    "FROM ANIMAL_INS\n",
    "ORDER BY  ANIMAL_ID DESC"
   ]
  },
  {
   "cell_type": "markdown",
   "metadata": {},
   "source": [
    "# 링크\n",
    "https://school.programmers.co.kr/learn/courses/30/lessons/59035"
   ]
  },
  {
   "cell_type": "markdown",
   "metadata": {},
   "source": [
    "---"
   ]
  },
  {
   "cell_type": "code",
   "execution_count": null,
   "metadata": {
    "vscode": {
     "languageId": "sql"
    }
   },
   "outputs": [],
   "source": [
    "SELECT ANIMAL_ID, NAME\n",
    "FROM ANIMAL_INS\n",
    "WHERE INTAKE_CONDITION = 'Sick'"
   ]
  },
  {
   "cell_type": "markdown",
   "metadata": {},
   "source": [
    "# 링크\n",
    "https://school.programmers.co.kr/learn/courses/30/lessons/59036"
   ]
  },
  {
   "cell_type": "markdown",
   "metadata": {},
   "source": [
    "---"
   ]
  },
  {
   "cell_type": "code",
   "execution_count": null,
   "metadata": {
    "vscode": {
     "languageId": "sql"
    }
   },
   "outputs": [],
   "source": [
    "SELECT ANIMAL_ID, NAME\n",
    "FROM ANIMAL_INS \n",
    "WHERE NOT INTAKE_CONDITION = 'Aged'"
   ]
  },
  {
   "cell_type": "markdown",
   "metadata": {},
   "source": [
    "# 링크\n",
    "https://school.programmers.co.kr/learn/courses/30/lessons/59037#fn1"
   ]
  },
  {
   "cell_type": "markdown",
   "metadata": {},
   "source": [
    "---"
   ]
  },
  {
   "cell_type": "code",
   "execution_count": null,
   "metadata": {
    "vscode": {
     "languageId": "sql"
    }
   },
   "outputs": [],
   "source": [
    "SELECT ANIMAL_ID, NAME\n",
    "FROM ANIMAL_INS "
   ]
  },
  {
   "cell_type": "markdown",
   "metadata": {},
   "source": [
    "# 링크\n",
    "https://school.programmers.co.kr/learn/courses/30/lessons/59403"
   ]
  },
  {
   "cell_type": "markdown",
   "metadata": {},
   "source": [
    "---"
   ]
  },
  {
   "cell_type": "markdown",
   "metadata": {},
   "source": [
    "SELECT ANIMAL_ID, NAME, DATETIME\n",
    "FROM ANIMAL_INS \n",
    "ORDER BY NAME ASC, DATETIME DESC"
   ]
  },
  {
   "cell_type": "markdown",
   "metadata": {},
   "source": [
    "# 링크\n",
    "https://school.programmers.co.kr/learn/courses/30/lessons/59404"
   ]
  },
  {
   "cell_type": "markdown",
   "metadata": {},
   "source": [
    "---"
   ]
  },
  {
   "cell_type": "code",
   "execution_count": null,
   "metadata": {
    "vscode": {
     "languageId": "sql"
    }
   },
   "outputs": [],
   "source": [
    "SELECT NAME\n",
    "FROM ANIMAL_INS \n",
    "ORDER BY DATETIME ASC\n",
    "LIMIT 1"
   ]
  },
  {
   "cell_type": "code",
   "execution_count": null,
   "metadata": {
    "vscode": {
     "languageId": "sql"
    }
   },
   "outputs": [],
   "source": [
    "SELECT NAME\n",
    "FROM ANIMAL_INS \n",
    "WHERE DATETIME = (\n",
    "    SELECT MIN(DATETIME) \n",
    "    FROM ANIMAL_INS\n",
    ")"
   ]
  },
  {
   "cell_type": "markdown",
   "metadata": {},
   "source": [
    "# 링크\n",
    "https://school.programmers.co.kr/learn/courses/30/lessons/59405"
   ]
  },
  {
   "cell_type": "markdown",
   "metadata": {},
   "source": [
    "# 이론\n",
    "1. LIMIT: 결과 값의 개수를 지정해서 보여줄 수 있음\n",
    "2. 이중 SELECT 활용: WHERE에서 특정 값을 가진 데이터를 가져옴"
   ]
  },
  {
   "cell_type": "markdown",
   "metadata": {},
   "source": [
    "---"
   ]
  },
  {
   "cell_type": "code",
   "execution_count": null,
   "metadata": {
    "vscode": {
     "languageId": "sql"
    }
   },
   "outputs": [],
   "source": [
    "-- 코드를 입력하세요\n",
    "SELECT COUNT(*) as USERS\n",
    "FROM USER_INFO\n",
    "WHERE AGE >= 20 AND AGE <= 29 AND YEAR(JOINED) = '2021'"
   ]
  },
  {
   "cell_type": "markdown",
   "metadata": {},
   "source": [
    "# 링크\n",
    "https://school.programmers.co.kr/learn/courses/30/lessons/131535"
   ]
  },
  {
   "cell_type": "markdown",
   "metadata": {},
   "source": [
    "# 이론\n",
    "\n",
    "## DATE TYPE\n",
    "\n",
    "- YYYY-MM-DD 형식으로 데이터가 저장됨 ex) '2024-12-30'\n",
    "- YYYY-MM-DD HH:MM:SS\n",
    "- 컬럼 생성: event_date DATE\n",
    "- 삽입 데이터: '2024-12-30'\n",
    "- 현재 날짜: CURDATE()\n",
    "- 날짜 비교: event_date < '2024-12-31'능\n",
    "- 날짜 추출: YEAR(event_date), MONTH(event_date), DAY(event_date)\n",
    "- 날짜 연산\n",
    "    - 차이 계산: DATEDIFF('2024-12-30', '2024-12-25')\n",
    "    - 날짜 추가: DATE_ADD('2024-12-25', INTERVAL 5 DAY)\n",
    "    - 날짜 제거: DATE_SUB('2024-12-25', INTERVAL 1 MONTH)"
   ]
  },
  {
   "cell_type": "markdown",
   "metadata": {},
   "source": [
    "---"
   ]
  },
  {
   "cell_type": "code",
   "execution_count": null,
   "metadata": {
    "vscode": {
     "languageId": "sql"
    }
   },
   "outputs": [],
   "source": [
    "SELECT ICECREAM_INFO.FLAVOR\n",
    "FROM ICECREAM_INFO, FIRST_HALF\n",
    "WHERE FIRST_HALF.FLAVOR = ICECREAM_INFO.FLAVOR AND FIRST_HALF.TOTAL_ORDER > 3000 AND ICECREAM_INFO.INGREDIENT_TYPE\n",
    " = 'fruit_based'\n",
    "ORDER BY FIRST_HALF.TOTAL_ORDER DESC"
   ]
  },
  {
   "cell_type": "markdown",
   "metadata": {},
   "source": [
    "# 링크\n",
    "https://school.programmers.co.kr/learn/courses/30/lessons/133025"
   ]
  },
  {
   "cell_type": "markdown",
   "metadata": {},
   "source": [
    "# 이론\n",
    "## where 사용법\n",
    "- 두 테이블에서 WHERE 사용\n",
    "- FIRST_HALF.FLAVOR = ICECREAM_INFO.FLAVOR의 의미는 암시적으로 두 테이블이 조인 했다는 것을 의미\n",
    "- 카티전 곱(모든 행의 조합)이 발생하며, 테이블 A의 행 수와 테이블 B의 행 수를 곱한 수만큼의 불필요한 데이터가 생성\n",
    "- join을 통해서 이 문제를 똑같이 해결 가능 -> 가독성이 더 높음"
   ]
  },
  {
   "cell_type": "markdown",
   "metadata": {},
   "source": [
    "---"
   ]
  },
  {
   "cell_type": "code",
   "execution_count": null,
   "metadata": {
    "vscode": {
     "languageId": "sql"
    }
   },
   "outputs": [],
   "source": [
    "SELECT MEMBER_ID, MEMBER_NAME, GENDER, DATE_FORMAT(DATE_OF_BIRTH, '%Y-%m-%d') AS DATE_OF_BIRTH\n",
    "FROM MEMBER_PROFILE\n",
    "WHERE TLNO IS NOT NULL AND MONTH(DATE_OF_BIRTH) = '03' AND GENDER = 'w'\n",
    "ORDER BY MEMBER_ID ASC\n"
   ]
  },
  {
   "cell_type": "markdown",
   "metadata": {},
   "source": [
    "# 링크\n",
    "https://school.programmers.co.kr/learn/courses/30/lessons/131120"
   ]
  },
  {
   "cell_type": "markdown",
   "metadata": {},
   "source": [
    "# 이론\n",
    "## DATE_FORMAT()\n",
    "\n",
    "- DATE_FORMAT(DATE_OF_BIRTH, '%Y-%m-%d')\n",
    "\n",
    "\n",
    "| **지정자** | **설명**                          | **예시**                  |\n",
    "|------------|-----------------------------------|---------------------------|\n",
    "| `%Y`       | 4자리 연도                        | `2024`                    |\n",
    "| `%y`       | 2자리 연도                        | `24`                      |\n",
    "| `%m`       | 2자리 월 (01-12)                  | `12`                      |\n",
    "| `%c`       | 1자리 또는 2자리 월               | `1`, `12`                 |\n",
    "| `%d`       | 2자리 일                          | `30`                      |\n",
    "| `%e`       | 1자리 또는 2자리 일               | `1`, `30`                 |\n",
    "| `%H`       | 2자리 시간 (00-23, 24시간제)      | `14`                      |\n",
    "| `%h`       | 2자리 시간 (01-12, 12시간제)      | `02`                      |\n",
    "| `%i`       | 2자리 분                          | `05`                      |\n",
    "| `%s`       | 2자리 초                          | `59`                      |\n",
    "| `%p`       | AM/PM 표시                        | `PM`                      |\n",
    "| `%W`       | 요일 이름 (영문 전체)             | `Monday`                  |\n",
    "| `%a`       | 요일 이름 (영문 약자)             | `Mon`                     |\n",
    "| `%M`       | 월 이름 (영문 전체)               | `December`                |\n",
    "| `%b`       | 월 이름 (영문 약자)               | `Dec`                     |\n",
    "| `%D`       | 일 표시 (숫자+서수)               | `1st`, `2nd`, `30th`      |\n",
    "\n",
    "\n",
    "## NULL 다루기\n",
    "\n",
    "| **연산자** | **용도**                           | **예시**                  |\n",
    "|----------- |-----------------------------------|---------------------------|\n",
    "| `=`        | 값이 특정 값과 동일한지 비교         | `column_name = 'value'`     |\n",
    "| `IS`      | NULL, TRUE/FALSE, 특정 상태를 확인   | `column_name IS NULL`      |\n",
    "\n",
    "\n",
    "1. IS UNKNOWN: NULL 혹은 정의 x <-> IS NOT UNKNOWN\n",
    "2. IS NULL: 해당 열이 NULL인 경우 <-> IS NOT NULL\n",
    "3. 문자열 'NULL'도 가능하지만 일부로 NULL이라는 문자를 사용할 수 있으니 사용 하지 않는 걸로 생각하는게 좋을 듯 \n"
   ]
  },
  {
   "cell_type": "markdown",
   "metadata": {},
   "source": [
    "---"
   ]
  },
  {
   "cell_type": "code",
   "execution_count": null,
   "metadata": {
    "vscode": {
     "languageId": "sql"
    }
   },
   "outputs": [],
   "source": [
    "SELECT DR_NAME, DR_ID, MCDP_CD, DATE_FORMAT(HIRE_YMD, '%Y-%m-%d') as HIRE_YMD\n",
    "FROM DOCTOR\n",
    "WHERE MCDP_CD = 'CS' OR MCDP_CD = 'GS'\n",
    "ORDER BY HIRE_YMD DESC, DR_NAME ASC"
   ]
  },
  {
   "cell_type": "markdown",
   "metadata": {},
   "source": [
    "# 링크\n",
    "https://school.programmers.co.kr/learn/courses/30/lessons/132203"
   ]
  },
  {
   "cell_type": "markdown",
   "metadata": {},
   "source": [
    "---"
   ]
  },
  {
   "cell_type": "code",
   "execution_count": null,
   "metadata": {
    "vscode": {
     "languageId": "sql"
    }
   },
   "outputs": [],
   "source": [
    "SELECT FLAVOR\n",
    "FROM FIRST_HALF\n",
    "WHERE TOTAL_ORDER > 0\n",
    "ORDER BY TOTAL_ORDER DESC, SHIPMENT_ID ASC"
   ]
  },
  {
   "cell_type": "markdown",
   "metadata": {},
   "source": [
    "## 링크\n",
    "https://school.programmers.co.kr/learn/courses/30/lessons/133024"
   ]
  },
  {
   "cell_type": "markdown",
   "metadata": {},
   "source": [
    "---"
   ]
  },
  {
   "cell_type": "code",
   "execution_count": null,
   "metadata": {
    "vscode": {
     "languageId": "sql"
    }
   },
   "outputs": [],
   "source": [
    "SELECT FACTORY_ID, FACTORY_NAME, ADDRESS\n",
    "FROM FOOD_FACTORY\n",
    "WHERE ADDRESS LIKE '%강원도%'\n",
    "ORDER BY FACTORY_ID ASC"
   ]
  },
  {
   "cell_type": "markdown",
   "metadata": {},
   "source": [
    "## 링크\n",
    "https://school.programmers.co.kr/learn/courses/30/lessons/131112"
   ]
  },
  {
   "cell_type": "markdown",
   "metadata": {},
   "source": [
    "# 이론\n",
    "\n",
    "## LIKE\n",
    "- %검색문자열%: 문자열 어디에든 검색어가 포함되어 있는 경우\n",
    "- 검색문자열%: 문자열이 시작되는 경우\n",
    "- %검색문자열: 문자열이 끝나는 경우"
   ]
  },
  {
   "cell_type": "markdown",
   "metadata": {},
   "source": [
    "---"
   ]
  },
  {
   "cell_type": "code",
   "execution_count": null,
   "metadata": {
    "vscode": {
     "languageId": "sql"
    }
   },
   "outputs": [],
   "source": [
    "SELECT PT_NAME, PT_NO, GEND_CD, AGE, IFNULL(TLNO, 'NONE') AS TLNO\n",
    "FROM PATIENT\n",
    "WHERE AGE <= 12 AND GEND_CD = 'W'\n",
    "ORDER BY AGE DESC, PT_NAME ASC"
   ]
  },
  {
   "cell_type": "markdown",
   "metadata": {},
   "source": [
    "# 링크\n",
    "https://school.programmers.co.kr/learn/courses/30/lessons/132201"
   ]
  },
  {
   "cell_type": "markdown",
   "metadata": {},
   "source": [
    "# 이론\n",
    "- IFNULL(TLNO, 'NONE') AS TLNO: 값이 NULL 이면 다른 값으로 변경\n",
    "- REPLACE(column_name, '기존값', '대체값'): 특정 값을 다른 값으로 변경// null 일때 작동 x"
   ]
  },
  {
   "cell_type": "markdown",
   "metadata": {},
   "source": [
    "---"
   ]
  },
  {
   "cell_type": "code",
   "execution_count": null,
   "metadata": {
    "vscode": {
     "languageId": "sql"
    }
   },
   "outputs": [],
   "source": [
    "SELECT BOOK_ID, DATE_FORMAT(PUBLISHED_DATE, \"%Y-%m-%d\") as PUBLISHED_DATE\n",
    "FROM BOOK\n",
    "WHERE CATEGORY = \"인문\" AND year(PUBLISHED_DATE) = '2021'\n",
    "ORDER BY PUBLISHED_DATE ASC"
   ]
  },
  {
   "cell_type": "markdown",
   "metadata": {},
   "source": [
    "# 링크\n",
    "https://school.programmers.co.kr/learn/courses/30/lessons/144853"
   ]
  },
  {
   "cell_type": "markdown",
   "metadata": {},
   "source": [
    "---"
   ]
  },
  {
   "cell_type": "code",
   "execution_count": null,
   "metadata": {
    "vscode": {
     "languageId": "sql"
    }
   },
   "outputs": [],
   "source": [
    "SELECT USED_GOODS_BOARD.TITLE, USED_GOODS_BOARD.BOARD_ID, USED_GOODS_REPLY.REPLY_ID, USED_GOODS_REPLY.WRITER_ID, USED_GOODS_REPLY.CONTENTS, DATE_FORMAT(USED_GOODS_REPLY.CREATED_DATE, '%Y-%m-%d') as CREATED_DATE\n",
    "FROM USED_GOODS_BOARD, USED_GOODS_REPLY\n",
    "WHERE USED_GOODS_BOARD.BOARD_ID = USED_GOODS_REPLY.BOARD_ID AND year(USED_GOODS_BOARD.CREATED_DATE) = '2022' AND month(USED_GOODS_BOARD.CREATED_DATE) = '10'\n",
    "ORDER BY  USED_GOODS_REPLY.CREATED_DATE ASC, USED_GOODS_BOARD.TITLE ASC"
   ]
  },
  {
   "cell_type": "markdown",
   "metadata": {},
   "source": [
    "# 링크\n",
    "https://school.programmers.co.kr/learn/courses/30/lessons/164673"
   ]
  },
  {
   "cell_type": "markdown",
   "metadata": {},
   "source": [
    "---"
   ]
  },
  {
   "cell_type": "code",
   "execution_count": null,
   "metadata": {
    "vscode": {
     "languageId": "sql"
    }
   },
   "outputs": [],
   "source": [
    "SELECT *\n",
    "FROM ANIMAL_INS "
   ]
  },
  {
   "cell_type": "markdown",
   "metadata": {},
   "source": [
    "# 링크\n",
    "https://school.programmers.co.kr/learn/courses/30/lessons/59034"
   ]
  },
  {
   "cell_type": "markdown",
   "metadata": {},
   "source": [
    "---"
   ]
  },
  {
   "cell_type": "code",
   "execution_count": null,
   "metadata": {
    "vscode": {
     "languageId": "sql"
    }
   },
   "outputs": [],
   "source": [
    "SELECT ID, EMAIL, FIRST_NAME, LAST_NAME\n",
    "FROM DEVELOPER_INFOS \n",
    "WHERE SKILL_1 = 'Python' OR SKILL_2 = 'Python' OR SKILL_3 = 'Python'\n",
    "ORDER BY ID ASC"
   ]
  },
  {
   "cell_type": "markdown",
   "metadata": {},
   "source": [
    "# 링크\n",
    "https://school.programmers.co.kr/learn/courses/30/lessons/276013"
   ]
  },
  {
   "cell_type": "markdown",
   "metadata": {},
   "source": [
    "---"
   ]
  },
  {
   "cell_type": "code",
   "execution_count": null,
   "metadata": {
    "vscode": {
     "languageId": "sql"
    }
   },
   "outputs": [],
   "source": [
    "SELECT COUNT(ID) as FISH_COUNT\n",
    "FROM FISH_INFO\n",
    "WHERE LENGTH IS NULL"
   ]
  },
  {
   "cell_type": "markdown",
   "metadata": {},
   "source": [
    "# 링크\n",
    "https://school.programmers.co.kr/learn/courses/30/lessons/293258"
   ]
  },
  {
   "cell_type": "code",
   "execution_count": null,
   "metadata": {
    "vscode": {
     "languageId": "sql"
    }
   },
   "outputs": [],
   "source": [
    "SELECT ID, LENGTH\n",
    "FROM FISH_INFO\n",
    "WHERE LENGTH IS NOT NULL\n",
    "ORDER BY LENGTH DESC, ID ASC\n",
    "LIMIT 10"
   ]
  },
  {
   "cell_type": "markdown",
   "metadata": {},
   "source": [
    "# 링크\n",
    "\n",
    "https://school.programmers.co.kr/learn/courses/30/lessons/298517"
   ]
  },
  {
   "cell_type": "markdown",
   "metadata": {},
   "source": [
    "---"
   ]
  },
  {
   "cell_type": "code",
   "execution_count": null,
   "metadata": {
    "vscode": {
     "languageId": "sql"
    }
   },
   "outputs": [],
   "source": [
    "SELECT REST_INFO.REST_ID, REST_INFO.REST_NAME, REST_INFO.FOOD_TYPE, \n",
    "REST_INFO.FAVORITES, REST_INFO.ADDRESS, ROUND(AVG(REST_REVIEW.REVIEW_SCORE), 2) AS SCORE\n",
    "FROM REST_INFO, REST_REVIEW\n",
    "WHERE REST_INFO.REST_ID = REST_REVIEW.REST_ID AND REST_INFO.ADDRESS LIKE '서울%'\n",
    "GROUP BY 1, 2, 3, 4, 5\n",
    "ORDER BY SCORE DESC, REST_INFO.FAVORITES DESC"
   ]
  },
  {
   "cell_type": "markdown",
   "metadata": {},
   "source": [
    "# 링크 \n",
    "https://school.programmers.co.kr/learn/courses/30/lessons/131118"
   ]
  },
  {
   "cell_type": "markdown",
   "metadata": {},
   "source": [
    "# 이론\n",
    "\n",
    "## GROUP BY\n",
    "\n",
    "1. select를 기준으로 특정하게 분리를 할때 사용\n",
    "즉, 위의 문제에서 avg는 모든 식당의 score의 평균 값을 계산하게 만들었지만 group by를 통해서 select 1, 2, 3, 4, 5가 그룹으로 된 식당의 평균 값을 계산하게 만듬\n",
    "\n",
    "- GROUP BY는 SQL에서 데이터를 특정 열을 기준으로 그룹화하여 집계 함수(e.g., SUM, AVG, COUNT, MAX, MIN)와 함께 사용하기 위한 구문\n",
    "\n",
    "- GROUP BY의 동작 순서\n",
    "FROM: 데이터가 테이블에서 조회됩니다.\n",
    "WHERE: 필터 조건이 적용되어 그룹화 대상이 되는 데이터가 제한됩니다.\n",
    "GROUP BY: 데이터를 지정된 열을 기준으로 그룹화합니다.\n",
    "집계 함수 적용: 각 그룹에 대해 집계 함수가 계산됩니다.\n",
    "HAVING: 그룹화된 결과에 조건이 적용됩니다.\n",
    "ORDER BY: 결과가 정렬됩니다.\n",
    "SELECT: 최종 결과를 출력합니다."
   ]
  },
  {
   "cell_type": "markdown",
   "metadata": {},
   "source": [
    "---"
   ]
  },
  {
   "cell_type": "code",
   "execution_count": null,
   "metadata": {
    "vscode": {
     "languageId": "sql"
    }
   },
   "outputs": [],
   "source": [
    "SELECT DATE_FORMAT(SALES_DATE, '%Y-%m-%d'), PRODUCT_ID, USER_ID, SALES_AMOUNT\n",
    "FROM(\n",
    "    SELECT SALES_DATE, PRODUCT_ID, USER_ID, SALES_AMOUNT\n",
    "    FROM ONLINE_SALE\n",
    "    WHERE YEAR(SALES_DATE) = '2022' AND MONTH(SALES_DATE) = '03'\n",
    "    UNION ALL\n",
    "    SELECT SALES_DATE, PRODUCT_ID, NULL AS USER_ID, SALES_AMOUNT\n",
    "    FROM OFFLINE_SALE\n",
    "    WHERE YEAR(SALES_DATE) = '2022' AND MONTH(SALES_DATE) = '03'\n",
    ") AS SALES\n",
    "ORDER BY SALES_DATE ASC, PRODUCT_ID ASC, USER_ID ASC;\n"
   ]
  },
  {
   "cell_type": "markdown",
   "metadata": {},
   "source": [
    "# 링크\n",
    "https://school.programmers.co.kr/learn/courses/30/lessons/131537"
   ]
  },
  {
   "cell_type": "markdown",
   "metadata": {},
   "source": [
    "# 이론\n",
    "- 이 문제는 두개의 테이블의 select 값을 묶는 문제였다.\n",
    "\n",
    "## UNION\n",
    "- UNION은 SQL에서 두 개 이상의 SELECT 쿼리 결과를 합치는 연산자\n",
    "\n",
    "### UNION의 주요 특징\n",
    "1. 결과 중복 제거\n",
    "2. 두 SELECT문의 열 개수와 데이터 타입 일치\n",
    "3. UNION은 결과를 기본적으로 오름차순으로 정렬합니다.\n",
    "\n",
    "- 쉽게 두 테이블을 묶어서 하나의 테이블을 만든다고 생각하면 쉬움\n",
    "- 추가로 UNION ALL은 중복을 제거하지 않고 다 보여줌\n",
    "- 성능적으로 중복 처리를 안 해서 더 빠름"
   ]
  },
  {
   "cell_type": "markdown",
   "metadata": {},
   "source": [
    "---"
   ]
  },
  {
   "cell_type": "code",
   "execution_count": null,
   "metadata": {
    "vscode": {
     "languageId": "sql"
    }
   },
   "outputs": [],
   "source": [
    "SELECT ID, EMAIL, FIRST_NAME, LAST_NAME\n",
    "FROM DEVELOPERS\n",
    "WHERE SKILL_CODE & (SELECT CODE FROM SKILLCODES WHERE NAME='Python') OR SKILL_CODE & (SELECT CODE FROM SKILLCODES WHERE NAME='C#')\n",
    "ORDER BY ID"
   ]
  },
  {
   "cell_type": "code",
   "execution_count": null,
   "metadata": {
    "vscode": {
     "languageId": "sql"
    }
   },
   "outputs": [],
   "source": [
    "# 오류\n",
    "SELECT ID, EMAIL, FIRST_NAME, LAST_NAME\n",
    "FROM DEVELOPERS\n",
    "WHERE SKILL_CODE & (SELECT CODE FROM SKILLCODES WHERE NAME = 256) OR SKILL_CODE & (SELECT CODE FROM SKILLCODES WHERE CODE = 1024)\n",
    "ORDER BY ID"
   ]
  },
  {
   "cell_type": "markdown",
   "metadata": {},
   "source": [
    "- 두 번째 쿼리에서 CODE = 256 또는 CODE = 1024 조건은 정확히 매칭되는 값이 없을 경우 NULL을 반환하며, 이로 인해 결과가 다르게 나타날 수 있습니다.\n",
    "- WHERE SKILL_CODE & 256 != 0 OR SKILL_CODE & 1024 != 0"
   ]
  },
  {
   "cell_type": "markdown",
   "metadata": {},
   "source": [
    "# 이론\n",
    "## BIT 연산자\n",
    "\n",
    "| 연산자          | 설명                                         | 예제       | 결과  |\n",
    "|-----------------|--------------------------------------------|------------|-------|\n",
    "| `&` (AND)      | 두 숫자의 비트 AND 연산                     | `6 & 3`    | `2`   |\n",
    "| `|` (OR)       | 두 숫자의 비트 OR 연산                      | 6 | 3   | `7`   |\n",
    "| `^` (XOR)      | 두 숫자의 비트 XOR 연산                     | `6 ^ 3`    | `5`   |\n",
    "| `~` (NOT)      | 숫자의 비트 NOT 연산 (반전)                 | `~6`       | `-7`  |\n",
    "| `<<` (Left Shift) | 비트를 왼쪽으로 이동 (빈 자리는 0으로 채움) | `3 << 1`   | `6`   |\n",
    "| `>>` (Right Shift) | 비트를 오른쪽으로 이동 (빈 자리는 0으로 채움) | `6 >> 1`   | `3`   |\n",
    "\n"
   ]
  },
  {
   "cell_type": "markdown",
   "metadata": {},
   "source": [
    "---"
   ]
  },
  {
   "cell_type": "code",
   "execution_count": null,
   "metadata": {
    "vscode": {
     "languageId": "sql"
    }
   },
   "outputs": [],
   "source": [
    "SELECT COUNT(*) as FISH_COUNT\n",
    "FROM FISH_INFO\n",
    "WHERE FISH_TYPE IN (\n",
    "    SELECT FISH_TYPE\n",
    "    FROM FISH_NAME_INFO\n",
    "    WHERE FISH_NAME = \"BASS\" OR FISH_NAME = \"SNAPPER\"\n",
    ")"
   ]
  },
  {
   "cell_type": "markdown",
   "metadata": {},
   "source": [
    "## 링크\n",
    "https://school.programmers.co.kr/learn/courses/30/lessons/298518"
   ]
  },
  {
   "cell_type": "markdown",
   "metadata": {},
   "source": [
    "---"
   ]
  },
  {
   "cell_type": "markdown",
   "metadata": {},
   "source": [
    "## 이론\n",
    "IN 연산자 활용 방법\n",
    "1. 기본 문법\n",
    "sql\n",
    "코드 복사\n",
    "SELECT 열1, 열2, ...\n",
    "FROM 테이블명\n",
    "WHERE 열이름 IN (값1, 값2, 값3, ...);\n",
    "열이름: 비교하려는 열\n",
    "값1, 값2, 값3: 비교 대상 값의 리스트\n",
    "2. 예제\n",
    "예제 테이블: EMPLOYEES\n",
    "\n",
    "EMP_ID\tNAME\tDEPARTMENT\n",
    "1\tAlice\tHR\n",
    "2\tBob\tIT\n",
    "3\tCharlie\tSales\n",
    "4\tDavid\tIT\n",
    "5\tEve\tHR\n",
    "기본 사용\n",
    "\n",
    "sql\n",
    "코드 복사\n",
    "SELECT * \n",
    "FROM EMPLOYEES\n",
    "WHERE DEPARTMENT IN ('HR', 'IT');\n",
    "결과:\n",
    "\n",
    "EMP_ID\tNAME\tDEPARTMENT\n",
    "1\tAlice\tHR\n",
    "2\tBob\tIT\n",
    "4\tDavid\tIT\n",
    "5\t\t\n",
    "\n",
    "\n",
    "\n",
    "\n",
    "\n",
    "\n",
    "나의 말:\n",
    "md파일로 적을거라 그 형식으로 다 적어줘\n",
    "ChatGPT의 말:\n",
    "ChatGPT\n",
    "아래는 Markdown 파일 형식으로 작성한 IN 연산자 활용 가이드입니다. 이 내용을 .md 파일에 복사하여 저장하면 Markdown 파일로 활용할 수 있습니다.\n",
    "\n",
    "md\n",
    "코드 복사\n",
    "# IN 연산자 활용 방법\n",
    "\n",
    "## 1. 기본 문법\n",
    "\n",
    "```sql\n",
    "SELECT 열1, 열2, ...\n",
    "FROM 테이블명\n",
    "WHERE 열이름 IN (값1, 값2, 값3, ...);\n",
    "열이름: 비교하려는 열\n",
    "값1, 값2, 값3: 비교 대상 값의 리스트\n",
    "2. 예제\n",
    "예제 테이블: EMPLOYEES\n",
    "EMP_ID\tNAME\tDEPARTMENT\n",
    "1\tAlice\tHR\n",
    "2\tBob\tIT\n",
    "3\tCharlie\tSales\n",
    "4\tDavid\tIT\n",
    "5\tEve\tHR\n",
    "기본 사용\n",
    "sql\n",
    "코드 복사\n",
    "SELECT * \n",
    "FROM EMPLOYEES\n",
    "WHERE DEPARTMENT IN ('HR', 'IT');\n",
    "결과:\n",
    "EMP_ID\tNAME\tDEPARTMENT\n",
    "1\tAlice\tHR\n",
    "2\tBob\tIT\n",
    "4\tDavid\tIT\n",
    "5\tEve\tHR\n",
    "3. 서브쿼리와 함께 사용\n",
    "IN 연산자는 서브쿼리의 결과를 조건으로 사용할 수 있습니다.\n",
    "\n",
    "sql\n",
    "코드 복사\n",
    "SELECT NAME\n",
    "FROM EMPLOYEES\n",
    "WHERE DEPARTMENT IN (\n",
    "    SELECT DEPARTMENT\n",
    "    FROM DEPARTMENTS\n",
    "    WHERE LOCATION = 'New York'\n",
    ");\n",
    "설명:\n",
    "DEPARTMENTS 테이블에서 위치가 \"New York\"인 부서를 찾습니다.\n",
    "그 부서에 속한 직원만 선택합니다.\n",
    "4. NOT IN 사용\n",
    "NOT IN은 지정된 값이나 서브쿼리의 결과와 일치하지 않는 값을 찾습니다.\n",
    "\n",
    "sql\n",
    "코드 복사\n",
    "SELECT *\n",
    "FROM EMPLOYEES\n",
    "WHERE DEPARTMENT NOT IN ('HR', 'IT');\n",
    "결과:\n",
    "EMP_ID\tNAME\tDEPARTMENT\n",
    "3\tCharlie\tSales\n",
    "5. NULL 처리 주의\n",
    "IN이나 NOT IN을 사용할 때 NULL 값이 포함되면 주의해야 합니다.\n",
    "\n",
    "예제: NULL이 있는 경우\n",
    "EMP_ID\tNAME\tDEPARTMENT\n",
    "1\tAlice\tHR\n",
    "2\tBob\tNULL\n",
    "sql\n",
    "코드 복사\n",
    "SELECT *\n",
    "FROM EMPLOYEES\n",
    "WHERE DEPARTMENT IN ('HR', 'IT');\n",
    "결과:\n",
    "EMP_ID\tNAME\tDEPARTMENT\n",
    "1\tAlice\tHR\n",
    "NULL 값은 제외됩니다.\n",
    "6. IN 대체: EXISTS\n",
    "IN은 EXISTS로 대체할 수도 있습니다. EXISTS는 존재 여부를 확인합니다.\n",
    "\n",
    "sql\n",
    "코드 복사\n",
    "SELECT NAME\n",
    "FROM EMPLOYEES e\n",
    "WHERE EXISTS (\n",
    "    SELECT 1\n",
    "    FROM DEPARTMENTS d\n",
    "    WHERE e.DEPARTMENT = d.DEPARTMENT AND d.LOCATION = 'New York'\n",
    ");\n",
    "7. 성능 비교\n",
    "IN은 비교 대상 집합이 클 경우 성능이 저하될 수 있습니다.\n",
    "많은 경우, JOIN을 사용하거나 EXISTS를 고려하는 것이 더 효율적입니다.\n",
    "8. IN과 OR의 차이\n",
    "IN은 여러 OR 조건을 간결하게 대체합니다.\n",
    "\n",
    "OR 조건 사용\n",
    "sql\n",
    "코드 복사\n",
    "SELECT *\n",
    "FROM EMPLOYEES\n",
    "WHERE DEPARTMENT = 'HR' OR DEPARTMENT = 'IT' OR DEPARTMENT = 'Sales';\n",
    "동일한 결과를 IN으로 작성\n",
    "sql\n",
    "코드 복사\n",
    "SELECT *\n",
    "FROM EMPLOYEES\n",
    "WHERE DEPARTMENT IN ('HR', 'IT', 'Sales');\n",
    "결과:\n",
    "EMP_ID\tNAME\tDEPARTMENT\n",
    "1\tAlice\tHR\n",
    "2\tBob\tIT\n",
    "3\tCharlie\tSales\n",
    "4\tDavid\tIT\n",
    "5\tEve\tHR\n",
    "요약\n",
    "사용 사례\t구문\n",
    "특정 값 비교\tWHERE 열 IN (값1, 값2, ...)\n",
    "서브쿼리와 함께 사용\tWHERE 열 IN (SELECT ...)\n",
    "NOT IN 사용\tWHERE 열 NOT IN (값1, 값2, ...)\n",
    "NULL 값 처리 주의\tNULL 값이 포함되면 의도치 않은 결과 가능\n",
    "EXISTS 사용\t복잡한 비교에서는 EXISTS를 고려\n",
    "IN은 간결하고 직관적이지만, 데이터 크기에 따라 성능 문제를 고려해야 합니다.\n",
    "\n",
    "css\n",
    "코드 복사\n",
    "\n",
    "이 내용을 `.md` 파일로 저장하면 Markdown 형식으로 잘 보일 것입니다. Markdown 뷰어(GitHub, VS Code 등)에서 열어 확인해보세요!\n"
   ]
  },
  {
   "cell_type": "markdown",
   "metadata": {},
   "source": [
    "---"
   ]
  }
 ],
 "metadata": {
  "kernelspec": {
   "display_name": "Python 3",
   "language": "python",
   "name": "python3"
  },
  "language_info": {
   "codemirror_mode": {
    "name": "ipython",
    "version": 3
   },
   "file_extension": ".py",
   "mimetype": "text/x-python",
   "name": "python",
   "nbconvert_exporter": "python",
   "pygments_lexer": "ipython3",
   "version": "3.11.5"
  }
 },
 "nbformat": 4,
 "nbformat_minor": 2
}
