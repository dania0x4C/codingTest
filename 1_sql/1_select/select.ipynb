{
 "cells": [
  {
   "cell_type": "markdown",
   "metadata": {},
   "source": [
    "[select] 평균 일일 대여 요금 구하기"
   ]
  },
  {
   "cell_type": "code",
   "execution_count": null,
   "metadata": {
    "vscode": {
     "languageId": "sql"
    }
   },
   "outputs": [],
   "source": [
    "SELECT ROUND(AVG(DAILY_FEE), 0) as AVERAGE_FEE\n",
    "FROM CAR_RENTAL_COMPANY_CAR\n",
    "WHERE CAR_TYPE = 'SUV'"
   ]
  },
  {
   "cell_type": "markdown",
   "metadata": {},
   "source": [
    "# 링크\n",
    "https://school.programmers.co.kr/learn/courses/30/lessons/151136\n",
    "\n",
    "# 이론\n",
    "ROUND()를 통해 소수점 반올림이 가능\n"
   ]
  },
  {
   "cell_type": "code",
   "execution_count": null,
   "metadata": {
    "vscode": {
     "languageId": "sql"
    }
   },
   "outputs": [],
   "source": [
    "SELECT USER_ID, PRODUCT_ID\n",
    "FROM ONLINE_SALE\n",
    "GROUP BY USER_ID, PRODUCT_ID\n",
    "HAVING COUNT(*) > 1\n",
    "ORDER BY USER_ID ASC, PRODUCT_ID DESC;"
   ]
  },
  {
   "cell_type": "markdown",
   "metadata": {},
   "source": [
    "# 링크 \n",
    "https://school.programmers.co.kr/learn/courses/30/lessons/131536\n",
    "\n",
    "# 이론\n",
    "\n",
    "- 문제 이해 오류\n",
    "- 재구매 != 판매량 > 1\n",
    "\n",
    "GROUP BY: 동일한 값끼리 하나로 묶어줌\n",
    "\n"
   ]
  }
 ],
 "metadata": {
  "kernelspec": {
   "display_name": "Python 3",
   "language": "python",
   "name": "python3"
  },
  "language_info": {
   "codemirror_mode": {
    "name": "ipython",
    "version": 3
   },
   "file_extension": ".py",
   "mimetype": "text/x-python",
   "name": "python",
   "nbconvert_exporter": "python",
   "pygments_lexer": "ipython3",
   "version": "3.11.5"
  }
 },
 "nbformat": 4,
 "nbformat_minor": 2
}
