{
 "cells": [
  {
   "cell_type": "code",
   "execution_count": null,
   "metadata": {
    "vscode": {
     "languageId": "sql"
    }
   },
   "outputs": [],
   "source": [
    "SELECT O.ANIMAL_ID, O.NAME\n",
    "FROM ANIMAL_INS as I\n",
    "RIGHT JOIN ANIMAL_OUTS as O\n",
    "    ON I.ANIMAL_ID = O.ANIMAL_ID\n",
    "WHERE I.ANIMAL_ID IS NULL\n",
    "ORDER BY O.ANIMAL_ID ASC"
   ]
  },
  {
   "cell_type": "markdown",
   "metadata": {},
   "source": [
    "https://school.programmers.co.kr/learn/courses/30/lessons/59042"
   ]
  },
  {
   "cell_type": "markdown",
   "metadata": {},
   "source": [
    "# 이론\n",
    "\n",
    "처음에는 NAME이 out에 없는 줄 알고 full join을 했지만 O에도 있어서  union을 사용하지 않아도 된다."
   ]
  },
  {
   "cell_type": "code",
   "execution_count": null,
   "metadata": {
    "vscode": {
     "languageId": "sql"
    }
   },
   "outputs": [],
   "source": [
    "SELECT P.PRODUCT_ID, P.PRODUCT_NAME, SUM(P.PRICE * O.AMOUNT) AS TOTAL_SALES\n",
    "FROM FOOD_PRODUCT as P\n",
    "JOIN FOOD_ORDER as O\n",
    "    ON P.PRODUCT_ID = O.PRODUCT_ID\n",
    "WHERE MONTH(O.PRODUCE_DATE) = 5 AND YEAR(O.PRODUCE_DATE) = 2022\n",
    "GROUP BY PRODUCT_ID\n",
    "ORDER BY TOTAL_SALES DESC, P.PRODUCT_ID ASC"
   ]
  },
  {
   "cell_type": "markdown",
   "metadata": {},
   "source": [
    "https://school.programmers.co.kr/learn/courses/30/lessons/131117"
   ]
  },
  {
   "cell_type": "markdown",
   "metadata": {},
   "source": [
    "# 이론\n",
    "\n",
    "다음 문제는 접근 자체는 어렵지 않았다. 하지만 group by로 같은 ID의 값이 묶이면서 price 값이 하나만 나오기 때문에 sum을 해줘야 한다는 것만 알고 있으면 되었다."
   ]
  }
 ],
 "metadata": {
  "language_info": {
   "name": "python"
  }
 },
 "nbformat": 4,
 "nbformat_minor": 2
}
