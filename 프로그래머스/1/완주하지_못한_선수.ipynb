{
 "cells": [
  {
   "cell_type": "code",
   "execution_count": null,
   "metadata": {
    "vscode": {
     "languageId": "plaintext"
    }
   },
   "outputs": [],
   "source": [
    "def solution(participant, completion):\n",
    "    success = dict()\n",
    "    for name in completion:\n",
    "        if name in success:\n",
    "            success[name] += 1\n",
    "        else:\n",
    "            success[name] = 1\n",
    "            \n",
    "    for name in participant:\n",
    "        if name in success:\n",
    "            success[name] -= 1\n",
    "        else:\n",
    "            return name\n",
    "    \n",
    "    for i in success:\n",
    "        if success[i] == -1:\n",
    "            answer = i\n",
    "            \n",
    "        \n",
    "    return answer"
   ]
  }
 ],
 "metadata": {
  "language_info": {
   "name": "python"
  }
 },
 "nbformat": 4,
 "nbformat_minor": 2
}
