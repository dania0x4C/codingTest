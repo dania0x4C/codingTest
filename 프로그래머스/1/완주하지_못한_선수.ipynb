{
 "cells": [
  {
   "cell_type": "code",
   "execution_count": null,
   "metadata": {},
   "outputs": [],
   "source": [
    "def solution(participant, completion):\n",
    "    success = dict()\n",
    "    for name in completion:\n",
    "        if name in success:\n",
    "            success[name] += 1\n",
    "        else:\n",
    "            success[name] = 1\n",
    "            \n",
    "    for name in participant:\n",
    "        if name in success:\n",
    "            success[name] -= 1\n",
    "        else:\n",
    "            return name\n",
    "    \n",
    "    for i in success:\n",
    "        if success[i] == -1:\n",
    "            answer = i\n",
    "            \n",
    "        \n",
    "    return answer"
   ]
  },
  {
   "cell_type": "code",
   "execution_count": null,
   "metadata": {},
   "outputs": [
    {
     "ename": "",
     "evalue": "",
     "output_type": "error",
     "traceback": [
      "\u001b[1;31mRunning cells with 'Python 3.12.9' requires the ipykernel package.\n",
      "\u001b[1;31mRun the following command to install 'ipykernel' into the Python environment. \n",
      "\u001b[1;31mCommand: '/opt/homebrew/bin/python3.12 -m pip install ipykernel -U --user --force-reinstall'"
     ]
    }
   ],
   "source": [
    "arr = [1,2,3]\n",
    "\n",
    "print(arr.sort)"
   ]
  }
 ],
 "metadata": {
  "kernelspec": {
   "display_name": "Python 3",
   "language": "python",
   "name": "python3"
  },
  "language_info": {
   "name": "python",
   "version": "3.12.9"
  }
 },
 "nbformat": 4,
 "nbformat_minor": 2
}
