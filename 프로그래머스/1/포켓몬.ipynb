{
 "cells": [
  {
   "cell_type": "code",
   "execution_count": null,
   "metadata": {
    "vscode": {
     "languageId": "plaintext"
    }
   },
   "outputs": [],
   "source": [
    "def solution(nums):\n",
    "    pocketmons = dict()\n",
    "    for num in nums:\n",
    "        if num in pocketmons:\n",
    "            pocketmons[num] +=1\n",
    "        else:\n",
    "            pocketmons[num] = 1\n",
    "    if len(pocketmons) > len(nums)/2:\n",
    "        return len(nums)/2\n",
    "    else:\n",
    "        return len(pocketmons)"
   ]
  }
 ],
 "metadata": {
  "language_info": {
   "name": "python"
  }
 },
 "nbformat": 4,
 "nbformat_minor": 2
}
