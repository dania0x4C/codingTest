{
 "cells": [
  {
   "cell_type": "markdown",
   "metadata": {},
   "source": [
    "DFS (재귀 또는 스택 사용)"
   ]
  },
  {
   "cell_type": "code",
   "execution_count": null,
   "metadata": {},
   "outputs": [],
   "source": [
    "def dfs(graph, v, visited):\n",
    "    visited[v] = True\n",
    "    for neighbor in graph[v]:\n",
    "        if not visited[neighbor]:\n",
    "            dfs(graph, neighbor, visited)"
   ]
  },
  {
   "cell_type": "markdown",
   "metadata": {},
   "source": [
    "BFS (큐 사용)"
   ]
  },
  {
   "cell_type": "code",
   "execution_count": null,
   "metadata": {},
   "outputs": [],
   "source": [
    "from collections import deque\n",
    "\n",
    "def bfs(graph, start):\n",
    "    visited = [False] * len(graph)\n",
    "    queue = deque([start])\n",
    "    visited[start] = True\n",
    "\n",
    "    while queue:\n",
    "        v = queue.popleft()\n",
    "        for neighbor in graph[v]:\n",
    "            if not visited[neighbor]:\n",
    "                visited[neighbor] = True\n",
    "                queue.append(neighbor)"
   ]
  },
  {
   "cell_type": "markdown",
   "metadata": {},
   "source": [
    " 2차원 배열 BFS (미로 탐색 등)"
   ]
  },
  {
   "cell_type": "code",
   "execution_count": null,
   "metadata": {},
   "outputs": [],
   "source": [
    "from collections import deque\n",
    "\n",
    "def bfs(start_x, start_y, board):\n",
    "    n, m = len(board), len(board[0])\n",
    "    visited = [[False]*m for _ in range(n)]\n",
    "    queue = deque([(start_x, start_y)])\n",
    "    visited[start_x][start_y] = True\n",
    "\n",
    "    dx = [1, -1, 0, 0]\n",
    "    dy = [0, 0, 1, -1]\n",
    "\n",
    "    while queue:\n",
    "        x, y = queue.popleft()\n",
    "        for dir in range(4):\n",
    "            nx, ny = x + dx[dir], y + dy[dir]\n",
    "            if 0 <= nx < n and 0 <= ny < m and not visited[nx][ny]:\n",
    "                visited[nx][ny] = True\n",
    "                queue.append((nx, ny))"
   ]
  },
  {
   "cell_type": "markdown",
   "metadata": {},
   "source": [
    "# DFS/BFS 기초\n",
    "https://school.programmers.co.kr/learn/courses/30/lessons/43165\n",
    "\n",
    "https://school.programmers.co.kr/learn/courses/30/lessons/43162\n",
    "\n",
    "https://school.programmers.co.kr/learn/courses/30/lessons/43163\n",
    "\n",
    "https://school.programmers.co.kr/learn/courses/30/lessons/84512\n",
    "\n",
    "https://school.programmers.co.kr/learn/courses/30/lessons/43164\n",
    "\n",
    "# 2차원 배열 탐색\n",
    "https://school.programmers.co.kr/learn/courses/30/lessons/1844\n",
    "\n",
    "https://school.programmers.co.kr/learn/courses/30/lessons/87694\n",
    "\n",
    "https://school.programmers.co.kr/learn/courses/30/lessons/81302\n",
    "\n",
    "https://school.programmers.co.kr/learn/courses/30/lessons/84021\n",
    "\n",
    "# 응용/백트래킹\n",
    "https://school.programmers.co.kr/learn/courses/30/lessons/42892\n",
    "\n",
    "https://school.programmers.co.kr/learn/courses/30/lessons/64064\n",
    "\n",
    "https://school.programmers.co.kr/learn/courses/30/lessons/86971\n",
    "\n",
    "https://school.programmers.co.kr/learn/courses/30/lessons/92343\n",
    "\n",
    "https://school.programmers.co.kr/learn/courses/30/lessons/72412"
   ]
  },
  {
   "cell_type": "code",
   "execution_count": null,
   "metadata": {},
   "outputs": [],
   "source": [
    "# https://school.programmers.co.kr/learn/courses/30/lessons/43165\n",
    "from collections import deque\n",
    "\n",
    "def solution(maps):\n",
    "    X = len(maps[0])\n",
    "    Y = len(maps)\n",
    "    \n",
    "    visited = [[0 for _ in range(X)] for _ in range(Y)] \n",
    "    start = (0, 0)\n",
    "    bfs(start, visited, maps, X, Y)\n",
    "    \n",
    "    if visited[Y-1][X-1] == 0:\n",
    "        return -1\n",
    "    else: \n",
    "        return visited[Y-1][X-1]\n",
    "\n",
    "def bfs(start, visited, maps, X, Y):\n",
    "    queue = deque([start])# 0, 0\n",
    "    visited[0][0] = 1\n",
    "    directions = [(0, 1), (1, 0), (-1, 0), (0, -1)]\n",
    "\n",
    "\n",
    "    while queue:\n",
    "        location = queue.popleft()\n",
    "        \n",
    "        for x, y in directions:\n",
    "            dx = x + location[0]\n",
    "            dy = y + location[1]\n",
    "\n",
    "            if 0 <= dx < X and  0 <= dy < Y and (not visited[dy][dx]) and maps[dy][dx] == 1:\n",
    "\n",
    "                visited[dy][dx] = visited[location[1]][location[0]] + 1\n",
    "                queue.append([dx, dy])"
   ]
  }
 ],
 "metadata": {
  "language_info": {
   "name": "python"
  }
 },
 "nbformat": 4,
 "nbformat_minor": 2
}
