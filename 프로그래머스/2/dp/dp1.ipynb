{
 "cells": [
  {
   "cell_type": "code",
   "execution_count": null,
   "metadata": {},
   "outputs": [],
   "source": [
    "def solution(N, number):\n",
    "    \n",
    "    if N == number:\n",
    "        return 1\n",
    "    \n",
    "    dp = [set() for _ in range(9)]\n",
    "    \n",
    "    for i in range(1, 9):\n",
    "        dp[i].add(int(str(N) * i))# 5 -> 55 -> 555 -> 5555\n",
    "    \n",
    "        for j in range(1, i):\n",
    "            for op1 in dp[j]: \n",
    "                for op2 in dp[i - j]:# 0\n",
    "                    dp[i].add(op1 + op2)\n",
    "                    dp[i].add(op1 - op2)\n",
    "                    dp[i].add(op1 * op2)\n",
    "                    if op2 != 0:\n",
    "                        dp[i].add(op1 // op2)\n",
    "        if number in dp[i]:\n",
    "            return i\n",
    "    return -1\n"
   ]
  }
 ],
 "metadata": {
  "language_info": {
   "name": "python"
  }
 },
 "nbformat": 4,
 "nbformat_minor": 2
}
