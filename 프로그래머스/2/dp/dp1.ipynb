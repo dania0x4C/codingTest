{
 "cells": [
  {
   "cell_type": "code",
   "execution_count": null,
   "metadata": {},
   "outputs": [],
   "source": [
    "def solution(N, number):\n",
    "    \n",
    "    if N == number:\n",
    "        return 1\n",
    "    \n",
    "    dp = [set() for _ in range(9)]\n",
    "    \n",
    "    for i in range(1, 9):\n",
    "        dp[i].add(int(str(N) * i))# 5 -> 55 -> 555 -> 5555\n",
    "    \n",
    "        for j in range(1, i):\n",
    "            for op1 in dp[j]: \n",
    "                for op2 in dp[i - j]:# 0\n",
    "                    dp[i].add(op1 + op2)\n",
    "                    dp[i].add(op1 - op2)\n",
    "                    dp[i].add(op1 * op2)\n",
    "                    if op2 != 0:\n",
    "                        dp[i].add(op1 // op2)\n",
    "        if number in dp[i]:\n",
    "            return i\n",
    "    return -1\n"
   ]
  },
  {
   "cell_type": "code",
   "execution_count": null,
   "metadata": {},
   "outputs": [],
   "source": [
    "def solution(triangle):\n",
    "    n = len(triangle)\n",
    "    \n",
    "    # triangle과 같은 구조의 dp 배열 만들기\n",
    "    dp = [[0] * (i+1) for i in range(n)]\n",
    "    \n",
    "    # 마지막 줄은 triangle과 동일\n",
    "    dp[-1] = triangle[-1][:]\n",
    "\n",
    "    # 아래에서 위로 올라오며 DP 수행\n",
    "    for i in range(n - 2, -1, -1):  # n-2부터 0까지\n",
    "        for j in range(len(triangle[i])):\n",
    "            dp[i][j] = triangle[i][j] + max(dp[i+1][j], dp[i+1][j+1])\n",
    "\n",
    "    return dp[0][0]"
   ]
  },
  {
   "cell_type": "code",
   "execution_count": null,
   "metadata": {},
   "outputs": [],
   "source": [
    "def solution(elements):\n",
    "    n = len(elements)\n",
    "    elements += elements # 원형의 형태를 두개로 붙여서 선형으로 계산 가능하게 만듬\n",
    "    result = set()\n",
    "\n",
    "    for length in range(1, n+1):\n",
    "        for start in range(n):\n",
    "            s = sum(elements[start:start+length])\n",
    "            result.add(s)"
   ]
  },
  {
   "cell_type": "markdown",
   "metadata": {},
   "source": [
    "| 문제                   | 링크                                                                                                                                 |\n",
    "| -------------------- | ---------------------------------------------------------------------------------------------------------------------------------- |\n",
    "| 비밀지도                 | [https://school.programmers.co.kr/learn/courses/30/lessons/17681](https://school.programmers.co.kr/learn/courses/30/lessons/17681) |\n",
    "| 키패드 누르기              | [https://school.programmers.co.kr/learn/courses/30/lessons/67256](https://school.programmers.co.kr/learn/courses/30/lessons/67256) |\n",
    "| 숫자 문자열과 영단어          | [https://school.programmers.co.kr/learn/courses/30/lessons/81301](https://school.programmers.co.kr/learn/courses/30/lessons/81301) |\n",
    "| 자물쇠와 열쇠              | [https://school.programmers.co.kr/learn/courses/30/lessons/60059](https://school.programmers.co.kr/learn/courses/30/lessons/60059) |\n",
    "| 게임 맵 최단거리 (시뮬 + BFS) | [https://school.programmers.co.kr/learn/courses/30/lessons/1844](https://school.programmers.co.kr/learn/courses/30/lessons/1844)   |\n"
   ]
  },
  {
   "cell_type": "markdown",
   "metadata": {},
   "source": [
    "| 문제              | 링크                                                                                                                                 |\n",
    "| --------------- | ---------------------------------------------------------------------------------------------------------------------------------- |\n",
    "| 문자열 내 p와 y의 개수  | [https://school.programmers.co.kr/learn/courses/30/lessons/12916](https://school.programmers.co.kr/learn/courses/30/lessons/12916) |\n",
    "| 이상한 문자 만들기      | [https://school.programmers.co.kr/learn/courses/30/lessons/12930](https://school.programmers.co.kr/learn/courses/30/lessons/12930) |\n",
    "| 문자열 내 마음대로 정렬하기 | [https://school.programmers.co.kr/learn/courses/30/lessons/12915](https://school.programmers.co.kr/learn/courses/30/lessons/12915) |\n",
    "| 문자열 압축          | [https://school.programmers.co.kr/learn/courses/30/lessons/60057](https://school.programmers.co.kr/learn/courses/30/lessons/60057) |\n",
    "| 신규 아이디 추천       | [https://school.programmers.co.kr/learn/courses/30/lessons/72410](https://school.programmers.co.kr/learn/courses/30/lessons/72410) |\n"
   ]
  },
  {
   "cell_type": "code",
   "execution_count": null,
   "metadata": {},
   "outputs": [],
   "source": [
    "def solution(s):\n",
    "    count_p = 0\n",
    "    count_y = 0\n",
    "    \n",
    "    for i in s:\n",
    "        if i == 'p' or i == 'P':\n",
    "            count_p += 1\n",
    "        elif i == 'y' or i == 'Y':\n",
    "            count_y += 1\n",
    "    if count_p == count_y or (count_p == 0 and count_y == 0) :\n",
    "        return True\n",
    "    else:\n",
    "        return False"
   ]
  },
  {
   "cell_type": "code",
   "execution_count": null,
   "metadata": {},
   "outputs": [],
   "source": [
    "def solution(s):\n",
    "    result = ''\n",
    "    count = 0\n",
    "    for i in s:\n",
    "        if i == \" \":\n",
    "            count = 0\n",
    "            result += \" \"\n",
    "        elif count % 2 == 0:\n",
    "            count += 1\n",
    "            result += str(i.upper())\n",
    "        elif count % 2 == 1:\n",
    "            count += 1\n",
    "            result += str(i.lower())\n",
    "            \n",
    "    return result"
   ]
  },
  {
   "cell_type": "code",
   "execution_count": null,
   "metadata": {},
   "outputs": [],
   "source": [
    "def solution(strings, n):\n",
    "        \n",
    "    sortedStrings = sorted(strings, key = lambda x : (x[n], x))\n",
    "    return sortedStrings "
   ]
  },
  {
   "cell_type": "code",
   "execution_count": null,
   "metadata": {},
   "outputs": [],
   "source": [
    "# 오답\n",
    "def solution(s):\n",
    "    n = len(s) \n",
    "    min = 10000000\n",
    "    result = ''\n",
    "    \n",
    "    if n%2 == 0:\n",
    "        length = n/2\n",
    "    else:\n",
    "        length = (n-1)/2\n",
    "        \n",
    "    for i in range(1, int(length)):# 중복이 되는 길이의 값(1~n/2) i = 1\n",
    "        denseS = ''\n",
    "        for j in range(0, n-i):# 문자열의 시작점, 끝 시작 점(0~n - 중복 길이 값) j = 3\n",
    "            count = 1\n",
    "            for k in range(j+i, n-i, i):# 중복 문자열 check를 위한 반복문 k = 4\n",
    "                if s[j : j+i] == s[k : k+i]:# 문자열의 시작점, 중복 check를 위한 값 3, 4\n",
    "                    count += 1# 문자열의 중복 숫자\n",
    "                else:\n",
    "                    break\n",
    "                    \n",
    "            if count !=1:\n",
    "                denseS += str(count)\n",
    "                denseS += s[j]\n",
    "            else:\n",
    "                denseS +=s[j]\n",
    "        if len(denseS) < min:# 이게 되는걸 보니 끝 값 처리가 부족해 보임\n",
    "            result = denseS\n",
    "            min = len(denseS)\n",
    "        \n",
    "    return result\n",
    "# 중복적으로 검사 되는 값들을 처리할 수 없는 구조임\n",
    "\n",
    "\n"
   ]
  },
  {
   "cell_type": "code",
   "execution_count": null,
   "metadata": {},
   "outputs": [],
   "source": [
    "\n",
    "def solution(s):\n",
    "    n = len(s)\n",
    "    result = ''\n",
    "    min_len = n\n",
    "\n",
    "    for i in range(1, n // 2 + 1):  # 압축 단위: 1부터 n//2까지\n",
    "        compressed = ''\n",
    "        count = 1\n",
    "        prev = s[0:i]# 문자열 초기값 설정\n",
    "\n",
    "        for j in range(i, n, i):\n",
    "            current = s[j:j+i]# 이동 했을때 문자열 값\n",
    "            if current == prev:# 같은 값일때 카운트 넘기고 다음 배열 값으로 넘김\n",
    "                count += 1\n",
    "            else:\n",
    "                compressed += (str(count) + prev) if count > 1 else prev\n",
    "                # 다른 값이 나오면 \"prev의 값\"을 count와 함께 더해주고 다시 초기화\n",
    "                prev = current\n",
    "                count = 1\n",
    "\n",
    "        compressed += (str(count) + prev) if count > 1 else prev\n",
    "        # 이렇게 해서 남은 값들이 prev에 들어갔기 때문에 더해줌\n",
    "\n",
    "\n",
    "        if len(compressed) < min_len:\n",
    "            min_len = len(compressed)\n",
    "            result = compressed\n",
    "\n",
    "    return result"
   ]
  },
  {
   "cell_type": "markdown",
   "metadata": {},
   "source": [
    "lambda는 정렬 기준을 정의하는 익명 함수\n",
    "\n",
    "1차 정렬 기준\n",
    "•\tx[n]: 문자열 x의 n번째 문자 → 1차 정렬 기준\n",
    "2차 정렬 기준\n",
    "•\tx: 문자열 자체 → 2차 정렬 기준 (1차 기준이 같을 경우)"
   ]
  },
  {
   "cell_type": "markdown",
   "metadata": {},
   "source": [
    "| 문제     | 링크                                                                                                                                 |\n",
    "| ------ | ---------------------------------------------------------------------------------------------------------------------------------- |\n",
    "| 모의고사   | [https://school.programmers.co.kr/learn/courses/30/lessons/42840](https://school.programmers.co.kr/learn/courses/30/lessons/42840) |\n",
    "| 소수 만들기 | [https://school.programmers.co.kr/learn/courses/30/lessons/12977](https://school.programmers.co.kr/learn/courses/30/lessons/12977) |\n",
    "| 최소직사각형 | [https://school.programmers.co.kr/learn/courses/30/lessons/86491](https://school.programmers.co.kr/learn/courses/30/lessons/86491) |\n",
    "| 카펫     | [https://school.programmers.co.kr/learn/courses/30/lessons/42842](https://school.programmers.co.kr/learn/courses/30/lessons/42842) |\n",
    "| 체육복    | [https://school.programmers.co.kr/learn/courses/30/lessons/42862](https://school.programmers.co.kr/learn/courses/30/lessons/42862) |\n"
   ]
  },
  {
   "cell_type": "markdown",
   "metadata": {},
   "source": [
    "| 문제                               | 링크                                                                                                                                 |\n",
    "| -------------------------------- | ---------------------------------------------------------------------------------------------------------------------------------- |\n",
    "| K번째 수                            | [https://school.programmers.co.kr/learn/courses/30/lessons/42748](https://school.programmers.co.kr/learn/courses/30/lessons/42748) |\n",
    "| 가장 큰 수                           | [https://school.programmers.co.kr/learn/courses/30/lessons/42746](https://school.programmers.co.kr/learn/courses/30/lessons/42746) |\n",
    "| 실패율                              | [https://school.programmers.co.kr/learn/courses/30/lessons/42889](https://school.programmers.co.kr/learn/courses/30/lessons/42889) |\n",
    "| H-Index                          | [https://school.programmers.co.kr/learn/courses/30/lessons/42747](https://school.programmers.co.kr/learn/courses/30/lessons/42747) |\n",
    "| 정렬된 배열에서 특정 값 찾기 (유사 예제: 탐색과 결합) | [https://school.programmers.co.kr/learn/courses/30/lessons/42761](https://school.programmers.co.kr/learn/courses/30/lessons/42761) |\n"
   ]
  },
  {
   "cell_type": "markdown",
   "metadata": {},
   "source": [
    "| 문제         | 링크                                                                                                                                 |\n",
    "| ---------- | ---------------------------------------------------------------------------------------------------------------------------------- |\n",
    "| 피보나치 수     | [https://school.programmers.co.kr/learn/courses/30/lessons/12945](https://school.programmers.co.kr/learn/courses/30/lessons/12945) |\n",
    "| 정수 삼각형     | [https://school.programmers.co.kr/learn/courses/30/lessons/43105](https://school.programmers.co.kr/learn/courses/30/lessons/43105) |\n",
    "| 거스름돈       | [https://school.programmers.co.kr/learn/courses/30/lessons/12907](https://school.programmers.co.kr/learn/courses/30/lessons/12907) |\n",
    "| 멀리 뛰기      | [https://school.programmers.co.kr/learn/courses/30/lessons/12914](https://school.programmers.co.kr/learn/courses/30/lessons/12914) |\n",
    "| 사칙연산에서 최댓값 | [https://school.programmers.co.kr/learn/courses/30/lessons/1843](https://school.programmers.co.kr/learn/courses/30/lessons/1843)   |\n"
   ]
  }
 ],
 "metadata": {
  "language_info": {
   "name": "python"
  }
 },
 "nbformat": 4,
 "nbformat_minor": 2
}
