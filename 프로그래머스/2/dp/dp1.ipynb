{
 "cells": [
  {
   "cell_type": "code",
   "execution_count": null,
   "metadata": {},
   "outputs": [],
   "source": [
    "def solution(N, number):\n",
    "    \n",
    "    if N == number:\n",
    "        return 1\n",
    "    \n",
    "    dp = [set() for _ in range(9)]\n",
    "    \n",
    "    for i in range(1, 9):\n",
    "        dp[i].add(int(str(N) * i))# 5 -> 55 -> 555 -> 5555\n",
    "    \n",
    "        for j in range(1, i):\n",
    "            for op1 in dp[j]: \n",
    "                for op2 in dp[i - j]:# 0\n",
    "                    dp[i].add(op1 + op2)\n",
    "                    dp[i].add(op1 - op2)\n",
    "                    dp[i].add(op1 * op2)\n",
    "                    if op2 != 0:\n",
    "                        dp[i].add(op1 // op2)\n",
    "        if number in dp[i]:\n",
    "            return i\n",
    "    return -1\n"
   ]
  },
  {
   "cell_type": "code",
   "execution_count": null,
   "metadata": {},
   "outputs": [],
   "source": [
    "def solution(triangle):\n",
    "    n = len(triangle)\n",
    "    \n",
    "    # triangle과 같은 구조의 dp 배열 만들기\n",
    "    dp = [[0] * (i+1) for i in range(n)]\n",
    "    \n",
    "    # 마지막 줄은 triangle과 동일\n",
    "    dp[-1] = triangle[-1][:]\n",
    "\n",
    "    # 아래에서 위로 올라오며 DP 수행\n",
    "    for i in range(n - 2, -1, -1):  # n-2부터 0까지\n",
    "        for j in range(len(triangle[i])):\n",
    "            dp[i][j] = triangle[i][j] + max(dp[i+1][j], dp[i+1][j+1])\n",
    "\n",
    "    return dp[0][0]"
   ]
  }
 ],
 "metadata": {
  "language_info": {
   "name": "python"
  }
 },
 "nbformat": 4,
 "nbformat_minor": 2
}
