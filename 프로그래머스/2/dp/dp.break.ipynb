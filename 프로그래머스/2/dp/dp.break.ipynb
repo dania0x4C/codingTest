{
 "cells": [
  {
   "cell_type": "code",
   "execution_count": null,
   "metadata": {},
   "outputs": [],
   "source": [
    "def solution(n):\n",
    "    dp = [0] * (n+1)\n",
    "    dp[0] = 0\n",
    "    dp[1] = 1\n",
    "    \n",
    "    for i in range(n-1):# 0\n",
    "        dp[i+2] = dp[i] + dp[i+1]\n",
    "    return dp[n] % 1234567"
   ]
  },
  {
   "cell_type": "code",
   "execution_count": null,
   "metadata": {},
   "outputs": [],
   "source": [
    "def solution(triangle):\n",
    "    n = len(triangle)# 5\n",
    "    \n",
    "    dp = [[0] * (i+1) for i in range(n)] # triangle이랑 같은 모양의 배열\n",
    "    dp[-1] = triangle[-1][:]\n",
    "    \n",
    "    for i in range(n-2, -1, -1):# 3-> 2 -> 1 -> 0\n",
    "        for j in range(len(triangle[i])):\n",
    "            dp[i][j] = triangle[i][j] + max(dp[i+1][j], dp[i+1][j+1])\n",
    "    \n",
    "    return dp[0][0]"
   ]
  }
 ],
 "metadata": {
  "language_info": {
   "name": "python"
  }
 },
 "nbformat": 4,
 "nbformat_minor": 2
}
