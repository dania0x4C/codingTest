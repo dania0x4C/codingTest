{
 "cells": [
  {
   "cell_type": "code",
   "execution_count": null,
   "metadata": {
    "vscode": {
     "languageId": "plaintext"
    }
   },
   "outputs": [],
   "source": [
    "def solution(citations):\n",
    "    maxCitation = 0\n",
    "    for i in range(len(citations)):\n",
    "        \n",
    "        high = 0\n",
    "        low = 0\n",
    "        for j in range(len(citations)):\n",
    "            if i+1 <= citations[j]:\n",
    "                high += 1\n",
    "            if i+1 >= citations[j]:\n",
    "                low += 1\n",
    "        if i+1 <= high and i+1 >= low:\n",
    "            if maxCitation < i+1:\n",
    "                maxCitation = i+1\n",
    "    return maxCitation"
   ]
  }
 ],
 "metadata": {
  "language_info": {
   "name": "python"
  }
 },
 "nbformat": 4,
 "nbformat_minor": 2
}
