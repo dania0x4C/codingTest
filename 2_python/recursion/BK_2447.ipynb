{
 "cells": [
  {
   "cell_type": "code",
   "execution_count": 97,
   "metadata": {},
   "outputs": [
    {
     "name": "stdout",
     "output_type": "stream",
     "text": [
      "['***', '*   *', '***', '***', '*   *', '***', '***', '*   *', '***']\n"
     ]
    }
   ],
   "source": [
    "N = 9\n",
    "L = []\n",
    "\n",
    "def Star():\n",
    "    \n",
    "    for i in range(N//3):\n",
    "        L.append(\"*\"*3)\n",
    "        L.append(\"*\"+\" \"*(N//3)+\"*\")\n",
    "        L.append(\"*\"*3)\n",
    "print(L)"
   ]
  },
  {
   "cell_type": "markdown",
   "metadata": {},
   "source": [
    "위의 코드는 내가 append를 통해서 별이 모양대로 찍히게 만들었다.\n",
    "하지만 재귀함수를 많이 이용해보지 않아서 머리속에서 구상이 잘 안 되었다."
   ]
  },
  {
   "cell_type": "code",
   "execution_count": 98,
   "metadata": {},
   "outputs": [
    {
     "name": "stdout",
     "output_type": "stream",
     "text": [
      "*********\n",
      "* ** ** *\n",
      "*********\n",
      "***   ***\n",
      "* *   * *\n",
      "***   ***\n",
      "*********\n",
      "* ** ** *\n",
      "*********\n"
     ]
    }
   ],
   "source": [
    "def draw_stars(n):\n",
    "  if n==1:\n",
    "    return ['*']\n",
    "\n",
    "  Stars=draw_stars(n//3)\n",
    "  L=[]\n",
    "\n",
    "  for star in Stars:\n",
    "    L.append(star*3)\n",
    "  for star in Stars:\n",
    "    L.append(star+' '*(n//3)+star)\n",
    "  for star in Stars:\n",
    "    L.append(star*3)\n",
    "\n",
    "  return L\n",
    "\n",
    "N=9\n",
    "print('\\n'.join(draw_stars(N)))"
   ]
  },
  {
   "cell_type": "markdown",
   "metadata": {},
   "source": [
    "1. 재귀함수는 큰 범위에서 작은 범위로 줄어든다.\n",
    "2. 마지막이 어떤 값이 나올 수 있는지 파악하자.\n",
    "3. 반복되는 패턴을 파악하자.\n",
    "4. 작은 패턴에서 코드가 작동하게 먼저 만든다.\n",
    "\n",
    "- a. 먼저 위의 코드는 3*3크기의 정사각형에 n//3을 통해 빈 공간을 만들었다.\n",
    "- b. 그런 후 Stars라는 부분이 하나의 패턴을 가지고 있는다.\n",
    "- c. 그래서 star는 \\*하나에서 시작해서 [\"\\*\\*\\*\", \"\\* \\*\", \"\\*\\*\\*\"]의 패턴을 가진다.\n",
    "- d. 이 패턴이 반복되어 큰 모양의 정사각형이 그려진다."
   ]
  },
  {
   "cell_type": "markdown",
   "metadata": {},
   "source": [
    "새로운 개념\n",
    "1. join함수 사용\n",
    "    - 리스트의 요소를 결합하는 함수이다\n",
    "    - ' '안에 결합하고 싶은 구분자를 작성하면 구분자를 기준으로 작성이 된다. \n",
    " ```\n",
    "words = ['Hello', 'world']\n",
    "sentence = ' '.join(words)\n",
    "print(sentence) \n",
    "```"
   ]
  }
 ],
 "metadata": {
  "kernelspec": {
   "display_name": "Python 3",
   "language": "python",
   "name": "python3"
  },
  "language_info": {
   "codemirror_mode": {
    "name": "ipython",
    "version": 3
   },
   "file_extension": ".py",
   "mimetype": "text/x-python",
   "name": "python",
   "nbconvert_exporter": "python",
   "pygments_lexer": "ipython3",
   "version": "3.11.5"
  }
 },
 "nbformat": 4,
 "nbformat_minor": 2
}
