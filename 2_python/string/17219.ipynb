{
 "cells": [
  {
   "cell_type": "code",
   "execution_count": 1,
   "metadata": {},
   "outputs": [],
   "source": [
    "test_input = \"\"\"\n",
    "16 4\n",
    "noj.am IU\n",
    "acmicpc.net UAENA\n",
    "startlink.io THEKINGOD\n",
    "google.com ZEZE\n",
    "nate.com VOICEMAIL\n",
    "naver.com REDQUEEN\n",
    "daum.net MODERNTIMES\n",
    "utube.com BLACKOUT\n",
    "zum.com LASTFANTASY\n",
    "dreamwiz.com RAINDROP\n",
    "hanyang.ac.kr SOMEDAY\n",
    "dhlottery.co.kr BOO\n",
    "duksoo.hs.kr HAVANA\n",
    "hanyang-u.ms.kr OBLIVIATE\n",
    "yd.es.kr LOVEATTACK\n",
    "mcc.hanyang.ac.kr ADREAMER\n",
    "startlink.io\n",
    "acmicpc.net\n",
    "noj.am\n",
    "mcc.hanyang.ac.kr\n",
    "\"\"\"\n",
    "\n",
    "def input():\n",
    "    global line_idx\n",
    "    if 'test_data' not in globals() or 'line_idx' not in globals() or line_idx >= len(globals()['test_data']):\n",
    "        globals()['test_data'] = test_input.strip().split('\\n')\n",
    "        globals()['line_idx'] = 0\n",
    "    line = globals()['test_data'][globals()['line_idx']]\n",
    "    globals()['line_idx'] += 1\n",
    "    return line"
   ]
  },
  {
   "cell_type": "code",
   "execution_count": 3,
   "metadata": {},
   "outputs": [
    {
     "name": "stdout",
     "output_type": "stream",
     "text": [
      "THEKINGOD\n",
      "UAENA\n",
      "IU\n",
      "ADREAMER\n"
     ]
    }
   ],
   "source": [
    "import sys\n",
    "\n",
    "input = sys.stdin.readline\n",
    "\n",
    "N, M = map(int, input().strip().split())\n",
    "passwords = dict()\n",
    "\n",
    "for _ in range(N):\n",
    "    site, password = input().strip().split()\n",
    "    passwords[site] = password\n",
    "\n",
    "for _ in range(M):\n",
    "    site = input().strip()\n",
    "\n",
    "    print(passwords[site])"
   ]
  }
 ],
 "metadata": {
  "kernelspec": {
   "display_name": "Python 3",
   "language": "python",
   "name": "python3"
  },
  "language_info": {
   "codemirror_mode": {
    "name": "ipython",
    "version": 3
   },
   "file_extension": ".py",
   "mimetype": "text/x-python",
   "name": "python",
   "nbconvert_exporter": "python",
   "pygments_lexer": "ipython3",
   "version": "3.9.6"
  }
 },
 "nbformat": 4,
 "nbformat_minor": 2
}
