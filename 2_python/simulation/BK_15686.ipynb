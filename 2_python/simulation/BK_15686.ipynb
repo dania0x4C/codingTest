{
 "cells": [
  {
   "cell_type": "markdown",
   "metadata": {},
   "source": [
    "https://www.acmicpc.net/problem/15686"
   ]
  },
  {
   "cell_type": "code",
   "execution_count": 40,
   "metadata": {},
   "outputs": [],
   "source": [
    "test_data = [\n",
    "    \"5 3\",\n",
    "    \"0 0 1 0 0\",\n",
    "    \"0 0 2 0 1\",\n",
    "    \"0 1 2 0 0\",\n",
    "    \"0 0 1 0 0\",\n",
    "    \"0 0 0 0 2\",\n",
    "]\n",
    "\n",
    "line_idx = 0\n",
    "\n",
    "def input():\n",
    "    global line_idx\n",
    "    line = test_data[line_idx]\n",
    "    line_idx += 1\n",
    "    return line + '\\n'"
   ]
  },
  {
   "cell_type": "code",
   "execution_count": 41,
   "metadata": {},
   "outputs": [
    {
     "name": "stdout",
     "output_type": "stream",
     "text": [
      "1\n"
     ]
    }
   ],
   "source": [
    "import sys\n",
    "# input = sys.stdin.readline\n",
    "\n",
    "N, M = map(int, input().strip().split())\n",
    "\n",
    "city = [list(map(int, input().strip().split())) for _ in range(N)]\n",
    "\n",
    "chickenStreets = []\n",
    "def distance(firstSpot, secondSpot):\n",
    "    x1, y1 = firstSpot\n",
    "    x2, y2 = secondSpot\n",
    "\n",
    "    distance = abs(x2 - x1) + abs(y2 - y1)\n",
    "\n",
    "    return distance\n",
    "\n",
    "# 특정 치킨 집과 다른 집들의 거리 -\n",
    "def selectChickenStreet(cl, city):\n",
    "    minimum = 1000\n",
    "    result = ()\n",
    "    for i in range(len(city)):\n",
    "        for j in range(len(city[0])):\n",
    "            if city[i][j] == 1:\n",
    "                dist = distance(cl, (i, j))\n",
    "                if minimum > dist:\n",
    "                    minimum = dist\n",
    "                    result = i, j\n",
    "    return result, minimum\n",
    "#chickenStreets = [chickenStreet[치킨집 위치, 치킨거리 distance]]\n",
    "\n",
    "def selectMChickenStreets(chickenStreets, M):\n",
    "    max = 0\n",
    "    chickenHouse = None\n",
    "    while len(chickenStreets) > M:\n",
    "        for chickenStreet in chickenStreets:\n",
    "            if max < chickenStreet[1]:\n",
    "                max = chickenStreet[1]\n",
    "                chickenHouse = chickenStreet[0]\n",
    "        chickenStreets.remove(chickenHouse)# 확인\n",
    "\n",
    "def sumChickenStreet(chickenStreets):\n",
    "    result = 0\n",
    "    for chickenStreet in chickenStreets:\n",
    "        result += chickenStreet[1]\n",
    "\n",
    "        return result\n",
    "\n",
    "for i in range(N): \n",
    "    for j in range(N):\n",
    "        if city[i][j] == 2:\n",
    "            cl = (i, j)\n",
    "            chickenStreet = selectChickenStreet(cl, city)\n",
    "            chickenStreets.append(chickenStreet)\n",
    "selectMChickenStreets(chickenStreets, M)\n",
    "result = sumChickenStreet(chickenStreets)\n",
    "\n",
    "print(result)\n",
    "\n"
   ]
  },
  {
   "cell_type": "markdown",
   "metadata": {},
   "source": []
  }
 ],
 "metadata": {
  "kernelspec": {
   "display_name": "Python (jupyter)",
   "language": "python",
   "name": "jupyter"
  },
  "language_info": {
   "codemirror_mode": {
    "name": "ipython",
    "version": 3
   },
   "file_extension": ".py",
   "mimetype": "text/x-python",
   "name": "python",
   "nbconvert_exporter": "python",
   "pygments_lexer": "ipython3",
   "version": "3.13.2"
  }
 },
 "nbformat": 4,
 "nbformat_minor": 2
}
