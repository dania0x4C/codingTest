{
 "cells": [
  {
   "cell_type": "code",
   "execution_count": 1,
   "metadata": {},
   "outputs": [],
   "source": [
    "import sys\n",
    "from collections import deque\n",
    "\n",
    "test_data = [\n",
    "    \"10101111\",\n",
    "    \"01111101\", \n",
    "    \"11001110\",\n",
    "    \"00000010\",\n",
    "    \"2\",\n",
    "    \"3 -1\",\n",
    "    \"1 1\"\n",
    "]\n",
    "\n",
    "line_idx = 0\n",
    "\n",
    "def input():\n",
    "    global line_idx\n",
    "    line = test_data[line_idx]\n",
    "    line_idx += 1\n",
    "    return line + '\\n'\n",
    "\n"
   ]
  },
  {
   "cell_type": "code",
   "execution_count": 2,
   "metadata": {},
   "outputs": [
    {
     "name": "stdout",
     "output_type": "stream",
     "text": [
      "7\n"
     ]
    }
   ],
   "source": [
    "\n",
    "#input = sys.stdin.readline\n",
    "\n",
    "cogWheels = [deque(input().strip()) for _ in range(4)]\n",
    "\n",
    "K = int(input())\n",
    "\n",
    "commands = [tuple(map(int, input().strip().split())) for _ in range(K)]\n",
    "\n",
    "def turn(cogWheel):\n",
    "    pop = cogWheel.pop()\n",
    "    cogWheel.appendleft(pop)\n",
    "\n",
    "def turnR(cogWheel):\n",
    "    pop = cogWheel.popleft()\n",
    "    cogWheel.append(pop)\n",
    "\n",
    "def checkTurn(turned, cogWheels, command):\n",
    "        turned[command[0]-1] = True\n",
    "        if command[0]-1 < 3 and turned[command[0]-1+1] == False and cogWheels[command[0]-1][2] != cogWheels[command[0]-1+1][6]:\n",
    "            checkTurn(turned, cogWheels, (command[0]+1, -command[1]))\n",
    "\n",
    "        if command[0]-1 > 0 and turned[command[0]-1-1] == False and cogWheels[command[0]-1][6] != cogWheels[command[0]-1-1][2]:\n",
    "            checkTurn(turned, cogWheels, (command[0]-1, -command[1]))\n",
    "\n",
    "        if command[1] == 1:\n",
    "            turn(cogWheels[command[0]-1])\n",
    "        else:\n",
    "            turnR(cogWheels[command[0]-1])\n",
    "\n",
    "def sum12Dir(cogWheels):\n",
    "    result = 0\n",
    "\n",
    "    for i in range(0, 4):\n",
    "        if cogWheels[i][0] == '1':\n",
    "            result += 2 ** i\n",
    "\n",
    "    print(result)\n",
    "\n",
    "\n",
    "for command in commands: \n",
    "    turned = [False] * 4\n",
    "    checkTurn(turned, cogWheels, command)\n",
    "sum12Dir(cogWheels)"
   ]
  },
  {
   "cell_type": "markdown",
   "metadata": {},
   "source": [
    "# 문제 풀이\n",
    "1. 문자, 숫자 들어간 입력 값 형태 다시 파악해보기\n",
    "2. 함수를 모듈로 좀 더 분리 가능한지 리팩토링\n",
    "3. 변수로 특정 값을 작성 가능한지 리팩토링\n",
    "4. 기어가 4개가 아닌 것을 가정 했을때 돌아가게 리팩토링"
   ]
  }
 ],
 "metadata": {
  "kernelspec": {
   "display_name": "Python 3",
   "language": "python",
   "name": "python3"
  },
  "language_info": {
   "codemirror_mode": {
    "name": "ipython",
    "version": 3
   },
   "file_extension": ".py",
   "mimetype": "text/x-python",
   "name": "python",
   "nbconvert_exporter": "python",
   "pygments_lexer": "ipython3",
   "version": "3.9.6"
  }
 },
 "nbformat": 4,
 "nbformat_minor": 2
}
