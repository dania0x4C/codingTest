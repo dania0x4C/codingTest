{
 "cells": [
  {
   "cell_type": "code",
   "execution_count": 2,
   "metadata": {},
   "outputs": [],
   "source": [
    "test_input = \"\"\"\n",
    "7\n",
    "4 50\n",
    "2 160\n",
    "3 30\n",
    "1 60\n",
    "3 20\n",
    "1 100\n",
    "\"\"\"\n",
    "\n",
    "def input():\n",
    "    global line_idx\n",
    "    if 'test_data' not in globals() or 'line_idx' not in globals() or line_idx >= len(globals()['test_data']):\n",
    "        globals()['test_data'] = test_input.strip().split('\\n')\n",
    "        globals()['line_idx'] = 0\n",
    "    line = globals()['test_data'][globals()['line_idx']]\n",
    "    globals()['line_idx'] += 1\n",
    "    return line"
   ]
  },
  {
   "cell_type": "code",
   "execution_count": null,
   "metadata": {},
   "outputs": [],
   "source": [
    "import sys # 나중에\n",
    "\n",
    "# input = sys.stdin.readline\n",
    "\n",
    "K = input().strip()# 1m^2에서 자라는 참외 수\n",
    "#farm = [list(map(int, input().strip().split())) for i in range(6)]\n",
    "farm = dict([1], [2], [3], [4])\n",
    "for i in range(6):\n",
    "    direction, length = map(int, input().strip().split())\n",
    "    farm[direction]\n",
    "\n",
    "if e == 2 and s == 2:# 왼쪽 아래\n",
    "\n",
    "if w == 2 and s == 2:# 왼쪽 위에\n",
    "\n",
    "if n == 2 and w == 2:# 오른쪽 위에\n",
    "\n",
    "if n == 2 and e == 2:# 오른쪽 아래"
   ]
  },
  {
   "cell_type": "code",
   "execution_count": null,
   "metadata": {},
   "outputs": [],
   "source": []
  }
 ],
 "metadata": {
  "kernelspec": {
   "display_name": "Python 3",
   "language": "python",
   "name": "python3"
  },
  "language_info": {
   "codemirror_mode": {
    "name": "ipython",
    "version": 3
   },
   "file_extension": ".py",
   "mimetype": "text/x-python",
   "name": "python",
   "nbconvert_exporter": "python",
   "pygments_lexer": "ipython3",
   "version": "3.9.6"
  }
 },
 "nbformat": 4,
 "nbformat_minor": 2
}
