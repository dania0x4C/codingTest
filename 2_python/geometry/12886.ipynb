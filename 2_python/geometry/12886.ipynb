{
 "cells": [
  {
   "cell_type": "code",
   "execution_count": 1,
   "metadata": {},
   "outputs": [],
   "source": [
    "test_input = \"\"\"\n",
    "10 15 35\n",
    "\"\"\"\n",
    "\n",
    "def input():\n",
    "    global line_idx\n",
    "    if 'test_data' not in globals() or 'line_idx' not in globals() or line_idx >= len(globals()['test_data']):\n",
    "        globals()['test_data'] = test_input.strip().split('\\n')\n",
    "        globals()['line_idx'] = 0\n",
    "    line = globals()['test_data'][globals()['line_idx']]\n",
    "    globals()['line_idx'] += 1\n",
    "    return line"
   ]
  },
  {
   "cell_type": "code",
   "execution_count": 2,
   "metadata": {},
   "outputs": [],
   "source": [
    "import sys\n",
    "\n",
    "# input = sys.stdin.readline\n",
    "\n",
    "A, B, C = map(int, input().strip().split())\n",
    "\n",
    "def stoneCountCheck(stone1, stone2):\n",
    "    if stone1 > stone2:\n",
    "        stone1 += stone1\n",
    "        stone2 -= stone1\n",
    "    elif stone1 < stone2:\n",
    "        stone1 -= stone1\n",
    "        stone2 += stone1\n",
    "    \n",
    "    return stone1, stone2\n",
    "\n",
    "def dfs():\n",
    "    return \n",
    "\n",
    "while True:\n",
    "    if A == B == C:\n",
    "        print(1)\n",
    "        break\n",
    "    else:\n",
    "        stoneCountCheck()\n"
   ]
  }
 ],
 "metadata": {
  "kernelspec": {
   "display_name": "Python 3",
   "language": "python",
   "name": "python3"
  },
  "language_info": {
   "codemirror_mode": {
    "name": "ipython",
    "version": 3
   },
   "file_extension": ".py",
   "mimetype": "text/x-python",
   "name": "python",
   "nbconvert_exporter": "python",
   "pygments_lexer": "ipython3",
   "version": "3.9.6"
  }
 },
 "nbformat": 4,
 "nbformat_minor": 2
}
