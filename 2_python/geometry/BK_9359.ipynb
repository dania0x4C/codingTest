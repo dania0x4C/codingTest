{
 "cells": [
  {
   "cell_type": "code",
   "execution_count": 1,
   "metadata": {},
   "outputs": [],
   "source": [
    "test_input = \"\"\"\n",
    "2\n",
    "1 10 5\n",
    "3 15 5\n",
    "\"\"\"\n",
    "\n",
    "def input():\n",
    "    global line_idx\n",
    "    if 'test_data' not in globals() or 'line_idx' not in globals() or line_idx >= len(globals()['test_data']):\n",
    "        globals()['test_data'] = test_input.strip().split('\\n')\n",
    "        globals()['line_idx'] = 0\n",
    "    line = globals()['test_data'][globals()['line_idx']]\n",
    "    globals()['line_idx'] += 1\n",
    "    return line"
   ]
  },
  {
   "cell_type": "code",
   "execution_count": 2,
   "metadata": {},
   "outputs": [
    {
     "name": "stdout",
     "output_type": "stream",
     "text": [
      "Case #1: 8\n",
      "Case #2: 10\n"
     ]
    }
   ],
   "source": [
    "import sys\n",
    "\n",
    "# input = sys.stdin.readline\n",
    "def checkCoprime(A, B, N):\n",
    "    count = 0\n",
    "    for n in range(A, B+1):# [1 ~ 10]\n",
    "        if n == 1:\n",
    "            count += 1\n",
    "        elif n == N:\n",
    "            continue\n",
    "        elif n < N:\n",
    "            if N % n != 0:\n",
    "                count += 1\n",
    "        elif n > N:\n",
    "            if n % N != 0:\n",
    "                count += 1\n",
    "    return count\n",
    "\n",
    "T = int(input())\n",
    "\n",
    "for i in range(T):\n",
    "    A, B, N = map(int, input().strip().split())\n",
    "    count = checkCoprime(A, B, N)\n",
    "    print('Case #' + str(i+1) + ': ' + str(count))\n"
   ]
  }
 ],
 "metadata": {
  "kernelspec": {
   "display_name": "Python 3",
   "language": "python",
   "name": "python3"
  },
  "language_info": {
   "codemirror_mode": {
    "name": "ipython",
    "version": 3
   },
   "file_extension": ".py",
   "mimetype": "text/x-python",
   "name": "python",
   "nbconvert_exporter": "python",
   "pygments_lexer": "ipython3",
   "version": "3.9.6"
  }
 },
 "nbformat": 4,
 "nbformat_minor": 2
}
