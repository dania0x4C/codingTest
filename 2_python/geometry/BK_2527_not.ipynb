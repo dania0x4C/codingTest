{
 "cells": [
  {
   "cell_type": "code",
   "execution_count": null,
   "metadata": {},
   "outputs": [],
   "source": [
    "test_input = \"\"\"\n",
    "3 10 50 60 100 100 200 300\n",
    "45 50 600 600 400 450 500 543\n",
    "11 120 120 230 50 40 60 440\n",
    "35 56 67 90 67 80 500 600\n",
    "\"\"\"\n",
    "\n",
    "def input():\n",
    "    global line_idx\n",
    "    if 'test_data' not in globals() or 'line_idx' not in globals() or line_idx >= len(globals()['test_data']):\n",
    "        globals()['test_data'] = test_input.strip().split('\\n')\n",
    "        globals()['line_idx'] = 0\n",
    "    line = globals()['test_data'][globals()['line_idx']]\n",
    "    globals()['line_idx'] += 1\n",
    "    return line"
   ]
  },
  {
   "cell_type": "code",
   "execution_count": null,
   "metadata": {},
   "outputs": [],
   "source": [
    "import sys\n",
    "\n",
    "# input = sys.stdin.readline\n",
    "\n",
    "\n",
    "for _ in range(4):\n",
    "    x1, y1, p1, q1, x2, y2, p2, q2 = map(int, input().strip().split())\n",
    "\n",
    "    if rectangle == True: 직사각형: 꼭짓점이 내부에 하나라도 있다 or 4개 다 없다 인데 라인에서 4개 겹치면 \n",
    "        print('a')\n",
    "    elif 선분: 라인 4개에 직선에 꼭짓점이 올라갔나\n",
    "        print('b')\n",
    "    elif 점: 점은 똑같은 위치에 점이 있나\n",
    "        print('c')\n",
    "    else: 꼭짓점이 겹치는게 없다\n",
    "        print('d')"
   ]
  }
 ],
 "metadata": {
  "language_info": {
   "name": "python"
  }
 },
 "nbformat": 4,
 "nbformat_minor": 2
}
