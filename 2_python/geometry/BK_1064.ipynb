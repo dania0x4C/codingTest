{
 "cells": [
  {
   "cell_type": "code",
   "execution_count": 2,
   "metadata": {},
   "outputs": [],
   "source": [
    "test_input = \"\"\"\n",
    "0 0 0 1 1 0\n",
    "\"\"\"\n",
    "\n",
    "def input():\n",
    "    global line_idx\n",
    "    if 'test_data' not in globals() or 'line_idx' not in globals() or line_idx >= len(globals()['test_data']):\n",
    "        globals()['test_data'] = test_input.strip().split('\\n')\n",
    "        globals()['line_idx'] = 0\n",
    "    line = globals()['test_data'][globals()['line_idx']]\n",
    "    globals()['line_idx'] += 1\n",
    "    return line"
   ]
  },
  {
   "cell_type": "code",
   "execution_count": 3,
   "metadata": {},
   "outputs": [
    {
     "name": "stdout",
     "output_type": "stream",
     "text": [
      "0.8284271247461903\n"
     ]
    }
   ],
   "source": [
    "import sys\n",
    "import math\n",
    "input = sys.stdin.readline\n",
    "\n",
    "x1, y1, x2, y2, x3, y3 = map(int, input().strip().split())\n",
    "if (x1 - x2) * (y1 - y3) == (x1 - x3) * (y1 - y2):\n",
    "    print(-1)\n",
    "else:\n",
    "    line1 = math.sqrt((x1 - x2) ** 2 + (y1 - y2) ** 2)\n",
    "    line2 = math.sqrt((x2 - x3) ** 2 + (y2 - y3) ** 2)\n",
    "    line3 = math.sqrt((x3 - x1) ** 2 + (y3 - y1) ** 2)\n",
    "    total = 2 * (line1 + line2 + line3)\n",
    "    maxLine = max(line1, line2, line3)\n",
    "    minLine = min(line1, line2, line3)\n",
    "    print(2*maxLine - 2*minLine)"
   ]
  },
  {
   "cell_type": "markdown",
   "metadata": {},
   "source": [
    "1. 동일한 위치에 점 존재 or x가 모두 한 점 or y가 모두 한 점 or 기울기 3개가 같으면 안 됨\n",
    "    true\n",
    "        return -1\n",
    "    false\n",
    "2. 나머지 두개씩 같은 기울기가 되는 좌표를 찾으면 됨 3번 반복 -> 근데 둘레를 구하는거고 어처피 길이 같으니까 \n",
    "    길이가 가장 짤은 길이 뺀 나머지 *2 하고 더하면 둘레\n",
    "\n",
    "    \n"
   ]
  }
 ],
 "metadata": {
  "kernelspec": {
   "display_name": "Python 3",
   "language": "python",
   "name": "python3"
  },
  "language_info": {
   "codemirror_mode": {
    "name": "ipython",
    "version": 3
   },
   "file_extension": ".py",
   "mimetype": "text/x-python",
   "name": "python",
   "nbconvert_exporter": "python",
   "pygments_lexer": "ipython3",
   "version": "3.9.6"
  }
 },
 "nbformat": 4,
 "nbformat_minor": 2
}
