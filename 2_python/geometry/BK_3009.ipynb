{
 "cells": [
  {
   "cell_type": "code",
   "execution_count": 1,
   "metadata": {},
   "outputs": [],
   "source": [
    "test_input = \"\"\"\n",
    "5 5\n",
    "5 7\n",
    "7 5\n",
    "\"\"\"\n",
    "\n",
    "def input():\n",
    "    global line_idx\n",
    "    if 'test_data' not in globals() or 'line_idx' not in globals() or line_idx >= len(globals()['test_data']):\n",
    "        globals()['test_data'] = test_input.strip().split('\\n')\n",
    "        globals()['line_idx'] = 0\n",
    "    line = globals()['test_data'][globals()['line_idx']]\n",
    "    globals()['line_idx'] += 1\n",
    "    return line"
   ]
  },
  {
   "cell_type": "code",
   "execution_count": 3,
   "metadata": {},
   "outputs": [
    {
     "name": "stdout",
     "output_type": "stream",
     "text": [
      "7 7\n"
     ]
    }
   ],
   "source": [
    "import sys\n",
    "# input = sys.stdin.readline\n",
    "\n",
    "x1, y1 = input().strip().split()\n",
    "x2, y2 = input().strip().split()\n",
    "x3, y3 = input().strip().split()\n",
    "\n",
    "if x1 == x2:\n",
    "    x4 = x3\n",
    "elif x1 == x3:\n",
    "    x4 = x2\n",
    "else:\n",
    "    x4 = x1\n",
    "\n",
    "if y1 == y2:\n",
    "    y4 = y3\n",
    "elif y1 == y3:\n",
    "    y4 = y2\n",
    "else:\n",
    "    y4 = y1\n",
    "\n",
    "print(x4, y4)"
   ]
  }
 ],
 "metadata": {
  "kernelspec": {
   "display_name": "Python 3",
   "language": "python",
   "name": "python3"
  },
  "language_info": {
   "codemirror_mode": {
    "name": "ipython",
    "version": 3
   },
   "file_extension": ".py",
   "mimetype": "text/x-python",
   "name": "python",
   "nbconvert_exporter": "python",
   "pygments_lexer": "ipython3",
   "version": "3.9.6"
  }
 },
 "nbformat": 4,
 "nbformat_minor": 2
}
