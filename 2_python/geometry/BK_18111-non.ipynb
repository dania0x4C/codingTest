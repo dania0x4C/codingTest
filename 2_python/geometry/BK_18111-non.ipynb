{
 "cells": [
  {
   "cell_type": "code",
   "execution_count": 1,
   "metadata": {},
   "outputs": [],
   "source": [
    "import sys\n",
    "test_data = [\n",
    "    \"3 4 0\",\n",
    "    \"64 64 64 64\",\n",
    "    \"64 64 64 64\",\n",
    "    \"64 64 64 63\",\n",
    "]\n",
    "\n",
    "line_idx = 0\n",
    "\n",
    "def input():\n",
    "    global line_idx\n",
    "    line = test_data[line_idx]\n",
    "    line_idx += 1\n",
    "    return line + '\\n'"
   ]
  },
  {
   "cell_type": "code",
   "execution_count": null,
   "metadata": {},
   "outputs": [],
   "source": [
    "#input = sys.stdin.readline\n",
    "\n",
    "# 좌표 (i, j)의 가장 위에 있는 블록을 제거 후 인벤토리에 넣기 2초\n",
    "# 인벤터리에서 블록을 꺼내서 (i, j)의 가장 위에 있는 블록 위에 놓는다 1초\n",
    "\n",
    "N, M, B = map(int, input().strip().split())\n",
    "\n",
    "world = [list(map(int, input().strip().split())) for _ in range(N)]\n",
    "time = 0\n",
    "def dig(world, B):\n",
    "    hh = max(world)\n",
    "    for i in range(len(world)):\n",
    "        for j in range(len(world[0])):\n",
    "            if world[i][j] == hh:\n",
    "                world[i][j] == hh-1\n",
    "                B += 1\n",
    "    return B , 2\n",
    "\n",
    "def put(world, B):\n",
    "    lh = min(world)\n",
    "    for i in range(len(world)):\n",
    "        for j in range(len(world[0])):\n",
    "            if world[i][j] == lh and B > 0:\n",
    "                world[i][j] == lh+1\n",
    "                B -= 1\n",
    "    return B, 1\n",
    "    "
   ]
  }
 ],
 "metadata": {
  "kernelspec": {
   "display_name": "Python (jupyter)",
   "language": "python",
   "name": "jupyter"
  },
  "language_info": {
   "codemirror_mode": {
    "name": "ipython",
    "version": 3
   },
   "file_extension": ".py",
   "mimetype": "text/x-python",
   "name": "python",
   "nbconvert_exporter": "python",
   "pygments_lexer": "ipython3",
   "version": "3.13.2"
  }
 },
 "nbformat": 4,
 "nbformat_minor": 2
}
