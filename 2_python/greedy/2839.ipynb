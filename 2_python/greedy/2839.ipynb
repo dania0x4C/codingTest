{
 "cells": [
  {
   "cell_type": "code",
   "execution_count": 10,
   "metadata": {},
   "outputs": [],
   "source": [
    "test_input = \"\"\"\n",
    "11\n",
    "\"\"\"\n",
    "\n",
    "def input():\n",
    "    global line_idx\n",
    "    if 'test_data' not in globals() or 'line_idx' not in globals() or line_idx >= len(globals()['test_data']):\n",
    "        globals()['test_data'] = test_input.strip().split('\\n')\n",
    "        globals()['line_idx'] = 0\n",
    "    line = globals()['test_data'][globals()['line_idx']]\n",
    "    globals()['line_idx'] += 1\n",
    "    return line"
   ]
  },
  {
   "cell_type": "code",
   "execution_count": 11,
   "metadata": {},
   "outputs": [
    {
     "name": "stdout",
     "output_type": "stream",
     "text": [
      "3\n"
     ]
    }
   ],
   "source": [
    "import sys\n",
    "\n",
    "# input = sys.stdin.readline\n",
    "\n",
    "N = int(input())# 만들어야 하는 키로 수\n",
    "# 설탕은 3, 5 kg\n",
    "\n",
    "total = -1\n",
    "\n",
    "for i in range(N//5 + 1):# 5로 나눌 수 있는 횟수(몫)\n",
    "    remain = N - 5*i\n",
    "    if remain % 3 == 0:\n",
    "        total = i + remain // 3\n",
    "   \n",
    "print(total)\n",
    "     "
   ]
  }
 ],
 "metadata": {
  "kernelspec": {
   "display_name": "Python 3",
   "language": "python",
   "name": "python3"
  },
  "language_info": {
   "codemirror_mode": {
    "name": "ipython",
    "version": 3
   },
   "file_extension": ".py",
   "mimetype": "text/x-python",
   "name": "python",
   "nbconvert_exporter": "python",
   "pygments_lexer": "ipython3",
   "version": "3.9.6"
  }
 },
 "nbformat": 4,
 "nbformat_minor": 2
}
