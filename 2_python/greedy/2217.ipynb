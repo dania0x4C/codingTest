{
 "cells": [
  {
   "cell_type": "code",
   "execution_count": 4,
   "metadata": {},
   "outputs": [],
   "source": [
    "test_input = \"\"\"\\\n",
    "2\n",
    "10\n",
    "15\n",
    "\"\"\"\n",
    "\n",
    "def input():\n",
    "    global line_idx\n",
    "    if 'test_data' not in globals() or 'line_idx' not in globals() or line_idx >= len(globals()['test_data']):\n",
    "        globals()['test_data'] = test_input.strip().split('\\n')\n",
    "        globals()['line_idx'] = 0\n",
    "    line = globals()['test_data'][globals()['line_idx']]\n",
    "    globals()['line_idx'] += 1\n",
    "    return line"
   ]
  },
  {
   "cell_type": "code",
   "execution_count": 10,
   "metadata": {},
   "outputs": [
    {
     "name": "stdout",
     "output_type": "stream",
     "text": [
      "['15', '10']\n"
     ]
    }
   ],
   "source": [
    "import sys\n",
    "\n",
    "# input = sys.stdin.readline\n",
    "\n",
    "N = int(input().strip())\n",
    "roops = [input().strip() for _ in range(N)]\n",
    "sortedRoops = sorted(roops, reverse = True)\n",
    "\n",
    "# k개의 로프 -> w인 물체 -> w/k의 중량이 걸림\n",
    "# 1. 순차적으로 무거운 로프를 선택\n",
    "# 2. 선택된 로프를 합쳐서 들 수 있는 중량을 계산\n",
    "# 3. 선택된 로프가 들 수 있는 중량이 그 중량보다 크면 배열에 append 아니면 print\n",
    "\n"
   ]
  }
 ],
 "metadata": {
  "kernelspec": {
   "display_name": "Python 3",
   "language": "python",
   "name": "python3"
  },
  "language_info": {
   "codemirror_mode": {
    "name": "ipython",
    "version": 3
   },
   "file_extension": ".py",
   "mimetype": "text/x-python",
   "name": "python",
   "nbconvert_exporter": "python",
   "pygments_lexer": "ipython3",
   "version": "3.9.6"
  }
 },
 "nbformat": 4,
 "nbformat_minor": 2
}
