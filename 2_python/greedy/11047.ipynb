{
 "cells": [
  {
   "cell_type": "code",
   "execution_count": 7,
   "metadata": {},
   "outputs": [],
   "source": [
    "import sys\n",
    "\n",
    "test_data = [\n",
    "    \"10 4200\",\n",
    "    \"1\",\n",
    "    \"5\",\n",
    "    \"10\",\n",
    "    \"50\",\n",
    "    \"100\",\n",
    "    \"500\",\n",
    "    \"1000\",\n",
    "    \"5000\",\n",
    "    \"10000\",\n",
    "    \"50000\"\n",
    "]\n",
    "\n",
    "line_idx = 0\n",
    "\n",
    "def input():\n",
    "    global line_idx\n",
    "    line = test_data[line_idx]\n",
    "    line_idx += 1\n",
    "    return line + '\\n'\n"
   ]
  },
  {
   "cell_type": "code",
   "execution_count": 8,
   "metadata": {},
   "outputs": [
    {
     "name": "stdout",
     "output_type": "stream",
     "text": [
      "6\n"
     ]
    }
   ],
   "source": [
    "import sys\n",
    "input = sys.stdin.readline\n",
    "N, K = map(int, input().strip().split())\n",
    "coins = []\n",
    "for _ in range(N):\n",
    "    coins.append(int(input().strip()))\n",
    "count = 0\n",
    "for i in range(len(coins)-1, -1, -1):\n",
    "    coinCount = K // coins[i]\n",
    "    K = K - coinCount * coins[i]\n",
    "    count += coinCount\n",
    "print(count)"
   ]
  },
  {
   "cell_type": "code",
   "execution_count": 39,
   "metadata": {},
   "outputs": [
    {
     "name": "stdout",
     "output_type": "stream",
     "text": [
      "1\n",
      "2\n",
      "3\n",
      "3\n",
      "2\n",
      "1\n",
      "[1, 2, 3]\n",
      "[2, 3]\n",
      "[3, 2]\n",
      "[3, 2, 1]\n"
     ]
    }
   ],
   "source": [
    "arr = [1, 2, 3]\n",
    "\n",
    "for i in range(len(arr)):\n",
    "    print(arr[i])\n",
    "\n",
    "for i in range(len(arr)-1, -1, -1):\n",
    "    print(arr[i])\n",
    "\n",
    "print(arr[0:3])\n",
    "print(arr[1:3])\n",
    "print(arr[3:0:-1])\n",
    "print(arr[::-1])"
   ]
  },
  {
   "cell_type": "markdown",
   "metadata": {},
   "source": [
    "입력 크기 N\n",
    "허용되는 시간복잡도\n",
    "N ≤ 10\n",
    "O(N!) 가능 (브루트포스 전수 조사)\n",
    "N ≤ 15~20\n",
    "O(2ⁿ) 가능 (부분집합, DFS 완전탐색 등)\n",
    "N ≤ 1,000\n",
    "O(N²) 가능 (이중 반복문)\n",
    "N ≤ 10,000\n",
    "O(N log N) 가능\n",
    "N ≤ 100,000\n",
    "O(N log N) 또는 O(N)\n",
    "N ≤ 1,000,000\n",
    "O(N) 정도만 가능\n",
    "N ≤ 10⁷ 이상\n",
    "입력 자체가 많음 → 입출력 최적화 필수\n"
   ]
  }
 ],
 "metadata": {
  "kernelspec": {
   "display_name": "Python 3",
   "language": "python",
   "name": "python3"
  },
  "language_info": {
   "codemirror_mode": {
    "name": "ipython",
    "version": 3
   },
   "file_extension": ".py",
   "mimetype": "text/x-python",
   "name": "python",
   "nbconvert_exporter": "python",
   "pygments_lexer": "ipython3",
   "version": "3.9.6"
  }
 },
 "nbformat": 4,
 "nbformat_minor": 2
}
