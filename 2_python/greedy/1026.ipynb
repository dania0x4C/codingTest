{
 "cells": [
  {
   "cell_type": "code",
   "execution_count": null,
   "metadata": {},
   "outputs": [],
   "source": [
    "import sys\n",
    "\n",
    "test_data = [\n",
    "    \"5\",\n",
    "    \"1 1 1 6 0\",\n",
    "    \"2 7 8 3 1\"\n",
    "]\n",
    "\n",
    "line_idx = 0\n",
    "\n",
    "def input():\n",
    "    global line_idx\n",
    "    line = test_data[line_idx]\n",
    "    line_idx += 1\n",
    "    return line + '\\n'"
   ]
  },
  {
   "cell_type": "code",
   "execution_count": null,
   "metadata": {},
   "outputs": [],
   "source": [
    "import sys\n",
    "\n",
    "input = sys.stdin.readline\n",
    "\n",
    "N = input().strip()\n",
    "A = list(map(int, input().strip().split()))\n",
    "B = list(map(int, input().strip().split()))\n",
    "sortedA = sorted(A)\n",
    "result = 0\n",
    "\n",
    "for a in sortedA:\n",
    "    result += a * max(B)\n",
    "    B.remove(max(B))\n",
    "\n",
    "print(result)"
   ]
  }
 ],
 "metadata": {
  "language_info": {
   "name": "python"
  }
 },
 "nbformat": 4,
 "nbformat_minor": 2
}
