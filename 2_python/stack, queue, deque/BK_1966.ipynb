{
 "cells": [
  {
   "cell_type": "markdown",
   "metadata": {},
   "source": [
    "현재 Queue의 가장 앞에 있는 문서의 ‘중요도’를 확인한다.\n",
    "나머지 문서들 중 현재 문서보다 중요도가 높은 문서가 하나라도 있다면, 이 문서를 인쇄하지 않고 Queue의 가장 뒤에 재배치 한다. 그렇지 않다면 바로 인쇄를 한다.\n",
    "예를 들어 Queue에 4개의 문서(A B C D)가 있고, 중요도가 2 1 4 3 라면 C를 인쇄하고, 다음으로 D를 인쇄하고 A, B를 인쇄하게 된다.\n",
    "\n",
    "여러분이 할 일은, 현재 Queue에 있는 문서의 수와 중요도가 주어졌을 때, 어떤 한 문서가 몇 번째로 인쇄되는지 알아내는 것이다. 예를 들어 위의 예에서 C문서는 1번째로, A문서는 3번째로 인쇄되게 된다."
   ]
  },
  {
   "cell_type": "code",
   "execution_count": null,
   "metadata": {},
   "outputs": [],
   "source": [
    "import sys\n",
    "from collections import deque\n",
    "\n",
    "test = int(sys.stdin.readline().strip())\n",
    "\n",
    "for _ in range(test):\n",
    "    N, M = map(int, sys.stdin.readline().strip().split())\n",
    "    priorities = list(map(int, sys.stdin.readline().strip().split()))\n",
    "\n",
    "    # (문서 번호, 우선순위) 형태로 큐에 저장\n",
    "    queue = deque((i, p) for i, p in enumerate(priorities))\n",
    "    count = 0\n",
    "\n",
    "    while queue:\n",
    "        idx, p = queue.popleft()\n",
    "\n",
    "        # 현재 문서보다 우선순위가 높은 문서가 남아있는지 직접 확인\n",
    "        has_higher_priority = False\n",
    "        for other in queue:\n",
    "            if other[1] > p:\n",
    "                has_higher_priority = True\n",
    "                break\n",
    "\n",
    "        if has_higher_priority:\n",
    "            queue.append((idx, p))  # 뒤로 보냄\n",
    "        else:\n",
    "            count += 1\n",
    "            if idx == M:\n",
    "                print(count)\n",
    "                break"
   ]
  },
  {
   "cell_type": "markdown",
   "metadata": {},
   "source": [
    "- enumerate 값으로 인덱스 값을 동시에 추출"
   ]
  },
  {
   "cell_type": "code",
   "execution_count": null,
   "metadata": {},
   "outputs": [],
   "source": [
    "import sys\n",
    "from collections import deque, Counter\n",
    "\n",
    "test = int(sys.stdin.readline().strip())\n",
    "\n",
    "for _ in range(test):\n",
    "    N, M = map(int, sys.stdin.readline().strip().split())\n",
    "    priorities = list(map(int, sys.stdin.readline().strip().split()))\n",
    "\n",
    "    queue = deque((i, p) for i, p in enumerate(priorities))\n",
    "    counter = Counter(priorities)  # 우선순위별 문서 개수\n",
    "    count = 0\n",
    "\n",
    "    while queue:\n",
    "        idx, p = queue.popleft()\n",
    "        # 현재 가장 높은 우선순위를 구함\n",
    "        if p < max(counter):\n",
    "            queue.append((idx, p))\n",
    "        else:\n",
    "            count += 1\n",
    "            counter[p] -= 1\n",
    "            if counter[p] == 0:\n",
    "                del counter[p]\n",
    "            if idx == M:\n",
    "                print(count)\n",
    "                break"
   ]
  }
 ],
 "metadata": {
  "language_info": {
   "name": "python"
  }
 },
 "nbformat": 4,
 "nbformat_minor": 2
}
