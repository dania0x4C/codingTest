{
 "cells": [
  {
   "cell_type": "markdown",
   "metadata": {},
   "source": [
    "# greedy\n",
    "- 매 순간 가장 최적인 선택을 함 → 전체 최적이 되는 경우만 유효\n",
    "- 정렬 후 조건 기반 선택이 핵심 (sort + for)\n",
    "- 대표 유형: 동전 최소, 회의실 배정, 배낭 (단순), 최소 회의 수"
   ]
  },
  {
   "cell_type": "markdown",
   "metadata": {},
   "source": [
    "## 정렬 + 가장 최적인 선택"
   ]
  },
  {
   "cell_type": "code",
   "execution_count": 2,
   "metadata": {},
   "outputs": [
    {
     "ename": "NameError",
     "evalue": "name 'data' is not defined",
     "output_type": "error",
     "traceback": [
      "\u001b[0;31m---------------------------------------------------------------------------\u001b[0m",
      "\u001b[0;31mNameError\u001b[0m                                 Traceback (most recent call last)",
      "Cell \u001b[0;32mIn[2], line 1\u001b[0m\n\u001b[0;32m----> 1\u001b[0m items \u001b[38;5;241m=\u001b[39m \u001b[38;5;28msorted\u001b[39m(\u001b[43mdata\u001b[49m, key\u001b[38;5;241m=\u001b[39m\u001b[38;5;28;01mlambda\u001b[39;00m x: (x[\u001b[38;5;241m1\u001b[39m], x[\u001b[38;5;241m0\u001b[39m]))  \u001b[38;5;66;03m# 주로 종료시간, 비용, 비율 순 정렬\u001b[39;00m\n\u001b[1;32m      2\u001b[0m count \u001b[38;5;241m=\u001b[39m \u001b[38;5;241m0\u001b[39m\n\u001b[1;32m      3\u001b[0m last \u001b[38;5;241m=\u001b[39m \u001b[38;5;241m-\u001b[39m\u001b[38;5;241m1\u001b[39m\n",
      "\u001b[0;31mNameError\u001b[0m: name 'data' is not defined"
     ]
    }
   ],
   "source": [
    "items = sorted(data, key=lambda x: (x[1], x[0]))  # 주로 종료시간, 비용, 비율 순 정렬\n",
    "count = 0\n",
    "last = -1\n",
    "\n",
    "for start, end in items:\n",
    "    if start >= last:         # 겹치지 않으면 선택\n",
    "        count += 1\n",
    "        last = end"
   ]
  },
  {
   "cell_type": "markdown",
   "metadata": {},
   "source": [
    "## 큰 값부터 채우기"
   ]
  },
  {
   "cell_type": "code",
   "execution_count": 3,
   "metadata": {},
   "outputs": [],
   "source": [
    "coins.sort(reverse=True)\n",
    "count = 0\n",
    "for coin in coins:\n",
    "    if target >= coin:\n",
    "        count += target // coin\n",
    "        target %= coin"
   ]
  },
  {
   "cell_type": "markdown",
   "metadata": {},
   "source": [
    "## 우선순위 큐 (heapq) 기반 선택"
   ]
  },
  {
   "cell_type": "code",
   "execution_count": 4,
   "metadata": {},
   "outputs": [
    {
     "ename": "NameError",
     "evalue": "name 'tasks' is not defined",
     "output_type": "error",
     "traceback": [
      "\u001b[0;31m---------------------------------------------------------------------------\u001b[0m",
      "\u001b[0;31mNameError\u001b[0m                                 Traceback (most recent call last)",
      "Cell \u001b[0;32mIn[4], line 4\u001b[0m\n\u001b[1;32m      1\u001b[0m \u001b[38;5;28;01mimport\u001b[39;00m\u001b[38;5;250m \u001b[39m\u001b[38;5;21;01mheapq\u001b[39;00m\n\u001b[1;32m      3\u001b[0m heap \u001b[38;5;241m=\u001b[39m []\n\u001b[0;32m----> 4\u001b[0m \u001b[38;5;28;01mfor\u001b[39;00m task \u001b[38;5;129;01min\u001b[39;00m \u001b[38;5;28msorted\u001b[39m(\u001b[43mtasks\u001b[49m, key\u001b[38;5;241m=\u001b[39m\u001b[38;5;28;01mlambda\u001b[39;00m x: x[\u001b[38;5;241m0\u001b[39m]):  \u001b[38;5;66;03m# 시작 시간 기준 정렬\u001b[39;00m\n\u001b[1;32m      5\u001b[0m     \u001b[38;5;28;01mif\u001b[39;00m heap \u001b[38;5;129;01mand\u001b[39;00m heap[\u001b[38;5;241m0\u001b[39m] \u001b[38;5;241m<\u001b[39m\u001b[38;5;241m=\u001b[39m task[\u001b[38;5;241m0\u001b[39m]:  \u001b[38;5;66;03m# 이전 작업 종료시간과 비교\u001b[39;00m\n\u001b[1;32m      6\u001b[0m         heapq\u001b[38;5;241m.\u001b[39mheappop(heap)\n",
      "\u001b[0;31mNameError\u001b[0m: name 'tasks' is not defined"
     ]
    }
   ],
   "source": [
    "import heapq\n",
    "\n",
    "heap = []\n",
    "for task in sorted(tasks, key=lambda x: x[0]):  # 시작 시간 기준 정렬\n",
    "    if heap and heap[0] <= task[0]:  # 이전 작업 종료시간과 비교\n",
    "        heapq.heappop(heap)\n",
    "    heapq.heappush(heap, task[1])  # 현재 종료시간 삽입"
   ]
  },
  {
   "cell_type": "markdown",
   "metadata": {},
   "source": [
    "## 그리디 + 문자열 / 숫자 처리"
   ]
  },
  {
   "cell_type": "code",
   "execution_count": 7,
   "metadata": {},
   "outputs": [
    {
     "ename": "NameError",
     "evalue": "name 'number' is not defined",
     "output_type": "error",
     "traceback": [
      "\u001b[0;31m---------------------------------------------------------------------------\u001b[0m",
      "\u001b[0;31mNameError\u001b[0m                                 Traceback (most recent call last)",
      "Cell \u001b[0;32mIn[7], line 3\u001b[0m\n\u001b[1;32m      1\u001b[0m \u001b[38;5;66;03m# 예: 가장 큰 수 만들기 (K개 제거)\u001b[39;00m\n\u001b[1;32m      2\u001b[0m stack \u001b[38;5;241m=\u001b[39m []\n\u001b[0;32m----> 3\u001b[0m \u001b[38;5;28;01mfor\u001b[39;00m digit \u001b[38;5;129;01min\u001b[39;00m \u001b[43mnumber\u001b[49m:\n\u001b[1;32m      4\u001b[0m     \u001b[38;5;28;01mwhile\u001b[39;00m stack \u001b[38;5;129;01mand\u001b[39;00m k \u001b[38;5;241m>\u001b[39m \u001b[38;5;241m0\u001b[39m \u001b[38;5;129;01mand\u001b[39;00m stack[\u001b[38;5;241m-\u001b[39m\u001b[38;5;241m1\u001b[39m] \u001b[38;5;241m<\u001b[39m digit:\n\u001b[1;32m      5\u001b[0m         stack\u001b[38;5;241m.\u001b[39mpop()\n",
      "\u001b[0;31mNameError\u001b[0m: name 'number' is not defined"
     ]
    }
   ],
   "source": [
    "# 예: 가장 큰 수 만들기 (K개 제거)\n",
    "stack = []\n",
    "for digit in number:\n",
    "    while stack and k > 0 and stack[-1] < digit:\n",
    "        stack.pop()\n",
    "        k -= 1\n",
    "    stack.append(digit)\n",
    "result = ''.join(stack[:len(number)-k])"
   ]
  },
  {
   "cell_type": "markdown",
   "metadata": {},
   "source": [
    "## 정렬 + 누적 처리"
   ]
  },
  {
   "cell_type": "code",
   "execution_count": 6,
   "metadata": {},
   "outputs": [
    {
     "ename": "NameError",
     "evalue": "name 'arr' is not defined",
     "output_type": "error",
     "traceback": [
      "\u001b[0;31m---------------------------------------------------------------------------\u001b[0m",
      "\u001b[0;31mNameError\u001b[0m                                 Traceback (most recent call last)",
      "Cell \u001b[0;32mIn[6], line 1\u001b[0m\n\u001b[0;32m----> 1\u001b[0m \u001b[43marr\u001b[49m\u001b[38;5;241m.\u001b[39msort()\n\u001b[1;32m      2\u001b[0m total, acc \u001b[38;5;241m=\u001b[39m \u001b[38;5;241m0\u001b[39m, \u001b[38;5;241m0\u001b[39m\n\u001b[1;32m      3\u001b[0m \u001b[38;5;28;01mfor\u001b[39;00m time \u001b[38;5;129;01min\u001b[39;00m arr:\n",
      "\u001b[0;31mNameError\u001b[0m: name 'arr' is not defined"
     ]
    }
   ],
   "source": [
    "arr.sort()\n",
    "total, acc = 0, 0\n",
    "for time in arr:\n",
    "    acc += time\n",
    "    total += acc"
   ]
  },
  {
   "cell_type": "markdown",
   "metadata": {},
   "source": [
    "## 그리디 + 조건 조합 (커버, 간격, 최대화)"
   ]
  },
  {
   "cell_type": "code",
   "execution_count": 5,
   "metadata": {},
   "outputs": [
    {
     "ename": "NameError",
     "evalue": "name 'intervals' is not defined",
     "output_type": "error",
     "traceback": [
      "\u001b[0;31m---------------------------------------------------------------------------\u001b[0m",
      "\u001b[0;31mNameError\u001b[0m                                 Traceback (most recent call last)",
      "Cell \u001b[0;32mIn[5], line 1\u001b[0m\n\u001b[0;32m----> 1\u001b[0m \u001b[43mintervals\u001b[49m\u001b[38;5;241m.\u001b[39msort()\n\u001b[1;32m      2\u001b[0m end, count, idx \u001b[38;5;241m=\u001b[39m \u001b[38;5;241m0\u001b[39m, \u001b[38;5;241m0\u001b[39m, \u001b[38;5;241m0\u001b[39m\n\u001b[1;32m      3\u001b[0m \u001b[38;5;28;01mwhile\u001b[39;00m end \u001b[38;5;241m<\u001b[39m target:\n",
      "\u001b[0;31mNameError\u001b[0m: name 'intervals' is not defined"
     ]
    }
   ],
   "source": [
    "intervals.sort()\n",
    "end, count, idx = 0, 0, 0\n",
    "while end < target:\n",
    "    max_reach = end\n",
    "    while idx < len(intervals) and intervals[idx][0] <= end:\n",
    "        max_reach = max(max_reach, intervals[idx][1])\n",
    "        idx += 1\n",
    "    if max_reach == end:\n",
    "        return -1  # 더 이상 확장 불가능\n",
    "    end = max_reach\n",
    "    count += 1"
   ]
  }
 ],
 "metadata": {
  "kernelspec": {
   "display_name": "Python 3",
   "language": "python",
   "name": "python3"
  },
  "language_info": {
   "codemirror_mode": {
    "name": "ipython",
    "version": 3
   },
   "file_extension": ".py",
   "mimetype": "text/x-python",
   "name": "python",
   "nbconvert_exporter": "python",
   "pygments_lexer": "ipython3",
   "version": "3.9.6"
  }
 },
 "nbformat": 4,
 "nbformat_minor": 2
}
