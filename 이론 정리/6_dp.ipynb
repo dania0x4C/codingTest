{
 "cells": [
  {
   "cell_type": "markdown",
   "metadata": {},
   "source": [
    "# dp\n",
    "\n",
    "- DP (Dynamic Programming)\n",
    "- 부분 문제를 저장하여 중복 계산을 피함\n",
    "- 보통 Bottom-U|p (반복문 기반) 방식 사용 → 공간 절약, 빠름\n",
    "- 점화식 세우기 + 초기값 설정 + 반복\n",
    "- 대표 유형: 피보나치 수열, 최소/최대 합, 누적합, 배낭 문제"
   ]
  },
  {
   "cell_type": "markdown",
   "metadata": {},
   "source": [
    "## 1. 1차원 DP – 최소/최대값 누적"
   ]
  },
  {
   "cell_type": "code",
   "execution_count": null,
   "metadata": {},
   "outputs": [],
   "source": [
    "dp = [0] * (n + 1)\n",
    "dp[0] = 0\n",
    "for i in range(1, n + 1):\n",
    "    dp[i] = min(dp[i-1] + cost1[i], dp[i-2] + cost2[i])"
   ]
  },
  {
   "cell_type": "markdown",
   "metadata": {},
   "source": [
    "## 배낭 문제 (Knapsack) – 2차원 or 1차원 압축"
   ]
  },
  {
   "cell_type": "code",
   "execution_count": null,
   "metadata": {},
   "outputs": [],
   "source": [
    "# 2차원 버전\n",
    "dp = [[0] * (W + 1) for _ in range(n + 1)]\n",
    "for i in range(1, n + 1):\n",
    "    for w in range(W + 1):\n",
    "        if weight[i] <= w:\n",
    "            dp[i][w] = max(dp[i-1][w], dp[i-1][w - weight[i]] + value[i])\n",
    "        else:\n",
    "            dp[i][w] = dp[i-1][w]"
   ]
  },
  {
   "cell_type": "markdown",
   "metadata": {},
   "source": [
    "## LIS (가장 긴 증가하는 부분 수열) – O(n²) / O(n log n)"
   ]
  },
  {
   "cell_type": "code",
   "execution_count": null,
   "metadata": {},
   "outputs": [],
   "source": [
    "dp = [1] * n\n",
    "for i in range(n):\n",
    "    for j in range(i):\n",
    "        if arr[j] < arr[i]:\n",
    "            dp[i] = max(dp[i], dp[j] + 1)"
   ]
  },
  {
   "cell_type": "code",
   "execution_count": null,
   "metadata": {},
   "outputs": [],
   "source": [
    "import bisect\n",
    "\n",
    "seq = []\n",
    "for num in arr:\n",
    "    idx = bisect.bisect_left(seq, num)\n",
    "    if idx == len(seq):\n",
    "        seq.append(num)\n",
    "    else:\n",
    "        seq[idx] = num"
   ]
  },
  {
   "cell_type": "markdown",
   "metadata": {},
   "source": [
    "## 구간 DP – 행렬 곱셈 / 팰린드롬 / 파일 합치기"
   ]
  },
  {
   "cell_type": "code",
   "execution_count": null,
   "metadata": {},
   "outputs": [],
   "source": [
    "for size in range(2, n+1):  # 구간 길이\n",
    "    for i in range(n - size + 1):\n",
    "        j = i + size - 1\n",
    "        dp[i][j] = min(dp[i][k] + dp[k+1][j] + cost(i, j) for k in range(i, j))"
   ]
  },
  {
   "cell_type": "markdown",
   "metadata": {},
   "source": [
    "## DP + 비트마스크 (상태 압축)"
   ]
  },
  {
   "cell_type": "code",
   "execution_count": null,
   "metadata": {},
   "outputs": [],
   "source": [
    "MAX = float('inf')\n",
    "dp = [[MAX] * n for _ in range(1 << n)]\n",
    "dp[1][0] = 0  # 시작점: 0번 방문\n",
    "\n",
    "for bit in range(1 << n):\n",
    "    for u in range(n):\n",
    "        if not (bit & (1 << u)): continue\n",
    "        for v in range(n):\n",
    "            if bit & (1 << v): continue\n",
    "            dp[bit | (1 << v)][v] = min(dp[bit | (1 << v)][v], dp[bit][u] + cost[u][v])"
   ]
  },
  {
   "cell_type": "markdown",
   "metadata": {},
   "source": [
    "## DP + 트리 구조 (트리 DP)"
   ]
  },
  {
   "cell_type": "code",
   "execution_count": null,
   "metadata": {},
   "outputs": [],
   "source": [
    "def dfs(u, parent):\n",
    "    dp[u] = value[u]\n",
    "    for v in tree[u]:\n",
    "        if v == parent: continue\n",
    "        dfs(v, u)\n",
    "        dp[u] += max(0, dp[v])  # 하위 노드의 값 중 양수만 누적"
   ]
  },
  {
   "cell_type": "markdown",
   "metadata": {},
   "source": [
    "## DP + 메모이제이션 (탑다운)"
   ]
  },
  {
   "cell_type": "code",
   "execution_count": null,
   "metadata": {},
   "outputs": [],
   "source": [
    "dp = {}\n",
    "\n",
    "def solve(x):\n",
    "    if x in dp:\n",
    "        return dp[x]\n",
    "    # 계산 수행\n",
    "    dp[x] = solve(x-1) + solve(x-2)\n",
    "    return dp[x]"
   ]
  }
 ],
 "metadata": {
  "kernelspec": {
   "display_name": "Python 3",
   "language": "python",
   "name": "python3"
  },
  "language_info": {
   "codemirror_mode": {
    "name": "ipython",
    "version": 3
   },
   "file_extension": ".py",
   "mimetype": "text/x-python",
   "name": "python",
   "nbconvert_exporter": "python",
   "pygments_lexer": "ipython3",
   "version": "3.9.6"
  }
 },
 "nbformat": 4,
 "nbformat_minor": 2
}
