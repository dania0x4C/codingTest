{
 "cells": [
  {
   "cell_type": "markdown",
   "metadata": {},
   "source": [
    "# binarySearch\n",
    "\n",
    "- 정렬된 배열에서 원하는 값을 빠르게 찾음 (O(log N))\n",
    "- 또는 조건을 만족하는 최적의 값 찾기 (파라메트릭 서치)\n",
    "- 정렬 + 이분탐색 (bisect), lower/upper bound 패턴 자주 등장\n",
    "\n"
   ]
  },
  {
   "cell_type": "markdown",
   "metadata": {},
   "source": [
    "## 기본 탐색"
   ]
  },
  {
   "cell_type": "code",
   "execution_count": 2,
   "metadata": {},
   "outputs": [],
   "source": [
    "def binary_search(arr, target):\n",
    "    left, right = 0, len(arr) - 1\n",
    "    while left <= right:\n",
    "        mid = (left + right) // 2\n",
    "        if arr[mid] == target:\n",
    "            return mid\n",
    "        elif arr[mid] < target:\n",
    "            left = mid + 1\n",
    "        else:\n",
    "            right = mid - 1\n",
    "    return -1"
   ]
  },
  {
   "cell_type": "markdown",
   "metadata": {},
   "source": [
    "## 조건 만족하는 최소값/최대값 찾기 (파라메트릭 서치)"
   ]
  },
  {
   "cell_type": "code",
   "execution_count": 3,
   "metadata": {},
   "outputs": [
    {
     "name": "stdout",
     "output_type": "stream",
     "text": [
      "3\n"
     ]
    }
   ],
   "source": [
    "def is_possible(houses, c, dist):\n",
    "    count = 1\n",
    "    last = houses[0]\n",
    "\n",
    "    for i in range(1, len(houses)):\n",
    "        if houses[i] - last >= dist:\n",
    "            count += 1\n",
    "            last = houses[i]\n",
    "\n",
    "    return count >= c\n",
    "\n",
    "def binary_search_max_min_distance(houses, c):\n",
    "    houses.sort()\n",
    "    left = 1\n",
    "    right = houses[-1] - houses[0]\n",
    "    answer = 0\n",
    "\n",
    "    while left <= right:\n",
    "        mid = (left + right) // 2\n",
    "\n",
    "        if is_possible(houses, c, mid):\n",
    "            answer = mid\n",
    "            left = mid + 1\n",
    "        else:\n",
    "            right = mid - 1\n",
    "\n",
    "    return answer\n",
    "\n",
    "# 예시\n",
    "houses = [1, 2, 8, 4, 9]\n",
    "c = 3\n",
    "print(binary_search_max_min_distance(houses, c))  # 결과: 3"
   ]
  },
  {
   "cell_type": "markdown",
   "metadata": {},
   "source": [
    "## Lower Bound / Upper Bound"
   ]
  },
  {
   "cell_type": "code",
   "execution_count": 4,
   "metadata": {},
   "outputs": [
    {
     "name": "stdout",
     "output_type": "stream",
     "text": [
      "1\n",
      "4\n"
     ]
    }
   ],
   "source": [
    "def lower_bound(arr, target):\n",
    "    left, right = 0, len(arr)\n",
    "\n",
    "    while left < right:\n",
    "        mid = (left + right) // 2\n",
    "        if arr[mid] < target:\n",
    "            left = mid + 1\n",
    "        else:\n",
    "            right = mid\n",
    "    return left\n",
    "\n",
    "def upper_bound(arr, target):\n",
    "    left, right = 0, len(arr)\n",
    "\n",
    "    while left < right:\n",
    "        mid = (left + right) // 2\n",
    "        if arr[mid] <= target:\n",
    "            left = mid + 1\n",
    "        else:\n",
    "            right = mid\n",
    "    return left\n",
    "\n",
    "# 예시\n",
    "arr = [1, 2, 2, 2, 3, 4]\n",
    "print(lower_bound(arr, 2))  # 출력: 1\n",
    "print(upper_bound(arr, 2))  # 출력: 4"
   ]
  },
  {
   "cell_type": "markdown",
   "metadata": {},
   "source": [
    "## 이분 탐색 + 누적합"
   ]
  },
  {
   "cell_type": "code",
   "execution_count": null,
   "metadata": {},
   "outputs": [],
   "source": [
    "# 누적합을 이용한 슬라이딩 윈도우 + 이분 탐색\n",
    "\n",
    "def min_length_subarray(arr, target):\n",
    "    n = len(arr)\n",
    "    prefix = [0] * (n + 1)\n",
    "\n",
    "    for i in range(n):\n",
    "        prefix[i + 1] = prefix[i] + arr[i]\n",
    "\n",
    "    def is_possible(length):\n",
    "        for i in range(length, n + 1):\n",
    "            if prefix[i] - prefix[i - length] >= target:\n",
    "                return True\n",
    "        return False\n",
    "\n",
    "    left, right = 1, n\n",
    "    answer = 0\n",
    "\n",
    "    while left <= right:\n",
    "        mid = (left + right) // 2\n",
    "\n",
    "        if is_possible(mid):\n",
    "            answer = mid\n",
    "            right = mid - 1\n",
    "        else:\n",
    "            left = mid + 1\n",
    "\n",
    "    return answer\n",
    "\n",
    "# 예시\n",
    "arr = [2, 3, 1, 2, 4, 3]\n",
    "target = 7\n",
    "print(min_length_subarray(arr, target))  # 결과: 2"
   ]
  }
 ],
 "metadata": {
  "kernelspec": {
   "display_name": "Python 3",
   "language": "python",
   "name": "python3"
  },
  "language_info": {
   "codemirror_mode": {
    "name": "ipython",
    "version": 3
   },
   "file_extension": ".py",
   "mimetype": "text/x-python",
   "name": "python",
   "nbconvert_exporter": "python",
   "pygments_lexer": "ipython3",
   "version": "3.9.6"
  }
 },
 "nbformat": 4,
 "nbformat_minor": 2
}
