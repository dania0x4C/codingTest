{
 "cells": [
  {
   "cell_type": "code",
   "execution_count": 2,
   "metadata": {},
   "outputs": [
    {
     "name": "stdout",
     "output_type": "stream",
     "text": [
      "len = 6\n",
      "index = 4\n",
      "slice = [1, 4, 1]\n",
      "append = [3, 1, 4, 1, 5, 9, 2]\n",
      "pop = [3, 1, 4, 1, 5, 9]\n",
      "index(5) = 4\n",
      "5 in arr = True\n",
      "sorted = [1, 1, 3, 4, 5, 9]\n",
      "sort in-place = [1, 1, 3, 4, 5, 9]\n",
      "copy = [1, 1, 3, 4, 5, 9]\n",
      "squares = [0, 1, 4, 9, 16]\n",
      "2D grid = [[0, 0, 0, 0], [0, 0, 0, 0], [0, 0, 0, 0]]\n",
      "concat = [1, 1, 3, 4, 5, 9, 10, 11]\n",
      "repeat = [1, 1, 1, 1, 1]\n",
      "insert = [1, 1, 8, 3, 4, 5, 9]\n",
      "remove (first 1) = [1, 8, 3, 4, 5, 9]\n",
      "count(1) = 1\n",
      "reversed = [9, 5, 4, 3, 8, 1]\n",
      "shallow copy issue = [[1, 0], [1, 0], [1, 0]]\n"
     ]
    }
   ],
   "source": [
    "# list\n",
    "# 순서가 있는(ordered), 변경 가능한(mutable) 자료구조\n",
    "# Python의 가장 기본적인 시퀀스 타입\n",
    "# 인덱싱, 슬라이싱, 반복, 정렬 등 다양한 기능 제공\n",
    "# 내부는 배열 구조 → 인덱싱 O(1), 중간 삽입/삭제는 O(N)\n",
    "\n",
    "arr = [3, 1, 4, 1, 5, 9]\n",
    "\n",
    "print(\"len =\", len(arr))             # O(1)\n",
    "print(\"index =\", arr[2])             # O(1)\n",
    "print(\"slice =\", arr[1:4])           # O(k)\n",
    "\n",
    "arr.append(2)                        # O(1)\n",
    "print(\"append =\", arr)\n",
    "\n",
    "arr.pop()                            # O(1)\n",
    "print(\"pop =\", arr)\n",
    "\n",
    "print(\"index(5) =\", arr.index(5))    # O(N)\n",
    "print(\"5 in arr =\", 5 in arr)        # O(N)\n",
    "\n",
    "print(\"sorted =\", sorted(arr))       # O(N log N)\n",
    "arr.sort()                           # O(N log N)\n",
    "print(\"sort in-place =\", arr)\n",
    "\n",
    "arr2 = arr.copy()                    # O(N)\n",
    "print(\"copy =\", arr2)\n",
    "\n",
    "# 리스트 컴프리헨션\n",
    "squares = [x * x for x in range(5)]  # O(N)\n",
    "print(\"squares =\", squares)\n",
    "\n",
    "# 2차원 리스트 초기화 (얕은 복사 방지)\n",
    "N, M = 3, 4\n",
    "grid = [[0] * M for _ in range(N)]   # O(N*M)\n",
    "print(\"2D grid =\", grid)\n",
    "\n",
    "# 리스트 연결\n",
    "print(\"concat =\", arr + [10, 11])    # O(N)\n",
    "\n",
    "# 리스트 반복\n",
    "print(\"repeat =\", [1] * 5)           # O(N)\n",
    "\n",
    "# insert: 중간 삽입은 O(N), 큐나 덱 구조가 더 적합\n",
    "arr.insert(2, 8)                     # O(N)\n",
    "print(\"insert =\", arr)\n",
    "\n",
    "# remove: 첫 번째 등장 원소만 제거. 값이 없으면 ValueError\n",
    "arr.remove(1)                        # O(N)\n",
    "print(\"remove (first 1) =\", arr)\n",
    "\n",
    "# count: 많아지면 성능 이슈. 직접 세는 방식이 나을 때도 있음\n",
    "print(\"count(1) =\", arr.count(1))    # O(N)\n",
    "\n",
    "# reverse: 실전에서는 reversed() 슬라이싱 사용이 더 일반적\n",
    "arr.reverse()                        # O(N)\n",
    "print(\"reversed =\", arr)\n",
    "\n",
    "# 얕은 복사 문제 주의\n",
    "shallow = [[0] * 2] * 3\n",
    "shallow[0][0] = 1\n",
    "print(\"shallow copy issue =\", shallow)"
   ]
  },
  {
   "cell_type": "code",
   "execution_count": 4,
   "metadata": {},
   "outputs": [
    {
     "name": "stdout",
     "output_type": "stream",
     "text": [
      "lambda x*2 = 6\n",
      "map(lambda x*2) = [2, 4, 6, 8]\n",
      "filter(even) = [2, 4]\n",
      "sort by len+lex = ['a', 'ab', 'to', 'abc', 'word']\n",
      "sort students = [('hong', 90), ('kim', 90), ('lee', 85)]\n"
     ]
    }
   ],
   "source": [
    "# lambda\n",
    "# 이름 없는 익명 함수\n",
    "# def 없이 간단한 함수를 1줄로 표현할 때 사용\n",
    "# 사용 구조: lambda 매개변수: 반환식\n",
    "# 일반적으로 key, map, filter 등의 인자로 쓰임\n",
    "\n",
    "# 기본 사용: 이름 없는 함수 (익명 함수)\n",
    "f = lambda x: x * 2                  # O(1)\n",
    "print(\"lambda x*2 =\", f(3))          # 6\n",
    "\n",
    "# 리스트에 map + lambda 사용\n",
    "arr = [1, 2, 3, 4]\n",
    "doubled = list(map(lambda x: x * 2, arr))  # O(N)\n",
    "print(\"map(lambda x*2) =\", doubled)\n",
    "\n",
    "# filter + lambda: 짝수만 추출\n",
    "evens = list(filter(lambda x: x % 2 == 0, arr))  # O(N)\n",
    "print(\"filter(even) =\", evens)\n",
    "\n",
    "# 정렬에서 key로 lambda 사용\n",
    "words = ['word', 'a', 'abc', 'to', 'ab']\n",
    "words.sort(key=lambda x: (len(x), x))  # O(N log N)\n",
    "print(\"sort by len+lex =\", words)\n",
    "\n",
    "# 튜플 정렬: 점수 기준 내림차순, 이름은 오름차순\n",
    "students = [('hong', 90), ('lee', 85), ('kim', 90)]\n",
    "students.sort(key=lambda x: (-x[1], x[0]))  # O(N log N)\n",
    "print(\"sort students =\", students)\n"
   ]
  },
  {
   "cell_type": "code",
   "execution_count": 11,
   "metadata": {},
   "outputs": [
    {
     "name": "stdout",
     "output_type": "stream",
     "text": [
      "set = {1, 2, 3}\n",
      "2 in s = True\n",
      "len = 3\n",
      "after add/remove = {2, 3, 4}\n",
      "union = {1, 2, 3, 4}\n",
      "intersection = {2, 3}\n",
      "difference = {1}\n",
      "symmetric diff = {1, 4}\n",
      "deduplicated & sorted = [1, 2, 3, 5]\n"
     ]
    }
   ],
   "source": [
    "# set\n",
    "# 중복을 허용하지 않음, 순서 없음 (unordered)\n",
    "# 내부적으로 해시 기반으로 구현 → in, add, remove 등 O(1)\n",
    "# 수학의 집합과 동일한 연산 제공: |, &, -, ^\n",
    "\n",
    "s = set([1, 2, 3, 2])\n",
    "\n",
    "print(\"set =\", s)                        # 중복 제거됨: {1, 2, 3}\n",
    "print(\"2 in s =\", 2 in s)                # O(1)\n",
    "print(\"len =\", len(s))                  # O(1)\n",
    "\n",
    "s.add(4)                                 # O(1)\n",
    "s.remove(1)                              # O(1)\n",
    "print(\"after add/remove =\", s)\n",
    "\n",
    "# 집합 연산\n",
    "a = {1, 2, 3}\n",
    "b = {2, 3, 4}\n",
    "print(\"union =\", a | b)                 # O(len(a) + len(b))\n",
    "print(\"intersection =\", a & b)\n",
    "print(\"difference =\", a - b)\n",
    "print(\"symmetric diff =\", a ^ b)\n",
    "\n",
    "# 리스트 → 중복 제거 정렬\n",
    "arr = [5, 2, 2, 3, 1]\n",
    "arr = sorted(set(arr))                  # O(N log N)\n",
    "print(\"deduplicated & sorted =\", arr)"
   ]
  },
  {
   "cell_type": "code",
   "execution_count": 5,
   "metadata": {},
   "outputs": [
    {
     "name": "stdout",
     "output_type": "stream",
     "text": [
      "get a = 1\n",
      "a in d = True\n",
      "after insert = {'a': 1, 'b': 2, 'c': 3}\n",
      "after pop = {'a': 1, 'c': 3}\n",
      "keys = ['a', 'c']\n",
      "values = [1, 3]\n",
      "items = [('a', 1), ('c', 3)]\n",
      "a 1\n",
      "c 3\n"
     ]
    }
   ],
   "source": [
    "# dict\n",
    "# 개념 요약\n",
    "# key: value 쌍으로 구성된 해시 기반 자료구조\n",
    "# key는 중복 불가, value는 중복 허용\n",
    "# 삽입/삭제/탐색 평균 O(1)\n",
    "\n",
    "d = {'a': 1, 'b': 2}\n",
    "\n",
    "print(\"get a =\", d.get('a'))         # O(1)\n",
    "print(\"a in d =\", 'a' in d)          # O(1)\n",
    "\n",
    "d['c'] = 3                           # 삽입 O(1)\n",
    "print(\"after insert =\", d)\n",
    "\n",
    "d.pop('b')                           # O(1)\n",
    "print(\"after pop =\", d)\n",
    "\n",
    "print(\"keys =\", list(d.keys()))      # O(N)\n",
    "print(\"values =\", list(d.values()))  # O(N)\n",
    "print(\"items =\", list(d.items()))    # O(N)\n",
    "\n",
    "for k, v in d.items():               # O(N)\n",
    "    print(k, v)"
   ]
  },
  {
   "cell_type": "code",
   "execution_count": 13,
   "metadata": {},
   "outputs": [
    {
     "name": "stdout",
     "output_type": "stream",
     "text": [
      "tuple = (1, 2, 3)\n",
      "t[0] = 1\n",
      "t[1:3] = (2, 3)\n",
      "unpacked: 1 2 3\n",
      "list → tuple = (1, 2, 3)\n",
      "sorted points = [(1, 2), (2, 1), (2, 3)]\n",
      "dict with tuple key = 좌표\n"
     ]
    }
   ],
   "source": [
    "# tuple\n",
    "# **불변(immutable)**한 시퀀스형 자료구조\n",
    "# ()로 생성, 리스트와 비슷하지만 값을 바꿀 수 없음\n",
    "# 정렬 key, 좌표 표현, 딕셔너리 key 등에서 자주 사용됨\n",
    "# 내부 구조가 간단해 리스트보다 메모리와 속도 측면에서 더 효율적\n",
    "\n",
    "# 튜플 생성\n",
    "t = (1, 2, 3)\n",
    "print(\"tuple =\", t)                       # (1, 2, 3)\n",
    "\n",
    "# 인덱싱\n",
    "print(\"t[0] =\", t[0])                     # O(1)\n",
    "\n",
    "# 슬라이싱\n",
    "print(\"t[1:3] =\", t[1:3])                 # O(k)\n",
    "\n",
    "# 튜플은 불변이므로 수정 불가 (다음은 오류 발생)\n",
    "# t[0] = 5  ❌ TypeError\n",
    "\n",
    "# 언팩 (unpacking)\n",
    "a, b, c = t\n",
    "print(\"unpacked:\", a, b, c)\n",
    "\n",
    "# 리스트 → 튜플 변환\n",
    "arr = [1, 2, 3]\n",
    "t2 = tuple(arr)\n",
    "print(\"list → tuple =\", t2)\n",
    "\n",
    "# 튜플 in 리스트 → 정렬 기준 key로 사용\n",
    "points = [(2, 3), (1, 2), (2, 1)]\n",
    "points.sort()                             # O(N log N), 첫 번째 원소 기준 → tie-break: 두 번째\n",
    "print(\"sorted points =\", points)\n",
    "\n",
    "# 튜플을 dict의 key로 사용\n",
    "d = {}\n",
    "d[(1, 2)] = \"좌표\"\n",
    "print(\"dict with tuple key =\", d[(1, 2)])"
   ]
  },
  {
   "cell_type": "code",
   "execution_count": 6,
   "metadata": {},
   "outputs": [
    {
     "name": "stdout",
     "output_type": "stream",
     "text": [
      "pop left = 1\n",
      "queue = deque([2])\n"
     ]
    }
   ],
   "source": [
    "# queue\n",
    "# FIFO 구조 (First-In First-Out)\n",
    "# 파이썬에선 collections.deque\n",
    "\n",
    "from collections import deque\n",
    "q = deque()\n",
    "\n",
    "q.append(1)                      # O(1)\n",
    "q.append(2)\n",
    "print(\"pop left =\", q.popleft())  # O(1)\n",
    "print(\"queue =\", q)"
   ]
  },
  {
   "cell_type": "code",
   "execution_count": 8,
   "metadata": {},
   "outputs": [
    {
     "name": "stdout",
     "output_type": "stream",
     "text": [
      "pop = 2\n",
      "stack = [1]\n"
     ]
    }
   ],
   "source": [
    "# stack\n",
    "# LIFO 구조 (Last-In First-Out)\n",
    "# 파이썬에선 list 또는 deque 사용\n",
    "\n",
    "s = []\n",
    "\n",
    "s.append(1)           # O(1)\n",
    "s.append(2)\n",
    "print(\"pop =\", s.pop())  # O(1)\n",
    "print(\"stack =\", s)"
   ]
  },
  {
   "cell_type": "code",
   "execution_count": 9,
   "metadata": {},
   "outputs": [
    {
     "name": "stdout",
     "output_type": "stream",
     "text": [
      "popleft = 0\n",
      "pop = 4\n",
      "deque = deque([1, 2, 3])\n"
     ]
    }
   ],
   "source": [
    "# deque\n",
    "# 양쪽에서 삽입/삭제 가능한 큐\n",
    "# append, appendleft, pop, popleft 모두 O(1)\n",
    "\n",
    "from collections import deque\n",
    "dq = deque([1, 2, 3])\n",
    "\n",
    "dq.appendleft(0)            # O(1)\n",
    "dq.append(4)\n",
    "print(\"popleft =\", dq.popleft())  # O(1)\n",
    "print(\"pop =\", dq.pop())          # O(1)\n",
    "print(\"deque =\", dq)"
   ]
  },
  {
   "cell_type": "code",
   "execution_count": 12,
   "metadata": {},
   "outputs": [
    {
     "name": "stdout",
     "output_type": "stream",
     "text": [
      "heappop = 1\n",
      "heap = [3, 4]\n"
     ]
    }
   ],
   "source": [
    "# heap\n",
    "# 항상 최솟값/최댓값이 먼저 나오는 자료구조\n",
    "# 파이썬은 기본적으로 Min Heap만 지원 (heapq)\n",
    "# 삽입/삭제 모두 O(log N)\n",
    "\n",
    "import heapq\n",
    "\n",
    "hq = []\n",
    "heapq.heappush(hq, 3)         # O(log N)\n",
    "heapq.heappush(hq, 1)\n",
    "heapq.heappush(hq, 4)\n",
    "print(\"heappop =\", heapq.heappop(hq))  # 1\n",
    "print(\"heap =\", hq)"
   ]
  }
 ],
 "metadata": {
  "kernelspec": {
   "display_name": "Python 3",
   "language": "python",
   "name": "python3"
  },
  "language_info": {
   "codemirror_mode": {
    "name": "ipython",
    "version": 3
   },
   "file_extension": ".py",
   "mimetype": "text/x-python",
   "name": "python",
   "nbconvert_exporter": "python",
   "pygments_lexer": "ipython3",
   "version": "3.9.6"
  }
 },
 "nbformat": 4,
 "nbformat_minor": 2
}
