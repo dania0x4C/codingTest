{
 "cells": [
  {
   "cell_type": "markdown",
   "metadata": {},
   "source": [
    "# implemetation/simulation\n",
    "- 조건을 그대로 코드로 구현 (시뮬레이션 기반)\n",
    "- 격자 이동, 문자열 파싱, 조건문/루프 처리 많음\n",
    "- 방향 배열, 조건 분기, 예외 처리 등 중요"
   ]
  },
  {
   "cell_type": "code",
   "execution_count": 1,
   "metadata": {},
   "outputs": [
    {
     "name": "stdout",
     "output_type": "stream",
     "text": [
      "이동 결과: 3 3\n"
     ]
    }
   ],
   "source": [
    "N = 5\n",
    "x, y = 1, 1\n",
    "plans = ['R', 'R', 'U', 'D', 'D']\n",
    "dx = [0, 0, -1, 1]  # L R U D\n",
    "dy = [-1, 1, 0, 0]\n",
    "direction = ['L', 'R', 'U', 'D']\n",
    "\n",
    "for plan in plans:\n",
    "    for i in range(4):\n",
    "        if plan == direction[i]:\n",
    "            nx = x + dx[i]\n",
    "            ny = y + dy[i]\n",
    "    if 1 <= nx <= N and 1 <= ny <= N:\n",
    "        x, y = nx, ny\n",
    "print(\"이동 결과:\", x, y)  # O(K)"
   ]
  }
 ],
 "metadata": {
  "kernelspec": {
   "display_name": "Python 3",
   "language": "python",
   "name": "python3"
  },
  "language_info": {
   "codemirror_mode": {
    "name": "ipython",
    "version": 3
   },
   "file_extension": ".py",
   "mimetype": "text/x-python",
   "name": "python",
   "nbconvert_exporter": "python",
   "pygments_lexer": "ipython3",
   "version": "3.9.6"
  }
 },
 "nbformat": 4,
 "nbformat_minor": 2
}
