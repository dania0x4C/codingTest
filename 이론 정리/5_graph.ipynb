{
 "cells": [
  {
   "cell_type": "code",
   "execution_count": 5,
   "metadata": {},
   "outputs": [
    {
     "name": "stdout",
     "output_type": "stream",
     "text": [
      "BFS: 1 2 3 4 \n",
      "DFS: 1 2 4 3 "
     ]
    }
   ],
   "source": [
    "# bfs\n",
    "# 그래프의 모든 정점 또는 연결된 부분을 탐색\n",
    "# BFS는 너비 우선 (가까운 노드 먼저), DFS는 깊이 우선 (한 방향 끝까지)\n",
    "from collections import deque\n",
    "\n",
    "graph = {\n",
    "    1: [2, 3],\n",
    "    2: [4],\n",
    "    3: [],\n",
    "    4: []\n",
    "}\n",
    "\n",
    "# BFS: 최단 거리, 다중 시작점, 상태 전이\n",
    "def bfs(start):\n",
    "    visited = set()\n",
    "    queue = deque([start])\n",
    "    visited.add(start)\n",
    "\n",
    "    while queue:\n",
    "        node = queue.popleft()\n",
    "        print(node, end=' ')\n",
    "        for nxt in graph[node]:\n",
    "            if nxt not in visited:\n",
    "                visited.add(nxt)\n",
    "                queue.append(nxt)\n",
    "\n",
    "# DFS: 경로 탐색, 연결 요소, 재귀\n",
    "def dfs(node, visited=set()):\n",
    "    visited.add(node)\n",
    "    print(node, end=' ')\n",
    "    for nxt in graph[node]:\n",
    "        if nxt not in visited:\n",
    "            dfs(nxt, visited)\n",
    "\n",
    "print(\"BFS:\", end=' ')\n",
    "bfs(1)  # 출력: 1 2 3 4\n",
    "\n",
    "print(\"\\nDFS:\", end=' ')\n",
    "dfs(1)  # 출력: 1 2 4 3"
   ]
  },
  {
   "cell_type": "markdown",
   "metadata": {},
   "source": [
    "## DFS 기본 코드 (그래프)"
   ]
  },
  {
   "cell_type": "code",
   "execution_count": null,
   "metadata": {},
   "outputs": [],
   "source": [
    "def dfs(node, visited):\n",
    "    visited[node] = True\n",
    "    for next in graph[node]:\n",
    "        if not visited[next]:\n",
    "            dfs(next, visited)\n",
    "\n",
    "graph = [[...], [...], ...]\n",
    "visited = [False] * n\n",
    "dfs(start, visited)"
   ]
  },
  {
   "cell_type": "markdown",
   "metadata": {},
   "source": [
    "## DFS 기본 코드 (2D 맵)"
   ]
  },
  {
   "cell_type": "code",
   "execution_count": null,
   "metadata": {},
   "outputs": [],
   "source": [
    "def dfs(x, y):\n",
    "    visited[x][y] = True\n",
    "    for dx, dy in directions:\n",
    "        nx, ny = x + dx, y + dy\n",
    "        if 0 <= nx < n and 0 <= ny < m:\n",
    "            if not visited[nx][ny] and board[nx][ny] == 1:\n",
    "                dfs(nx, ny)"
   ]
  },
  {
   "cell_type": "markdown",
   "metadata": {},
   "source": [
    "## BFS 기본 코드 (그래프)"
   ]
  },
  {
   "cell_type": "code",
   "execution_count": null,
   "metadata": {},
   "outputs": [],
   "source": [
    "from collections import deque\n",
    "\n",
    "def bfs(start):\n",
    "    queue = deque([start])\n",
    "    visited[start] = True\n",
    "    while queue:\n",
    "        node = queue.popleft()\n",
    "        for next in graph[node]:\n",
    "            if not visited[next]:\n",
    "                visited[next] = True\n",
    "                queue.append(next)"
   ]
  },
  {
   "cell_type": "markdown",
   "metadata": {},
   "source": [
    "## BFS 기본 코드 (2D 맵, 거리)"
   ]
  },
  {
   "cell_type": "code",
   "execution_count": null,
   "metadata": {},
   "outputs": [],
   "source": [
    "from collections import deque\n",
    "\n",
    "def bfs(x, y):\n",
    "    queue = deque([(x, y)])\n",
    "    visited[x][y] = 0\n",
    "    while queue:\n",
    "        x, y = queue.popleft()\n",
    "        for dx, dy in directions:\n",
    "            nx, ny = x + dx, y + dy\n",
    "            if 0 <= nx < n and 0 <= ny < m:\n",
    "                if visited[nx][ny] == -1 and board[nx][ny] == 1:\n",
    "                    visited[nx][ny] = visited[x][y] + 1\n",
    "                    queue.append((nx, ny))"
   ]
  },
  {
   "cell_type": "code",
   "execution_count": 2,
   "metadata": {},
   "outputs": [
    {
     "name": "stdout",
     "output_type": "stream",
     "text": [
      "위상 정렬 결과: [1, 2, 3, 4, 5, 6]\n"
     ]
    }
   ],
   "source": [
    "# 위상 정렬\n",
    "# 사이클이 없는 방향 그래프(DAG)에서 작업 순서를 결정할 때 사용\n",
    "# 진입 차수(indegree) 0인 노드부터 제거하며 순서 확정\n",
    "from collections import deque\n",
    "\n",
    "N = 6\n",
    "edges = [(1, 2), (1, 3), (3, 4), (2, 4), (4, 5), (5, 6)]\n",
    "graph = [[] for _ in range(N + 1)]\n",
    "indegree = [0] * (N + 1)\n",
    "\n",
    "for a, b in edges:\n",
    "    graph[a].append(b)\n",
    "    indegree[b] += 1\n",
    "\n",
    "queue = deque([i for i in range(1, N + 1) if indegree[i] == 0])\n",
    "result = []\n",
    "\n",
    "while queue:\n",
    "    node = queue.popleft()\n",
    "    result.append(node)\n",
    "    for nxt in graph[node]:\n",
    "        indegree[nxt] -= 1\n",
    "        if indegree[nxt] == 0:\n",
    "            queue.append(nxt)\n",
    "\n",
    "print(\"위상 정렬 결과:\", result)"
   ]
  },
  {
   "cell_type": "markdown",
   "metadata": {},
   "source": [
    "# 유니온 파인드 (Disjoint Set)\n",
    "- 유니온 파인드는 집합을 나누고 합치며, 두 원소가 같은 집합에 속해 있는지를 판별하는 알고리즘이다.  "
   ]
  },
  {
   "cell_type": "markdown",
   "metadata": {},
   "source": [
    "## 1. 기본 구조 (Find / Union)"
   ]
  },
  {
   "cell_type": "code",
   "execution_count": null,
   "metadata": {},
   "outputs": [],
   "source": [
    "# 부모 배열 초기화\n",
    "parent = [i for i in range(n+1)]\n",
    "\n",
    "# Find 함수 (경로 압축 포함)\n",
    "def find(x):\n",
    "    if parent[x] != x:\n",
    "        parent[x] = find(parent[x])\n",
    "    return parent[x]\n",
    "\n",
    "# Union 함수\n",
    "def union(a, b):\n",
    "    a_root = find(a)\n",
    "    b_root = find(b)\n",
    "    if a_root < b_root:\n",
    "        parent[b_root] = a_root\n",
    "    else:\n",
    "        parent[a_root] = b_root"
   ]
  },
  {
   "cell_type": "markdown",
   "metadata": {},
   "source": [
    "## 2. 사이클 판별 (같은 집합 두 노드 연결 시)"
   ]
  },
  {
   "cell_type": "code",
   "execution_count": null,
   "metadata": {},
   "outputs": [],
   "source": [
    "cycle = False\n",
    "for a, b in edges:\n",
    "    if find(a) == find(b):\n",
    "        cycle = True\n",
    "        break\n",
    "    else:\n",
    "        union(a, b)"
   ]
  },
  {
   "cell_type": "markdown",
   "metadata": {},
   "source": [
    "## 3. 크루스칼 MST (최소 신장 트리)"
   ]
  },
  {
   "cell_type": "code",
   "execution_count": null,
   "metadata": {},
   "outputs": [],
   "source": [
    "edges.sort(key=lambda x: x[2])  # 간선 비용 기준 정렬\n",
    "total = 0\n",
    "for a, b, cost in edges:\n",
    "    if find(a) != find(b):\n",
    "        union(a, b)\n",
    "        total += cost"
   ]
  },
  {
   "cell_type": "markdown",
   "metadata": {},
   "source": [
    "## 4. 연결 요소 개수 세기"
   ]
  },
  {
   "cell_type": "code",
   "execution_count": null,
   "metadata": {},
   "outputs": [],
   "source": [
    "components = set()\n",
    "for i in range(1, n+1):\n",
    "    components.add(find(i))\n",
    "count = len(components)"
   ]
  },
  {
   "cell_type": "markdown",
   "metadata": {},
   "source": [
    "## 5. 집합 묶기 문제 (같은 팀 여부 등)"
   ]
  },
  {
   "cell_type": "code",
   "execution_count": null,
   "metadata": {},
   "outputs": [],
   "source": [
    "if find(a) == find(b):\n",
    "    print(\"YES\")\n",
    "else:\n",
    "    print(\"NO\")"
   ]
  },
  {
   "cell_type": "code",
   "execution_count": null,
   "metadata": {},
   "outputs": [
    {
     "name": "stdout",
     "output_type": "stream",
     "text": [
      "위상 정렬 결과: [1, 2, 3, 4, 5, 6]\n"
     ]
    }
   ],
   "source": [
    "# 위상 정렬\n",
    "# 사이클이 없는 방향 그래프(DAG)에서 작업 순서를 결정할 때 사용\n",
    "# 진입 차수(indegree) 0인 노드부터 제거하며 순서 확정\n",
    "from collections import deque\n",
    "\n",
    "N = 6\n",
    "edges = [(1, 2), (1, 3), (3, 4), (2, 4), (4, 5), (5, 6)]\n",
    "graph = [[] for _ in range(N + 1)]\n",
    "indegree = [0] * (N + 1)\n",
    "\n",
    "for a, b in edges:\n",
    "    graph[a].append(b)\n",
    "    indegree[b] += 1\n",
    "\n",
    "queue = deque([i for i in range(1, N + 1) if indegree[i] == 0])\n",
    "result = []\n",
    "\n",
    "while queue:\n",
    "    node = queue.popleft()\n",
    "    result.append(node)\n",
    "    for nxt in graph[node]:\n",
    "        indegree[nxt] -= 1\n",
    "        if indegree[nxt] == 0:\n",
    "            queue.append(nxt)\n",
    "\n",
    "print(\"위상 정렬 결과:\", result)"
   ]
  },
  {
   "cell_type": "code",
   "execution_count": null,
   "metadata": {},
   "outputs": [],
   "source": []
  },
  {
   "cell_type": "markdown",
   "metadata": {},
   "source": [
    "# 트리\n"
   ]
  },
  {
   "cell_type": "markdown",
   "metadata": {},
   "source": [
    "## 1. 부모 노드 찾기 (트리 탐색 기본)"
   ]
  },
  {
   "cell_type": "code",
   "execution_count": null,
   "metadata": {},
   "outputs": [],
   "source": [
    "def dfs(node, parent):\n",
    "    parent_arr[node] = parent\n",
    "    for child in tree[node]:\n",
    "        if child != parent:\n",
    "            dfs(child, node)\n",
    "\n",
    "tree = [[] for _ in range(n+1)]\n",
    "parent_arr = [0] * (n+1)\n",
    "dfs(1, 0)  # 1번이 루트"
   ]
  },
  {
   "cell_type": "markdown",
   "metadata": {},
   "source": [
    "## 2. 서브트리 크기 계산"
   ]
  },
  {
   "cell_type": "code",
   "execution_count": null,
   "metadata": {},
   "outputs": [],
   "source": [
    "def dfs(node, parent):\n",
    "    size[node] = 1\n",
    "    for child in tree[node]:\n",
    "        if child != parent:\n",
    "            dfs(child, node)\n",
    "            size[node] += size[child]\n",
    "\n",
    "size = [0] * (n+1)\n",
    "dfs(1, 0)"
   ]
  },
  {
   "cell_type": "markdown",
   "metadata": {},
   "source": [
    "## 3. 리프 노드 개수 구하기"
   ]
  },
  {
   "cell_type": "code",
   "execution_count": null,
   "metadata": {},
   "outputs": [],
   "source": [
    "def count_leaves(node, parent):\n",
    "    is_leaf = True\n",
    "    for child in tree[node]:\n",
    "        if child != parent:\n",
    "            count_leaves(child, node)\n",
    "            is_leaf = False\n",
    "    if is_leaf:\n",
    "        leaf_count[0] += 1\n",
    "\n",
    "leaf_count = [0]\n",
    "count_leaves(1, 0)"
   ]
  },
  {
   "cell_type": "markdown",
   "metadata": {},
   "source": [
    "## 4. 트리 DP (선택/비선택 방식)"
   ]
  },
  {
   "cell_type": "code",
   "execution_count": null,
   "metadata": {},
   "outputs": [
    {
     "name": "stdout",
     "output_type": "stream",
     "text": [
      "위상 정렬 결과: [1, 2, 3, 4, 5, 6]\n"
     ]
    }
   ],
   "source": [
    "# 위상 정렬\n",
    "# 사이클이 없는 방향 그래프(DAG)에서 작업 순서를 결정할 때 사용\n",
    "# 진입 차수(indegree) 0인 노드부터 제거하며 순서 확정\n",
    "from collections import deque\n",
    "\n",
    "N = 6\n",
    "edges = [(1, 2), (1, 3), (3, 4), (2, 4), (4, 5), (5, 6)]\n",
    "graph = [[] for _ in range(N + 1)]\n",
    "indegree = [0] * (N + 1)\n",
    "\n",
    "for a, b in edges:\n",
    "    graph[a].append(b)\n",
    "    indegree[b] += 1\n",
    "\n",
    "queue = deque([i for i in range(1, N + 1) if indegree[i] == 0])\n",
    "result = []\n",
    "\n",
    "while queue:\n",
    "    node = queue.popleft()\n",
    "    result.append(node)\n",
    "    for nxt in graph[node]:\n",
    "        indegree[nxt] -= 1\n",
    "        if indegree[nxt] == 0:\n",
    "            queue.append(nxt)\n",
    "\n",
    "print(\"위상 정렬 결과:\", result)"
   ]
  }
 ],
 "metadata": {
  "kernelspec": {
   "display_name": "Python 3",
   "language": "python",
   "name": "python3"
  },
  "language_info": {
   "codemirror_mode": {
    "name": "ipython",
    "version": 3
   },
   "file_extension": ".py",
   "mimetype": "text/x-python",
   "name": "python",
   "nbconvert_exporter": "python",
   "pygments_lexer": "ipython3",
   "version": "3.9.6"
  }
 },
 "nbformat": 4,
 "nbformat_minor": 2
}
