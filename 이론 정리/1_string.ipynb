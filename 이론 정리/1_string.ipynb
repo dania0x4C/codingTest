{
 "cells": [
  {
   "cell_type": "markdown",
   "metadata": {},
   "source": [
    "# String (문자열)\n",
    "\n",
    "## 문자열이란\n",
    "- 문자들의 순서 있는 집합 (sequence of characters)\n",
    "- 작은따옴표('') 또는 큰따옴표(\"\")로 감싼 표현\n",
    "\n",
    "## 문자열의 특징\n",
    "- **불변(Immutable)**: 한 번 생성된 문자열은 수정할 수 없음  \n",
    "- **시퀀스 자료형**: 인덱싱, 슬라이싱, 반복 가능  \n",
    "- **반복 가능(Iterable)**: `for`문 등에서 문자 단위 순회 가능\n",
    "\n",
    "## 문자열과 관련된 성질\n",
    "- `sorted(s)` → **문자열을 정렬한 문자 리스트 반환**  \n",
    "  → 문자열 자체는 list 내장함수인 `.sort()` 사용 불가능  \n",
    "  → `''.join(sorted(s))`으로 문자열로 재조립 가능 \n",
    "  \n",
    "  문자열 -> 정렬된 리스트 -> 문자열로 변형\n",
    "\n",
    "## 문자열은 리스트와 다름\n",
    "- 문자열은 문자 하나하나로 구성된 **불변 시퀀스**\n",
    "- 리스트는 가변(mutable)하고 다양한 자료형을 담을 수 있음"
   ]
  },
  {
   "cell_type": "code",
   "execution_count": 67,
   "metadata": {},
   "outputs": [
    {
     "name": "stdout",
     "output_type": "stream",
     "text": [
      "len = 9\n",
      "index =  \n",
      "slice = ab\n",
      "upper =  AB C, DE\n",
      "lower =  ab c, de\n",
      "strip = ab c, de\n",
      "split = [' ab c', ' de']\n",
      "clean = ['ab', 'c', 'de']\n",
      "find = 1\n",
      "replace =  fb c, de\n",
      "reverse = ed ,c ba \n",
      "isalnum = False\n",
      "isalpha = False\n",
      "isdigit = False\n",
      "count = 1\n",
      "'ab' in word = True\n",
      "sorted join = abcde\n",
      "counter = Counter({' ': 3, 'a': 1, 'b': 1, 'c': 1, ',': 1, 'd': 1, 'e': 1})\n",
      "ord(a) = 97\n",
      "chr(97) = a\n"
     ]
    }
   ],
   "source": [
    "from collections import Counter\n",
    "\n",
    "word = ' ab c, de'\n",
    "list = '1, 2, 3, 4'\n",
    "\n",
    "print(\"len =\", len(word))                    # O(1)\n",
    "print(\"index =\", word[3])                    # O(1)\n",
    "print(\"slice =\", word[1:3])                  # O(k)\n",
    "\n",
    "upperWord = word.upper()                     # O(N)\n",
    "print(\"upper =\", upperWord)\n",
    "print(\"lower =\", upperWord.lower())          # O(N)\n",
    "\n",
    "print(\"strip =\", word.strip())               # O(N)\n",
    "print(\"split =\", word.split(','))            # O(N)\n",
    "\n",
    "print(\"clean =\", word.strip().replace(',', '').split())  # O(N) 전처리\n",
    "\n",
    "print(\"find =\", word.find('ab'))             # O(N)\n",
    "print(\"replace =\", word.replace('a', 'f'))   # O(N)\n",
    "print(\"reverse =\", word[::-1])               # O(N)\n",
    "\n",
    "print(\"isalnum =\", word.isalnum())           # O(N)\n",
    "print(\"isalpha =\", word.isalpha())           # O(N)\n",
    "print(\"isdigit =\", word.isdigit())           # O(N)\n",
    "print(\"count =\", word.count('a'))            # O(N)\n",
    "print(\"'ab' in word =\", 'ab' in word)        # O(N)\n",
    "\n",
    "arr = word.strip().replace(',', '').split()\n",
    "print(\"sorted join =\", ''.join(sorted(arr))) # O(N log N) 리스트를 문자열로 바꿔줌\n",
    "\n",
    "print(\"counter =\", Counter(word))            # O(N)\n",
    "\n",
    "print(\"ord(a) =\", ord('a'))                  # O(1)\n",
    "print(\"chr(97) =\", chr(97))                  # O(1)"
   ]
  },
  {
   "cell_type": "code",
   "execution_count": null,
   "metadata": {},
   "outputs": [],
   "source": []
  }
 ],
 "metadata": {
  "kernelspec": {
   "display_name": "Python 3",
   "language": "python",
   "name": "python3"
  },
  "language_info": {
   "codemirror_mode": {
    "name": "ipython",
    "version": 3
   },
   "file_extension": ".py",
   "mimetype": "text/x-python",
   "name": "python",
   "nbconvert_exporter": "python",
   "pygments_lexer": "ipython3",
   "version": "3.9.6"
  }
 },
 "nbformat": 4,
 "nbformat_minor": 2
}
