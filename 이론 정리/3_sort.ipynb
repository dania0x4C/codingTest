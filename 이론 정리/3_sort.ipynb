{
 "cells": [
  {
   "cell_type": "code",
   "execution_count": 1,
   "metadata": {},
   "outputs": [
    {
     "name": "stdout",
     "output_type": "stream",
     "text": [
      "sorted = [1, 2, 5, 7, 9]\n",
      "sort in-place = [1, 2, 5, 7, 9]\n",
      "descending = [9, 7, 5, 2, 1]\n",
      "sort by default = [(2, 5), (3, 0), (3, 1)]\n",
      "sort by (x[1], -x[0]) = [(3, 0), (3, 1), (2, 5)]\n",
      "sort by length = ['dog', 'cat', 'apple', 'banana']\n",
      "sort by len+lex = ['a', 'ab', 'to', 'abc', 'word']\n",
      "sorted set = [1, 2, 4]\n"
     ]
    }
   ],
   "source": [
    "# 기본 리스트\n",
    "arr = [5, 2, 9, 1, 7]\n",
    "\n",
    "# 기본 오름차순 정렬\n",
    "print(\"sorted =\", sorted(arr))       # O(N log N)\n",
    "arr.sort()                           # O(N log N)\n",
    "print(\"sort in-place =\", arr)\n",
    "\n",
    "# 내림차순 정렬\n",
    "arr.sort(reverse=True)               # O(N log N)\n",
    "print(\"descending =\", arr)\n",
    "\n",
    "# 리스트 복원\n",
    "arr = [5, 2, 9, 1, 7]\n",
    "\n",
    "# 튜플 리스트 정렬\n",
    "pairs = [(3, 1), (2, 5), (3, 0)]\n",
    "pairs.sort()                         # O(N log N), 첫 원소 기준\n",
    "print(\"sort by default =\", pairs)\n",
    "\n",
    "# 복합 기준 정렬: 1번 오름차순, 같으면 0번 내림차순\n",
    "pairs.sort(key=lambda x: (x[1], -x[0]))  # O(N log N)\n",
    "print(\"sort by (x[1], -x[0]) =\", pairs)\n",
    "\n",
    "# 문자열 길이 기준 정렬\n",
    "words = ['apple', 'dog', 'banana', 'cat']\n",
    "words.sort(key=len)                  # O(N log N)\n",
    "print(\"sort by length =\", words)\n",
    "\n",
    "# 문자열 정렬: 길이순, 사전순\n",
    "words = ['word', 'a', 'abc', 'to', 'ab']\n",
    "words.sort(key=lambda x: (len(x), x))   # O(N log N)\n",
    "print(\"sort by len+lex =\", words)\n",
    "\n",
    "# 중복 제거 후 정렬 (좌표 압축 등에 사용)\n",
    "nums = [4, 2, 4, 1, 2]\n",
    "compressed = sorted(set(nums))      # O(N log N)\n",
    "print(\"sorted set =\", compressed)"
   ]
  },
  {
   "cell_type": "code",
   "execution_count": 8,
   "metadata": {},
   "outputs": [
    {
     "name": "stdout",
     "output_type": "stream",
     "text": [
      "[(4, 0), (3, 1), (2, 5)]\n"
     ]
    }
   ],
   "source": [
    "pairs = [(3, 1), (2, 5), (4, 0)]\n",
    "\n",
    "sortedArr = sorted(pairs, key = lambda x: (x[1], -x[0]))\n",
    "print(sortedArr)"
   ]
  }
 ],
 "metadata": {
  "kernelspec": {
   "display_name": "Python 3",
   "language": "python",
   "name": "python3"
  },
  "language_info": {
   "codemirror_mode": {
    "name": "ipython",
    "version": 3
   },
   "file_extension": ".py",
   "mimetype": "text/x-python",
   "name": "python",
   "nbconvert_exporter": "python",
   "pygments_lexer": "ipython3",
   "version": "3.9.6"
  }
 },
 "nbformat": 4,
 "nbformat_minor": 2
}
