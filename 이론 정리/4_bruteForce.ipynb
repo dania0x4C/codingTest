{
 "cells": [
  {
   "cell_type": "markdown",
   "metadata": {},
   "source": [
    "# combination\n",
    "- 조합 (combinations): 순서를 고려하지 않고 n개 중 r개를 선택합니다.\n",
    "- 순열 (permutations): 순서를 고려해서 n개 중 r개를 나열합니다.\n",
    "- 중복 조합 (combinations_with_replacement): 같은 원소를 여러 번 선택할 수 있는 조합입니다.\n",
    "- 부분 집합 (subset): 원소의 유무(선택/비선택)를 기준으로 만들어지며, 총 2ⁿ개의 경우가 생성됩니다.\n",
    "- 부분 수열 (subsequence): 원소의 순서를 유지한 채 일부만 뽑는 것으로, 부분 집합과는 순서 유지 여부에서 차이가 납니다."
   ]
  },
  {
   "cell_type": "code",
   "execution_count": 3,
   "metadata": {},
   "outputs": [
    {
     "name": "stdout",
     "output_type": "stream",
     "text": [
      "[조합] 2개 뽑기:\n",
      "(1, 2)\n",
      "(1, 3)\n",
      "(2, 3)\n",
      "\n",
      "[순열] 2개 나열:\n",
      "(1, 2)\n",
      "(1, 3)\n",
      "(2, 1)\n",
      "(2, 3)\n",
      "(3, 1)\n",
      "(3, 2)\n",
      "\n",
      "[중복 조합] 2개 뽑기:\n",
      "(1, 1)\n",
      "(1, 2)\n",
      "(1, 3)\n",
      "(2, 2)\n",
      "(2, 3)\n",
      "(3, 3)\n"
     ]
    }
   ],
   "source": [
    "from itertools import combinations, permutations, combinations_with_replacement\n",
    "\n",
    "# ✅ 1. 조합 (Combination)\n",
    "arr = [1, 2, 3]\n",
    "print(\"[조합] 2개 뽑기:\")\n",
    "for comb in combinations(arr, 2):         # O(nCr)\n",
    "    print(comb)                           # (1, 2), (1, 3), (2, 3)\n",
    "\n",
    "# ✅ 2. 순열 (Permutation)\n",
    "print(\"\\n[순열] 2개 나열:\")\n",
    "for perm in permutations(arr, 2):         # O(nPr)\n",
    "    print(perm)                           # (1, 2), (1, 3), ...\n",
    "\n",
    "# ✅ 3. 중복 조합 (Combination with Replacement)\n",
    "print(\"\\n[중복 조합] 2개 뽑기:\")\n",
    "for comb in combinations_with_replacement(arr, 2):  # O((n+r-1)Cr)\n",
    "    print(comb)                                     # (1, 1), (1, 2), ...\n"
   ]
  },
  {
   "cell_type": "code",
   "execution_count": 4,
   "metadata": {},
   "outputs": [
    {
     "name": "stdout",
     "output_type": "stream",
     "text": [
      "[]\n",
      "[1]\n",
      "[2]\n",
      "[1, 2]\n",
      "[3]\n",
      "[1, 3]\n",
      "[2, 3]\n",
      "[1, 2, 3]\n"
     ]
    }
   ],
   "source": [
    "# 부분집합 - 비트마스크 방식\n",
    "# 집합 arr의 모든 부분 집합을 구함\n",
    "# 비트마스크 방식은 0 ~ 2^n - 1의 이진수를 포함 여부로 해석함\n",
    "\n",
    "n = len(arr)\n",
    "for i in range(1 << n):  # 2^n 개의 조합\n",
    "    subset = [arr[j] for j in range(n) if (i & (1 << j))]\n",
    "    print(subset)\n",
    "\n"
   ]
  },
  {
   "cell_type": "code",
   "execution_count": 5,
   "metadata": {},
   "outputs": [
    {
     "name": "stdout",
     "output_type": "stream",
     "text": [
      "[[1, 2, 4], [2, 5], [3, 4]]\n"
     ]
    }
   ],
   "source": [
    "# 순서가 유지된 **모든 부분 수열(subsequence)**을 재귀적으로 탐색\n",
    "# path는 현재 선택된 수열\n",
    "# start는 탐색 시작 위치 → 중복 방지\n",
    "\n",
    "target = 7\n",
    "result = []\n",
    "\n",
    "def backtrack(start, path):\n",
    "    if sum(path) > target:\n",
    "        return  # 👉 조건 만족 못하면 더 안 내려감 (가지치기)\n",
    "\n",
    "    if sum(path) == target:\n",
    "        result.append(path[:])\n",
    "        return  # 👉 목표 달성했으면 종료\n",
    "\n",
    "    for i in range(start, len(arr)):\n",
    "        path.append(arr[i])\n",
    "        backtrack(i + 1, path)\n",
    "        path.pop()\n",
    "\n",
    "arr = [1, 2, 3, 4, 5]\n",
    "backtrack(0, [])\n",
    "print(result)"
   ]
  }
 ],
 "metadata": {
  "kernelspec": {
   "display_name": "Python 3",
   "language": "python",
   "name": "python3"
  },
  "language_info": {
   "codemirror_mode": {
    "name": "ipython",
    "version": 3
   },
   "file_extension": ".py",
   "mimetype": "text/x-python",
   "name": "python",
   "nbconvert_exporter": "python",
   "pygments_lexer": "ipython3",
   "version": "3.9.6"
  }
 },
 "nbformat": 4,
 "nbformat_minor": 2
}
